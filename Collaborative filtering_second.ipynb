{
 "cells": [
  {
   "cell_type": "code",
   "execution_count": 1,
   "metadata": {},
   "outputs": [
    {
     "name": "stdout",
     "output_type": "stream",
     "text": [
      "Starting Spark application\n"
     ]
    },
    {
     "data": {
      "text/html": [
       "<table>\n",
       "<tr><th>ID</th><th>YARN Application ID</th><th>Kind</th><th>State</th><th>Spark UI</th><th>Driver log</th><th>Current session?</th></tr><tr><td>2</td><td>application_1607009916543_0003</td><td>pyspark</td><td>idle</td><td><a target=\"_blank\" href=\"http://ip-172-31-92-7.ec2.internal:20888/proxy/application_1607009916543_0003/\">Link</a></td><td><a target=\"_blank\" href=\"http://ip-172-31-92-66.ec2.internal:8042/node/containerlogs/container_1607009916543_0003_01_000001/livy\">Link</a></td><td>✔</td></tr></table>"
      ],
      "text/plain": [
       "<IPython.core.display.HTML object>"
      ]
     },
     "metadata": {},
     "output_type": "display_data"
    },
    {
     "data": {
      "application/vnd.jupyter.widget-view+json": {
       "model_id": "",
       "version_major": 2,
       "version_minor": 0
      },
      "text/plain": [
       "FloatProgress(value=0.0, bar_style='info', description='Progress:', layout=Layout(height='25px', width='50%'),…"
      ]
     },
     "metadata": {},
     "output_type": "display_data"
    },
    {
     "name": "stdout",
     "output_type": "stream",
     "text": [
      "SparkSession available as 'spark'.\n"
     ]
    },
    {
     "data": {
      "application/vnd.jupyter.widget-view+json": {
       "model_id": "",
       "version_major": 2,
       "version_minor": 0
      },
      "text/plain": [
       "FloatProgress(value=0.0, bar_style='info', description='Progress:', layout=Layout(height='25px', width='50%'),…"
      ]
     },
     "metadata": {},
     "output_type": "display_data"
    },
    {
     "name": "stdout",
     "output_type": "stream",
     "text": [
      "'1000M'"
     ]
    }
   ],
   "source": [
    "spark.sparkContext.getConf().get('spark.driver.memory')"
   ]
  },
  {
   "cell_type": "code",
   "execution_count": 2,
   "metadata": {},
   "outputs": [
    {
     "name": "stdout",
     "output_type": "stream",
     "text": [
      "Starting Spark application\n"
     ]
    },
    {
     "data": {
      "text/html": [
       "<table>\n",
       "<tr><th>ID</th><th>YARN Application ID</th><th>Kind</th><th>State</th><th>Spark UI</th><th>Driver log</th><th>Current session?</th></tr><tr><td>3</td><td>application_1607009916543_0004</td><td>pyspark</td><td>idle</td><td><a target=\"_blank\" href=\"http://ip-172-31-92-7.ec2.internal:20888/proxy/application_1607009916543_0004/\">Link</a></td><td><a target=\"_blank\" href=\"http://ip-172-31-82-126.ec2.internal:8042/node/containerlogs/container_1607009916543_0004_01_000001/livy\">Link</a></td><td>✔</td></tr></table>"
      ],
      "text/plain": [
       "<IPython.core.display.HTML object>"
      ]
     },
     "metadata": {},
     "output_type": "display_data"
    },
    {
     "data": {
      "application/vnd.jupyter.widget-view+json": {
       "model_id": "",
       "version_major": 2,
       "version_minor": 0
      },
      "text/plain": [
       "FloatProgress(value=0.0, bar_style='info', description='Progress:', layout=Layout(height='25px', width='50%'),…"
      ]
     },
     "metadata": {},
     "output_type": "display_data"
    },
    {
     "name": "stdout",
     "output_type": "stream",
     "text": [
      "SparkSession available as 'spark'.\n"
     ]
    },
    {
     "data": {
      "text/html": [
       "Current session configs: <tt>{'driverMemory': '8000M', 'proxyUser': 'jovyan', 'kind': 'pyspark'}</tt><br>"
      ],
      "text/plain": [
       "<IPython.core.display.HTML object>"
      ]
     },
     "metadata": {},
     "output_type": "display_data"
    },
    {
     "data": {
      "text/html": [
       "<table>\n",
       "<tr><th>ID</th><th>YARN Application ID</th><th>Kind</th><th>State</th><th>Spark UI</th><th>Driver log</th><th>Current session?</th></tr><tr><td>3</td><td>application_1607009916543_0004</td><td>pyspark</td><td>idle</td><td><a target=\"_blank\" href=\"http://ip-172-31-92-7.ec2.internal:20888/proxy/application_1607009916543_0004/\">Link</a></td><td><a target=\"_blank\" href=\"http://ip-172-31-82-126.ec2.internal:8042/node/containerlogs/container_1607009916543_0004_01_000001/livy\">Link</a></td><td>✔</td></tr></table>"
      ],
      "text/plain": [
       "<IPython.core.display.HTML object>"
      ]
     },
     "metadata": {},
     "output_type": "display_data"
    }
   ],
   "source": [
    "%%configure -f \n",
    "{\"driverMemory\": \"8000M\"}"
   ]
  },
  {
   "cell_type": "code",
   "execution_count": 3,
   "metadata": {},
   "outputs": [
    {
     "data": {
      "application/vnd.jupyter.widget-view+json": {
       "model_id": "",
       "version_major": 2,
       "version_minor": 0
      },
      "text/plain": [
       "FloatProgress(value=0.0, bar_style='info', description='Progress:', layout=Layout(height='25px', width='50%'),…"
      ]
     },
     "metadata": {},
     "output_type": "display_data"
    }
   ],
   "source": [
    "from pyspark.sql import SQLContext\n",
    "from pyspark.sql.types import IntegerType, StringType, StructField, StructType\n",
    "sc._jsc.hadoopConfiguration().set(\"fs.s3a.endpoint\", \"s3.us-east-1.amazonaws.com\")\n",
    "sqlContext = SQLContext(sc)\n",
    "\n",
    "match = sqlContext.read.format('com.databricks.spark.csv').option('delimiter', '\\t').load('s3://millionsongprocessed/train_triplets.txt')\n",
    "match = match.rdd.map(lambda p: (p[0], p[1], int(p[2])))\n",
    "\n",
    "schemaTaste = StructType([StructField(\"user_id\", StringType(), True), StructField(\"song_id\", StringType(), True), StructField(\"playcount\", IntegerType(), True)])\n",
    "triplets = sqlContext.createDataFrame(match, schema=schemaTaste)"
   ]
  },
  {
   "cell_type": "code",
   "execution_count": 4,
   "metadata": {},
   "outputs": [
    {
     "data": {
      "application/vnd.jupyter.widget-view+json": {
       "model_id": "",
       "version_major": 2,
       "version_minor": 0
      },
      "text/plain": [
       "FloatProgress(value=0.0, bar_style='info', description='Progress:', layout=Layout(height='25px', width='50%'),…"
      ]
     },
     "metadata": {},
     "output_type": "display_data"
    },
    {
     "name": "stdout",
     "output_type": "stream",
     "text": [
      "+--------------------+------------------+---------+\n",
      "|             user_id|           song_id|playcount|\n",
      "+--------------------+------------------+---------+\n",
      "|b80344d063b5ccb32...|SOAKIMP12A8C130995|        1|\n",
      "|b80344d063b5ccb32...|SOAPDEY12A81C210A9|        1|\n",
      "|b80344d063b5ccb32...|SOBBMDR12A8C13253B|        2|\n",
      "|b80344d063b5ccb32...|SOBFNSP12AF72A0E22|        1|\n",
      "|b80344d063b5ccb32...|SOBFOVM12A58A7D494|        1|\n",
      "|b80344d063b5ccb32...|SOBNZDC12A6D4FC103|        1|\n",
      "|b80344d063b5ccb32...|SOBSUJE12A6D4F8CF5|        2|\n",
      "|b80344d063b5ccb32...|SOBVFZR12A6D4F8AE3|        1|\n",
      "|b80344d063b5ccb32...|SOBXALG12A8C13C108|        1|\n",
      "|b80344d063b5ccb32...|SOBXHDL12A81C204C0|        1|\n",
      "+--------------------+------------------+---------+\n",
      "only showing top 10 rows"
     ]
    }
   ],
   "source": [
    "triplets.show(10)"
   ]
  },
  {
   "cell_type": "code",
   "execution_count": 5,
   "metadata": {},
   "outputs": [
    {
     "data": {
      "application/vnd.jupyter.widget-view+json": {
       "model_id": "",
       "version_major": 2,
       "version_minor": 0
      },
      "text/plain": [
       "FloatProgress(value=0.0, bar_style='info', description='Progress:', layout=Layout(height='25px', width='50%'),…"
      ]
     },
     "metadata": {},
     "output_type": "display_data"
    }
   ],
   "source": [
    "from pyspark.sql import functions as F\n",
    "# read mismatches\n",
    "mismatches = (\n",
    "    spark.read.text('s3://millionsongprocessed/mismatch.txt')\n",
    "    .select(\n",
    "        F.trim(F.col('value').substr(9, 18)).alias('song_id').cast(StringType()),\n",
    "        F.trim(F.col('value').substr(28, 18)).alias('track_id').cast(StringType())\n",
    "    )\n",
    ")"
   ]
  },
  {
   "cell_type": "code",
   "execution_count": 6,
   "metadata": {},
   "outputs": [
    {
     "data": {
      "application/vnd.jupyter.widget-view+json": {
       "model_id": "",
       "version_major": 2,
       "version_minor": 0
      },
      "text/plain": [
       "FloatProgress(value=0.0, bar_style='info', description='Progress:', layout=Layout(height='25px', width='50%'),…"
      ]
     },
     "metadata": {},
     "output_type": "display_data"
    },
    {
     "name": "stdout",
     "output_type": "stream",
     "text": [
      "+------------------+------------------+\n",
      "|           song_id|          track_id|\n",
      "+------------------+------------------+\n",
      "|SOUMNSI12AB0182807|TRMMGKQ128F9325E10|\n",
      "|SOCMRBE12AB018C546|TRMMREB12903CEB1B1|\n",
      "|SOLPHZY12AC468ABA8|TRMMBOC12903CEB46E|\n",
      "|SONGHTM12A8C1374EF|TRMMITP128F425D8D0|\n",
      "|SONGXCA12A8C13E82E|TRMMAYZ128F429ECE6|\n",
      "|SOMBCRC12A67ADA435|TRMMNVU128EF343EED|\n",
      "|SOTDWDK12A8C13617B|TRMMNCZ128F426FF0E|\n",
      "|SOEBURP12AB018C2FB|TRMMPBS12903CE90E1|\n",
      "|SOSRJHS12A6D4FDAA3|TRMWMEL128F421DA68|\n",
      "|SOIYAAQ12A6D4F954A|TRMWHRI128F147EA8E|\n",
      "+------------------+------------------+\n",
      "only showing top 10 rows"
     ]
    }
   ],
   "source": [
    "mismatches.show(10)"
   ]
  },
  {
   "cell_type": "code",
   "execution_count": 7,
   "metadata": {},
   "outputs": [
    {
     "data": {
      "application/vnd.jupyter.widget-view+json": {
       "model_id": "",
       "version_major": 2,
       "version_minor": 0
      },
      "text/plain": [
       "FloatProgress(value=0.0, bar_style='info', description='Progress:', layout=Layout(height='25px', width='50%'),…"
      ]
     },
     "metadata": {},
     "output_type": "display_data"
    }
   ],
   "source": [
    "triplets = triplets.join(mismatches, on=\"song_id\", how='left_anti')"
   ]
  },
  {
   "cell_type": "code",
   "execution_count": 8,
   "metadata": {},
   "outputs": [
    {
     "data": {
      "application/vnd.jupyter.widget-view+json": {
       "model_id": "",
       "version_major": 2,
       "version_minor": 0
      },
      "text/plain": [
       "FloatProgress(value=0.0, bar_style='info', description='Progress:', layout=Layout(height='25px', width='50%'),…"
      ]
     },
     "metadata": {},
     "output_type": "display_data"
    },
    {
     "name": "stdout",
     "output_type": "stream",
     "text": [
      "+------------------+--------------------+---------+\n",
      "|           song_id|             user_id|playcount|\n",
      "+------------------+--------------------+---------+\n",
      "|SOAKIMP12A8C130995|b80344d063b5ccb32...|        1|\n",
      "|SOAPDEY12A81C210A9|b80344d063b5ccb32...|        1|\n",
      "|SOBBMDR12A8C13253B|b80344d063b5ccb32...|        2|\n",
      "|SOBFNSP12AF72A0E22|b80344d063b5ccb32...|        1|\n",
      "|SOBFOVM12A58A7D494|b80344d063b5ccb32...|        1|\n",
      "|SOBNZDC12A6D4FC103|b80344d063b5ccb32...|        1|\n",
      "|SOBSUJE12A6D4F8CF5|b80344d063b5ccb32...|        2|\n",
      "|SOBVFZR12A6D4F8AE3|b80344d063b5ccb32...|        1|\n",
      "|SOBXALG12A8C13C108|b80344d063b5ccb32...|        1|\n",
      "|SOBXHDL12A81C204C0|b80344d063b5ccb32...|        1|\n",
      "+------------------+--------------------+---------+\n",
      "only showing top 10 rows"
     ]
    }
   ],
   "source": [
    "triplets.show(10)"
   ]
  },
  {
   "cell_type": "code",
   "execution_count": 9,
   "metadata": {},
   "outputs": [
    {
     "data": {
      "application/vnd.jupyter.widget-view+json": {
       "model_id": "",
       "version_major": 2,
       "version_minor": 0
      },
      "text/plain": [
       "FloatProgress(value=0.0, bar_style='info', description='Progress:', layout=Layout(height='25px', width='50%'),…"
      ]
     },
     "metadata": {},
     "output_type": "display_data"
    },
    {
     "name": "stdout",
     "output_type": "stream",
     "text": [
      "1019318"
     ]
    }
   ],
   "source": [
    "# count unique user_id\n",
    "triplets.select('user_id').dropDuplicates().count()"
   ]
  },
  {
   "cell_type": "code",
   "execution_count": 10,
   "metadata": {},
   "outputs": [
    {
     "data": {
      "application/vnd.jupyter.widget-view+json": {
       "model_id": "",
       "version_major": 2,
       "version_minor": 0
      },
      "text/plain": [
       "FloatProgress(value=0.0, bar_style='info', description='Progress:', layout=Layout(height='25px', width='50%'),…"
      ]
     },
     "metadata": {},
     "output_type": "display_data"
    },
    {
     "name": "stdout",
     "output_type": "stream",
     "text": [
      "378309"
     ]
    }
   ],
   "source": [
    "# count unique song_id\n",
    "triplets.select('song_id').dropDuplicates().count()"
   ]
  },
  {
   "cell_type": "code",
   "execution_count": 11,
   "metadata": {},
   "outputs": [
    {
     "data": {
      "application/vnd.jupyter.widget-view+json": {
       "model_id": "",
       "version_major": 2,
       "version_minor": 0
      },
      "text/plain": [
       "FloatProgress(value=0.0, bar_style='info', description='Progress:', layout=Layout(height='25px', width='50%'),…"
      ]
     },
     "metadata": {},
     "output_type": "display_data"
    },
    {
     "name": "stdout",
     "output_type": "stream",
     "text": [
      "('093cb74eb3c517c5179ae24caf0ebec51b24d2a2', 195)"
     ]
    }
   ],
   "source": [
    "# most active users\n",
    "active = (\n",
    "    triplets\n",
    "    .groupBy('user_id')\n",
    "    .agg(\n",
    "        F.sum('playcount').alias('playcount'),\n",
    "        F.collect_list('song_id').alias('songs')\n",
    "    )\n",
    "    .orderBy('playcount', ascending=False)\n",
    "    .limit(1)\n",
    "    .rdd.take(1)[0]\n",
    ")\n",
    "active.__getattr__('user_id'), len(active.__getattr__('songs'))"
   ]
  },
  {
   "cell_type": "code",
   "execution_count": 12,
   "metadata": {},
   "outputs": [
    {
     "data": {
      "application/vnd.jupyter.widget-view+json": {
       "model_id": "",
       "version_major": 2,
       "version_minor": 0
      },
      "text/plain": [
       "FloatProgress(value=0.0, bar_style='info', description='Progress:', layout=Layout(height='25px', width='50%'),…"
      ]
     },
     "metadata": {},
     "output_type": "display_data"
    }
   ],
   "source": [
    "# song popularity\n",
    "song_popularity = (\n",
    "    triplets\n",
    "    .groupBy('song_id')\n",
    "    .agg(\n",
    "        F.sum('playcount').alias('playcount')\n",
    "    )\n",
    ")\n",
    "\n",
    "n = song_popularity.approxQuantile('playcount', [0.0, 0.25, 0.5, 0.75, 1.0], 0.0)\n",
    "  # [1.0, 8.0, 31.0, 130.0, 726885.0]"
   ]
  },
  {
   "cell_type": "code",
   "execution_count": 59,
   "metadata": {},
   "outputs": [
    {
     "data": {
      "application/vnd.jupyter.widget-view+json": {
       "model_id": "",
       "version_major": 2,
       "version_minor": 0
      },
      "text/plain": [
       "FloatProgress(value=0.0, bar_style='info', description='Progress:', layout=Layout(height='25px', width='50%'),…"
      ]
     },
     "metadata": {},
     "output_type": "display_data"
    },
    {
     "name": "stdout",
     "output_type": "stream",
     "text": [
      "[1.0, 8.0, 31.0, 130.0, 726885.0]"
     ]
    }
   ],
   "source": [
    "n"
   ]
  },
  {
   "cell_type": "code",
   "execution_count": 13,
   "metadata": {},
   "outputs": [
    {
     "data": {
      "application/vnd.jupyter.widget-view+json": {
       "model_id": "",
       "version_major": 2,
       "version_minor": 0
      },
      "text/plain": [
       "FloatProgress(value=0.0, bar_style='info', description='Progress:', layout=Layout(height='25px', width='50%'),…"
      ]
     },
     "metadata": {},
     "output_type": "display_data"
    }
   ],
   "source": [
    "# user popularity\n",
    "user_activity = (\n",
    "    triplets\n",
    "    .groupBy('user_id')\n",
    "    .agg(\n",
    "        F.count('song_id').alias('songcount')\n",
    "    )\n",
    ")\n",
    "\n",
    "m = user_activity.approxQuantile('songcount', [0.0, 0.25, 0.5, 0.75, 1.0], 0.0)\n",
    "  # [3.0, 15.0, 26.0, 53.0, 4316.0]"
   ]
  },
  {
   "cell_type": "code",
   "execution_count": 60,
   "metadata": {},
   "outputs": [
    {
     "data": {
      "application/vnd.jupyter.widget-view+json": {
       "model_id": "",
       "version_major": 2,
       "version_minor": 0
      },
      "text/plain": [
       "FloatProgress(value=0.0, bar_style='info', description='Progress:', layout=Layout(height='25px', width='50%'),…"
      ]
     },
     "metadata": {},
     "output_type": "display_data"
    },
    {
     "name": "stdout",
     "output_type": "stream",
     "text": [
      "[3.0, 15.0, 26.0, 53.0, 4316.0]"
     ]
    }
   ],
   "source": [
    "m"
   ]
  },
  {
   "cell_type": "code",
   "execution_count": 14,
   "metadata": {},
   "outputs": [
    {
     "data": {
      "application/vnd.jupyter.widget-view+json": {
       "model_id": "",
       "version_major": 2,
       "version_minor": 0
      },
      "text/plain": [
       "FloatProgress(value=0.0, bar_style='info', description='Progress:', layout=Layout(height='25px', width='50%'),…"
      ]
     },
     "metadata": {},
     "output_type": "display_data"
    }
   ],
   "source": [
    "# inactive songs\n",
    "inactive_song = (\n",
    "    song_popularity\n",
    "    .filter(song_popularity.playcount < n[1])\n",
    "    .select('song_id')\n",
    ")\n",
    "\n",
    "# inactive users\n",
    "inactive_user = (\n",
    "    user_activity\n",
    "    .filter(user_activity.songcount < m[1])\n",
    "    .select('user_id')\n",
    ")\n",
    "\n",
    "# remove inactives from triplets\n",
    "triplets = (\n",
    "    triplets\n",
    "    .join(inactive_song, on='song_id', how='left_anti')\n",
    "    .join(inactive_user, on='user_id', how='left_anti')\n",
    ")"
   ]
  },
  {
   "cell_type": "code",
   "execution_count": 18,
   "metadata": {},
   "outputs": [
    {
     "data": {
      "application/vnd.jupyter.widget-view+json": {
       "model_id": "",
       "version_major": 2,
       "version_minor": 0
      },
      "text/plain": [
       "FloatProgress(value=0.0, bar_style='info', description='Progress:', layout=Layout(height='25px', width='50%'),…"
      ]
     },
     "metadata": {},
     "output_type": "display_data"
    },
    {
     "name": "stdout",
     "output_type": "stream",
     "text": [
      "90750"
     ]
    }
   ],
   "source": [
    "inactive_song.count()"
   ]
  },
  {
   "cell_type": "code",
   "execution_count": 15,
   "metadata": {},
   "outputs": [
    {
     "data": {
      "application/vnd.jupyter.widget-view+json": {
       "model_id": "",
       "version_major": 2,
       "version_minor": 0
      },
      "text/plain": [
       "FloatProgress(value=0.0, bar_style='info', description='Progress:', layout=Layout(height='25px', width='50%'),…"
      ]
     },
     "metadata": {},
     "output_type": "display_data"
    },
    {
     "name": "stdout",
     "output_type": "stream",
     "text": [
      "42818160"
     ]
    }
   ],
   "source": [
    "# count\n",
    "triplets.count()"
   ]
  },
  {
   "cell_type": "code",
   "execution_count": 19,
   "metadata": {},
   "outputs": [
    {
     "data": {
      "application/vnd.jupyter.widget-view+json": {
       "model_id": "",
       "version_major": 2,
       "version_minor": 0
      },
      "text/plain": [
       "FloatProgress(value=0.0, bar_style='info', description='Progress:', layout=Layout(height='25px', width='50%'),…"
      ]
     },
     "metadata": {},
     "output_type": "display_data"
    }
   ],
   "source": [
    "from pyspark.ml import Pipeline\n",
    "from pyspark.ml.feature import StringIndexer, QuantileDiscretizer\n",
    "from pyspark.ml.recommendation import ALS\n",
    "from pyspark.ml.evaluation import RegressionEvaluator\n",
    "from pyspark.mllib.evaluation import RankingMetrics\n",
    "\n",
    "# ALS Recomm\n",
    "# convert user and song into an integer index\n",
    "indexer_user = StringIndexer(inputCol='user_id', outputCol='user')\n",
    "indexer_song = StringIndexer(inputCol='song_id', outputCol='item')"
   ]
  },
  {
   "cell_type": "code",
   "execution_count": 20,
   "metadata": {},
   "outputs": [
    {
     "data": {
      "application/vnd.jupyter.widget-view+json": {
       "model_id": "",
       "version_major": 2,
       "version_minor": 0
      },
      "text/plain": [
       "FloatProgress(value=0.0, bar_style='info', description='Progress:', layout=Layout(height='25px', width='50%'),…"
      ]
     },
     "metadata": {},
     "output_type": "display_data"
    }
   ],
   "source": [
    "# pipeline\n",
    "pipeline = Pipeline(stages=[indexer_user, indexer_song]) \n",
    "pipelineModel = pipeline.fit(triplets)\n",
    "dataset = pipelineModel.transform(triplets)"
   ]
  },
  {
   "cell_type": "code",
   "execution_count": 21,
   "metadata": {},
   "outputs": [
    {
     "data": {
      "application/vnd.jupyter.widget-view+json": {
       "model_id": "",
       "version_major": 2,
       "version_minor": 0
      },
      "text/plain": [
       "FloatProgress(value=0.0, bar_style='info', description='Progress:', layout=Layout(height='25px', width='50%'),…"
      ]
     },
     "metadata": {},
     "output_type": "display_data"
    }
   ],
   "source": [
    "# convert playcount into double (as rating)\n",
    "dataset = (\n",
    "    dataset\n",
    "    .withColumn('user', F.col('user').cast(IntegerType()))\n",
    "    .withColumn('item', F.col('item').cast(IntegerType()))\n",
    "    .withColumn('rating', F.col('playcount').cast(IntegerType()))\n",
    "    .select(['user', 'item', 'rating'])\n",
    ")"
   ]
  },
  {
   "cell_type": "code",
   "execution_count": 22,
   "metadata": {},
   "outputs": [
    {
     "data": {
      "application/vnd.jupyter.widget-view+json": {
       "model_id": "",
       "version_major": 2,
       "version_minor": 0
      },
      "text/plain": [
       "FloatProgress(value=0.0, bar_style='info', description='Progress:', layout=Layout(height='25px', width='50%'),…"
      ]
     },
     "metadata": {},
     "output_type": "display_data"
    }
   ],
   "source": [
    "# create dictionary of fraction 30% for each user\n",
    "f = (\n",
    "    dataset\n",
    "    .select('user')\n",
    "    .dropDuplicates()\n",
    "    .withColumn('temp', F.lit(0))\n",
    "    .groupBy('temp')\n",
    "    .agg(F.collect_list('user').alias('list'))\n",
    "    .select('list')\n",
    "    .rdd.take(1)[0].__getattr__('list')\n",
    ")\n",
    "\n",
    "fractions = dict(\n",
    "    (user, 0.3) for user in f\n",
    ")\n",
    "\n",
    "# sample test set using fractions\n",
    "test = dataset.sampleBy('user', fractions, seed=1)\n",
    "\n",
    "# get training set by remove test set from full dataset\n",
    "training = (\n",
    "    dataset\n",
    "    .join(\n",
    "        test\n",
    "        .select(['user', 'item']),\n",
    "        on=['user', 'item'],\n",
    "        how='left_anti'\n",
    "    )\n",
    ")"
   ]
  },
  {
   "cell_type": "code",
   "execution_count": 23,
   "metadata": {},
   "outputs": [
    {
     "data": {
      "application/vnd.jupyter.widget-view+json": {
       "model_id": "",
       "version_major": 2,
       "version_minor": 0
      },
      "text/plain": [
       "FloatProgress(value=0.0, bar_style='info', description='Progress:', layout=Layout(height='25px', width='50%'),…"
      ]
     },
     "metadata": {},
     "output_type": "display_data"
    },
    {
     "name": "stdout",
     "output_type": "stream",
     "text": [
      "+------+------+------+\n",
      "|user  |item  |rating|\n",
      "+------+------+------+\n",
      "|519321|30302 |2381  |\n",
      "|208949|48057 |2368  |\n",
      "|427453|62    |1729  |\n",
      "|48502 |1133  |1646  |\n",
      "|95081 |5178  |1620  |\n",
      "|489344|112166|1539  |\n",
      "|148063|11467 |1467  |\n",
      "|60684 |45731 |1436  |\n",
      "|117146|6017  |1222  |\n",
      "|176060|5462  |1160  |\n",
      "+------+------+------+\n",
      "only showing top 10 rows"
     ]
    }
   ],
   "source": [
    "# select three users\n",
    "test.orderBy('rating', ascending=False).show(10, False)"
   ]
  },
  {
   "cell_type": "code",
   "execution_count": 24,
   "metadata": {},
   "outputs": [
    {
     "data": {
      "application/vnd.jupyter.widget-view+json": {
       "model_id": "",
       "version_major": 2,
       "version_minor": 0
      },
      "text/plain": [
       "FloatProgress(value=0.0, bar_style='info', description='Progress:', layout=Layout(height='25px', width='50%'),…"
      ]
     },
     "metadata": {},
     "output_type": "display_data"
    }
   ],
   "source": [
    "# create als model / Set the seed. \n",
    "als = ALS(seed=1)\n",
    "\n",
    "# fit training set and tranform test set\n",
    "model = als.fit(training)"
   ]
  },
  {
   "cell_type": "code",
   "execution_count": 25,
   "metadata": {},
   "outputs": [
    {
     "data": {
      "application/vnd.jupyter.widget-view+json": {
       "model_id": "",
       "version_major": 2,
       "version_minor": 0
      },
      "text/plain": [
       "FloatProgress(value=0.0, bar_style='info', description='Progress:', layout=Layout(height='25px', width='50%'),…"
      ]
     },
     "metadata": {},
     "output_type": "display_data"
    },
    {
     "name": "stdout",
     "output_type": "stream",
     "text": [
      "+------+------------------------------------------------------------------------------+\n",
      "|user  |recommends                                                                    |\n",
      "+------+------------------------------------------------------------------------------+\n",
      "|208949|[112166, 48057, 160211, 108002, 207956, 67531, 220834, 195067, 276721, 257720]|\n",
      "|519321|[160211, 68319, 30302, 194353, 67531, 129848, 220834, 20037, 29730, 179474]   |\n",
      "|427453|[112166, 166446, 217213, 251809, 61040, 47969, 67531, 71739, 269306, 237084]  |\n",
      "+------+------------------------------------------------------------------------------+"
     ]
    }
   ],
   "source": [
    "from pyspark.sql.types import ArrayType\n",
    "u = [519321, 208949, 427453]\n",
    "users = sqlContext.createDataFrame(\n",
    "    [(519321,), (208949,), (427453,)],\n",
    "    StructType([StructField('user', IntegerType())])\n",
    ")\n",
    "\n",
    "# recommend for users\n",
    "recommends = model.recommendForUserSubset(users, 10)\n",
    "\n",
    "# get prediction and labels\n",
    "def recommend(recommendations):\n",
    "    items = []\n",
    "    for item, rating in recommendations:\n",
    "        items.append(item)\n",
    "    return items\n",
    "\n",
    "udf_recommend = F.udf(lambda recommendations: recommend(recommendations), ArrayType(IntegerType()))\n",
    "\n",
    "recommends = (\n",
    "    recommends\n",
    "    .withColumn('recommends', udf_recommend(recommends.recommendations))\n",
    "    .select(\n",
    "        F.col('user').cast(IntegerType()),\n",
    "        F.col('recommends')\n",
    "    )\n",
    ")\n",
    "\n",
    "recommends.show(3, False)"
   ]
  },
  {
   "cell_type": "code",
   "execution_count": 26,
   "metadata": {},
   "outputs": [
    {
     "data": {
      "application/vnd.jupyter.widget-view+json": {
       "model_id": "",
       "version_major": 2,
       "version_minor": 0
      },
      "text/plain": [
       "FloatProgress(value=0.0, bar_style='info', description='Progress:', layout=Layout(height='25px', width='50%'),…"
      ]
     },
     "metadata": {},
     "output_type": "display_data"
    },
    {
     "name": "stdout",
     "output_type": "stream",
     "text": [
      "+------+----------------------------------------------------------------------------------------------------------------------------------------+\n",
      "|user  |ground_truths                                                                                                                           |\n",
      "+------+----------------------------------------------------------------------------------------------------------------------------------------+\n",
      "|208949|[21565, 120303, 4589, 10868, 1780, 0, 2642, 72724, 1276, 171, 21961, 2925, 41137, 36614, 1073, 32810, 40332, 104026, 6101, 103178, 5256]|\n",
      "|519321|[21789, 33405, 85783, 73478, 117819, 121165, 86341, 79604, 10952, 45869, 22227, 17408]                                                  |\n",
      "|427453|[414, 4, 23067, 29, 185, 28977, 431, 82, 81, 62]                                                                                        |\n",
      "+------+----------------------------------------------------------------------------------------------------------------------------------------+"
     ]
    }
   ],
   "source": [
    "# get labels\n",
    "ground_truths = (\n",
    "    test\n",
    "    .filter(F.col('user').isin(u))\n",
    "    .orderBy('rating', ascending=False)\n",
    "    .groupBy('user')\n",
    "    .agg(F.collect_list('item').alias('ground_truths'))\n",
    ")\n",
    "\n",
    "ground_truths.show(3, False)"
   ]
  },
  {
   "cell_type": "code",
   "execution_count": 27,
   "metadata": {},
   "outputs": [
    {
     "data": {
      "application/vnd.jupyter.widget-view+json": {
       "model_id": "",
       "version_major": 2,
       "version_minor": 0
      },
      "text/plain": [
       "FloatProgress(value=0.0, bar_style='info', description='Progress:', layout=Layout(height='25px', width='50%'),…"
      ]
     },
     "metadata": {},
     "output_type": "display_data"
    }
   ],
   "source": [
    "compare = recommends.join(ground_truths, on='user', how='left')\n",
    "compare = [(r.__getattr__('recommends'), r.__getattr__('ground_truths')) for r in compare.collect()]\n",
    "compare = sc.parallelize(compare)"
   ]
  },
  {
   "cell_type": "code",
   "execution_count": 28,
   "metadata": {},
   "outputs": [
    {
     "data": {
      "application/vnd.jupyter.widget-view+json": {
       "model_id": "",
       "version_major": 2,
       "version_minor": 0
      },
      "text/plain": [
       "FloatProgress(value=0.0, bar_style='info', description='Progress:', layout=Layout(height='25px', width='50%'),…"
      ]
     },
     "metadata": {},
     "output_type": "display_data"
    },
    {
     "name": "stdout",
     "output_type": "stream",
     "text": [
      "0.0\n",
      "0.0\n",
      "0.0\n",
      "4.856587012747"
     ]
    }
   ],
   "source": [
    "# print metrics\n",
    "metrics = RankingMetrics(compare)\n",
    "print(metrics.precisionAt(10))\n",
    "\n",
    "print(metrics.ndcgAt(10))\n",
    "\n",
    "print(metrics.meanAveragePrecision)\n",
    "\n",
    "\n",
    "# predict test and rmse\n",
    "predict = model.transform(test)\n",
    "predict = predict.filter(F.col('prediction') != float('nan'))\n",
    "reg_eval = RegressionEvaluator(predictionCol='prediction', labelCol='rating', metricName='rmse')\n",
    "reg_eval.evaluate(predict)"
   ]
  },
  {
   "cell_type": "code",
   "execution_count": null,
   "metadata": {},
   "outputs": [],
   "source": []
  }
 ],
 "metadata": {
  "kernelspec": {
   "display_name": "PySpark",
   "language": "",
   "name": "pysparkkernel"
  },
  "language_info": {
   "codemirror_mode": {
    "name": "python",
    "version": 3
   },
   "mimetype": "text/x-python",
   "name": "pyspark",
   "pygments_lexer": "python3"
  }
 },
 "nbformat": 4,
 "nbformat_minor": 4
}
