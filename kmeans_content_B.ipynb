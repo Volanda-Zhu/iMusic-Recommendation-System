{
 "cells": [
  {
   "cell_type": "code",
   "execution_count": 1,
   "metadata": {},
   "outputs": [
    {
     "name": "stdout",
     "output_type": "stream",
     "text": [
      "Starting Spark application\n"
     ]
    },
    {
     "data": {
      "text/html": [
       "<table>\n",
       "<tr><th>ID</th><th>YARN Application ID</th><th>Kind</th><th>State</th><th>Spark UI</th><th>Driver log</th><th>Current session?</th></tr><tr><td>2</td><td>application_1606776832569_0003</td><td>spark</td><td>idle</td><td></td><td></td><td>✔</td></tr></table>"
      ],
      "text/plain": [
       "<IPython.core.display.HTML object>"
      ]
     },
     "metadata": {},
     "output_type": "display_data"
    },
    {
     "data": {
      "application/vnd.jupyter.widget-view+json": {
       "model_id": "",
       "version_major": 2,
       "version_minor": 0
      },
      "text/plain": [
       "FloatProgress(value=0.0, bar_style='info', description='Progress:', layout=Layout(height='25px', width='50%'),…"
      ]
     },
     "metadata": {},
     "output_type": "display_data"
    },
    {
     "name": "stdout",
     "output_type": "stream",
     "text": [
      "SparkSession available as 'spark'.\n"
     ]
    },
    {
     "data": {
      "application/vnd.jupyter.widget-view+json": {
       "model_id": "",
       "version_major": 2,
       "version_minor": 0
      },
      "text/plain": [
       "FloatProgress(value=0.0, bar_style='info', description='Progress:', layout=Layout(height='25px', width='50%'),…"
      ]
     },
     "metadata": {},
     "output_type": "display_data"
    },
    {
     "name": "stdout",
     "output_type": "stream",
     "text": [
      "import org.apache.spark.mllib.linalg.Vectors\n",
      "import org.apache.spark.mllib.clustering.KMeans\n",
      "import org.apache.spark.sql.functions._\n",
      "import org.apache.spark.sql.functions.abs\n",
      "import org.apache.spark.sql.Row\n",
      "import org.apache.spark.sql.functions.{min, max, lit}\n",
      "import org.apache.spark.sql.SQLContext\n",
      "import org.apache.spark.sql.types.{IntegerType, StructField, StructType, StringType, DoubleType}\n",
      "warning: there was one deprecation warning; re-run with -deprecation for details\n",
      "sqlContext: org.apache.spark.sql.SQLContext = org.apache.spark.sql.SQLContext@68c3ef84\n"
     ]
    }
   ],
   "source": [
    "import org.apache.spark.mllib.linalg.Vectors\n",
    "import org.apache.spark.mllib.clustering.KMeans\n",
    "import org.apache.spark.sql.functions._\n",
    "import org.apache.spark.sql.functions.abs\n",
    "import org.apache.spark.sql.Row\n",
    "import org.apache.spark.sql.functions.{min, max, lit}\n",
    "import org.apache.spark.sql.SQLContext\n",
    "import org.apache.spark.sql.types.{ IntegerType, StructField, StructType, StringType, DoubleType}\n",
    "val sqlContext = new SQLContext(sc)"
   ]
  },
  {
   "cell_type": "code",
   "execution_count": 2,
   "metadata": {},
   "outputs": [
    {
     "data": {
      "application/vnd.jupyter.widget-view+json": {
       "model_id": "",
       "version_major": 2,
       "version_minor": 0
      },
      "text/plain": [
       "FloatProgress(value=0.0, bar_style='info', description='Progress:', layout=Layout(height='25px', width='50%'),…"
      ]
     },
     "metadata": {},
     "output_type": "display_data"
    },
    {
     "name": "stdout",
     "output_type": "stream",
     "text": [
      "schema: org.apache.spark.sql.types.StructType = StructType(StructField(artist_familiarity,DoubleType,true), StructField(artist_hotttnesss,DoubleType,true), StructField(artist_id,StringType,true), StructField(artist_location,StringType,true), StructField(artist_mbtags,StringType,true), StructField(artist_mbtags_count,StringType,true), StructField(artist_name,StringType,true), StructField(artist_terms,StringType,true), StructField(artist_terms_freq,StringType,true), StructField(artist_terms_weight,StringType,true), StructField(danceability,DoubleType,true), StructField(duration,DoubleType,true), StructField(end_of_fade_in,DoubleType,true), StructField(energy,DoubleType,true), StructField(key,DoubleType,true), StructField(key_confidence,DoubleType,true), StructField(loudness,DoubleType,tru..."
     ]
    }
   ],
   "source": [
    "val schema = new StructType().\n",
    "add(\"artist_familiarity\",DoubleType,true).\n",
    "add(\"artist_hotttnesss\",DoubleType,true).\n",
    "add(\"artist_id\",StringType,true).\n",
    "add(\"artist_location\",StringType,true).\n",
    "add(\"artist_mbtags\",StringType,true).\n",
    "add(\"artist_mbtags_count\",StringType,true).\n",
    "add(\"artist_name\",StringType,true).\n",
    "add(\"artist_terms\",StringType,true).\n",
    "add(\"artist_terms_freq\",StringType,true).\n",
    "add(\"artist_terms_weight\",StringType,true).\n",
    "add(\"danceability\",DoubleType,true).\n",
    "add(\"duration\",DoubleType,true).\n",
    "add(\"end_of_fade_in\",DoubleType,true).\n",
    "add(\"energy\",DoubleType,true).\n",
    "add(\"key\",DoubleType,true).\n",
    "add(\"key_confidence\",DoubleType,true).\n",
    "add(\"loudness\",DoubleType,true).\n",
    "add(\"mode\",DoubleType,true).\n",
    "add(\"mode_confidence\",DoubleType,true).\n",
    "add(\"release\",StringType,true).\n",
    "add(\"segments_confidence\",StringType,true).\n",
    "add(\"segments_loudness_max\",StringType,true).\n",
    "add(\"segments_loudness_max_time\",StringType,true).\n",
    "add(\"segments_pitches\",StringType,true).\n",
    "add(\"segments_timbre\",StringType,true).\n",
    "add(\"similar_artists\",StringType,true).\n",
    "add(\"song_hotttnesss\",DoubleType,true).\n",
    "add(\"song_id\",StringType,true).\n",
    "add(\"start_of_fade_out\",DoubleType,true).\n",
    "add(\"tempo\",DoubleType,true).\n",
    "add(\"time_signature\",IntegerType,true).\n",
    "add(\"time_signature_confidence\",DoubleType,true).\n",
    "add(\"title\",StringType,true).\n",
    "add(\"track_id\",StringType,true).\n",
    "add(\"year\",IntegerType,true)"
   ]
  },
  {
   "cell_type": "code",
   "execution_count": 3,
   "metadata": {},
   "outputs": [
    {
     "data": {
      "application/vnd.jupyter.widget-view+json": {
       "model_id": "",
       "version_major": 2,
       "version_minor": 0
      },
      "text/plain": [
       "FloatProgress(value=0.0, bar_style='info', description='Progress:', layout=Layout(height='25px', width='50%'),…"
      ]
     },
     "metadata": {},
     "output_type": "display_data"
    },
    {
     "name": "stdout",
     "output_type": "stream",
     "text": [
      "msdf: org.apache.spark.sql.DataFrame = [artist_familiarity: double, artist_hotttnesss: double ... 33 more fields]\n"
     ]
    }
   ],
   "source": [
    "val msdf = sqlContext.read.format(\"com.databricks.spark.csv\").\n",
    "option(\"header\", \"false\").\n",
    "option(\"delimiter\", \"\\t\").\n",
    "option(\"inferSchema\", \"false\").\n",
    "schema(schema).load(\"s3://millionsongprocessed/*.tsv\")"
   ]
  },
  {
   "cell_type": "code",
   "execution_count": 4,
   "metadata": {},
   "outputs": [
    {
     "data": {
      "application/vnd.jupyter.widget-view+json": {
       "model_id": "",
       "version_major": 2,
       "version_minor": 0
      },
      "text/plain": [
       "FloatProgress(value=0.0, bar_style='info', description='Progress:', layout=Layout(height='25px', width='50%'),…"
      ]
     },
     "metadata": {},
     "output_type": "display_data"
    },
    {
     "name": "stdout",
     "output_type": "stream",
     "text": [
      "usdf: org.apache.spark.sql.DataFrame = [_c0: string, _c1: string ... 1 more field]\n"
     ]
    }
   ],
   "source": [
    "val usdf= sqlContext.read.format(\"com.databricks.spark.csv\").\n",
    "option(\"header\",\"false\").\n",
    "option(\"delimiter\", \"\\t\").\n",
    "load(\"s3://millionsongprocessed/train_triplets.txt\")"
   ]
  },
  {
   "cell_type": "code",
   "execution_count": 5,
   "metadata": {},
   "outputs": [
    {
     "data": {
      "application/vnd.jupyter.widget-view+json": {
       "model_id": "",
       "version_major": 2,
       "version_minor": 0
      },
      "text/plain": [
       "FloatProgress(value=0.0, bar_style='info', description='Progress:', layout=Layout(height='25px', width='50%'),…"
      ]
     },
     "metadata": {},
     "output_type": "display_data"
    },
    {
     "name": "stdout",
     "output_type": "stream",
     "text": [
      "+--------------------+------------------+---+\n",
      "|                 _c0|               _c1|_c2|\n",
      "+--------------------+------------------+---+\n",
      "|b80344d063b5ccb32...|SOAKIMP12A8C130995|  1|\n",
      "|b80344d063b5ccb32...|SOAPDEY12A81C210A9|  1|\n",
      "|b80344d063b5ccb32...|SOBBMDR12A8C13253B|  2|\n",
      "|b80344d063b5ccb32...|SOBFNSP12AF72A0E22|  1|\n",
      "|b80344d063b5ccb32...|SOBFOVM12A58A7D494|  1|\n",
      "|b80344d063b5ccb32...|SOBNZDC12A6D4FC103|  1|\n",
      "|b80344d063b5ccb32...|SOBSUJE12A6D4F8CF5|  2|\n",
      "|b80344d063b5ccb32...|SOBVFZR12A6D4F8AE3|  1|\n",
      "|b80344d063b5ccb32...|SOBXALG12A8C13C108|  1|\n",
      "|b80344d063b5ccb32...|SOBXHDL12A81C204C0|  1|\n",
      "+--------------------+------------------+---+\n",
      "only showing top 10 rows\n",
      "\n"
     ]
    }
   ],
   "source": [
    "usdf.show(10)"
   ]
  },
  {
   "cell_type": "code",
   "execution_count": 6,
   "metadata": {},
   "outputs": [
    {
     "data": {
      "application/vnd.jupyter.widget-view+json": {
       "model_id": "",
       "version_major": 2,
       "version_minor": 0
      },
      "text/plain": [
       "FloatProgress(value=0.0, bar_style='info', description='Progress:', layout=Layout(height='25px', width='50%'),…"
      ]
     },
     "metadata": {},
     "output_type": "display_data"
    },
    {
     "name": "stdout",
     "output_type": "stream",
     "text": [
      "+--------------------+-------------------+------------------+-----------------+-------------+-------------------+--------------------+--------------------+--------------------+--------------------+------------+---------+--------------+------+---+--------------+--------+----+---------------+--------------------+--------------------+---------------------+--------------------------+--------------------+--------------------+--------------------+-------------------+------------------+-----------------+-------+--------------+-------------------------+--------------------+------------------+----+\n",
      "|  artist_familiarity|  artist_hotttnesss|         artist_id|  artist_location|artist_mbtags|artist_mbtags_count|         artist_name|        artist_terms|   artist_terms_freq| artist_terms_weight|danceability| duration|end_of_fade_in|energy|key|key_confidence|loudness|mode|mode_confidence|             release| segments_confidence|segments_loudness_max|segments_loudness_max_time|    segments_pitches|     segments_timbre|     similar_artists|    song_hotttnesss|           song_id|start_of_fade_out|  tempo|time_signature|time_signature_confidence|               title|          track_id|year|\n",
      "+--------------------+-------------------+------------------+-----------------+-------------+-------------------+--------------------+--------------------+--------------------+--------------------+------------+---------+--------------+------+---+--------------+--------+----+---------------+--------------------+--------------------+---------------------+--------------------------+--------------------+--------------------+--------------------+-------------------+------------------+-----------------+-------+--------------+-------------------------+--------------------+------------------+----+\n",
      "|  0.6399025154955147|0.46131833754118956|ARJNIUY12298900C91|             null|           []|                 []|        Adelitas Way|['alternative met...|[0.99587465742256...|[1.0, 0.899353739...|         0.0| 213.9424|           0.0|   0.0|1.0|         0.349|  -4.769| 1.0|          0.403|        Adelitas Way|[1.0, 0.077, 0.03...| [-20.556, -21.139...|      [0.11934, 0.02379...|[[0.294, 0.158, 0...|[[17.977, 71.335,...|['AROQMHX11C8A42B...|0.46131833754118956|SOBLFFE12AF72AA5BA|          210.048| 99.944|             4|                      0.0|              Scream|TRAAAAK128F9318786|2009|\n",
      "|  0.6717552053402852|0.38660636406584575|AR73AIO1187B9AD57B|San Francisco, CA|           []|                 []|   Western Addiction|['melodic hardcor...|[0.95844200752522...|[1.0, 0.968559809...|         0.0|118.07302|         0.264|   0.0|7.0|         0.187|   -7.24| 1.0|          0.425|           Cognicide|[0.0, 1.0, 0.227,...| [-60.0, -9.442, -...|      [0.0, 0.13158, 0....|[[1.0, 0.727, 0.8...|[[0.0, 171.13, 9....|['ARVYM3Y1187B99D...|0.38660636406584575|SOQPWCR12A6D4FB2A3|          115.142|125.475|             4|                      0.0|A Poor Recipe For...|TRAAAAV128F421A322|2005|\n",
      "|  0.5817937658450281| 0.4019975433642836|ARD7TVE1187B99BFB1|  California - LA|           []|                 []|              Casual|['hip hop', 'unde...|[1.0, 0.776136233...|[1.0, 0.897935955...|         0.0|218.93179|         0.247|   0.0|1.0|         0.736| -11.197| 0.0|          0.636|         Fear Itself|[0.0, 1.0, 0.483,...| [-60.0, -31.646, ...|      [0.0, 0.10929, 0....|[[0.946, 0.684, 0...|[[0.0, 171.13, 9....|['ARV4KO21187FB38...| 0.4019975433642836|SOMZWCG12A8C13C480|          218.932| 92.198|             4|                      0.0|    I Didn't Mean To|TRAAAAW128F429D538|   0|\n",
      "| 0.47694059129745225|0.30708016881260153|ARL752Q1187FB35EFE|           Mexico|           []|                 []|            Alquimia|['chill-out', 'cu...|[0.82659083254464...|[1.0, 1.0, 0.9750...|         0.0|193.01832|           0.0|   0.0|2.0|          0.76| -13.179| 1.0|          0.803|             Forever|[1.0, 1.0, 1.0, 0...| [-25.137, -25.871...|      [1.06148, 0.03347...|[[0.168, 0.087, 0...|[[4.082, 142.267,...|['ARHEQ501187FB4F...|0.30708016881260153|SOJDASC12A8C13EB49|          182.898| 41.279|             4|                      0.0|The Lark In The C...|TRAAAAY128F42A73F0|   0|\n",
      "|0.013157973056854065|0.37928237433191514|AR9Q9YC1187FB5609B|       New Jersey|           []|                 []|    Quest_ Pup_ Kevo|['hard trance', '...|[0.94055125449922...|[1.0, 0.994668052...|         0.0|252.94322|           0.0|   0.0|6.0|         0.063|  -7.227| 0.0|            0.4|A Bad Azz Mix Tap...|[1.0, 0.476, 0.53...| [-14.278, -12.859...|      [0.04816, 0.01986...|[[0.913, 0.271, 0...|[[41.341, 92.078,...|['ARUPWVD1187FB4D...|0.37928237433191514|SOFRDWL12A58A7CEF7|          247.455| 161.99|             4|                      0.0|        Hit Da Scene|TRAAACN128F9355673|   0|\n",
      "|  0.5313342110692906| 0.3382898159400986|ARGO8611187B990AF9|   Charleston, SC|           []|                 []|        Super Deluxe|['reggae', 'power...|[1.0, 0.907624654...|[1.0, 0.978425273...|         0.0|222.35383|         3.471|   0.0|5.0|         0.763|  -5.232| 1.0|           0.55|          Surrender!|[0.0, 0.84, 0.121...| [-60.0, -46.461, ...|      [0.0, 0.19715, 0....|[[0.936, 1.0, 0.7...|[[0.0, 171.13, 9....|['AR07SOR1187FB46...| 0.3382898159400986|SOZIULX12A8AE46C39|          213.206|100.812|             4|                      0.0|Come On (Album Ve...|TRAAACV128F423E09E|   0|\n",
      "|  0.6278278253312966|  0.387616855902411|ARC73361187B9B42BD|San Francisco, CA|           []|                 []|Big Brother & The...|\"['blues-rock', '...|[0.96842164414601...|[1.0, 0.967835448...|         0.0|396.35546|         0.499|   0.0|7.0|         0.195| -13.225| 1.0|          0.421|        Be a Brother|[0.0, 1.0, 0.875,...| [-59.19, -28.753,...|      [0.47691, 0.03688...|[[0.826, 0.952, 1...|[[0.015, 170.844,...|['ARUP0001187FB39...|  0.387616855902411|SOCSNVI12A8C13ECC2|          386.728|136.768|             1|                      0.0|    Heartache People|TRAAADJ128F4287B47|1970|\n",
      "|  0.4873567909281477|0.34342837829688244|ARKRRTF1187B9984DA|             null|           []|                 []|    Sonora Santanera|['salsa', 'cumbia...|[1.0, 0.942239071...|[1.0, 0.958257845...|         0.0|177.47546|         0.282|   0.0|8.0|         0.643|  -9.689| 1.0|          0.565|Las Numero 1 De L...|[0.0, 1.0, 0.106,...| [-59.895, -11.914...|      [0.27572, 0.1589,...|[[1.0, 0.911, 0.1...|[[0.0, 171.124, 9...|['ARFSJUG11C8A421...|0.34342837829688244|SOXVLOJ12AB0189215|          172.304| 100.07|             1|                      0.0|     Amor De Cabaret|TRAAADZ128F9348C2E|   0|\n",
      "| 0.42219370224240504|                0.0|ARSVTNL1187B992A91|  London, England|           []|                 []|       Jonathan King|['comedy rock', '...|[0.95821386183173...|[1.0, 0.951721007...|         0.0|129.85424|         0.282|   0.0|5.0|         0.084|  -9.495| 1.0|          0.301|Vile Pervert - Th...|[0.0, 1.0, 0.696,...| [-60.0, -10.564, ...|      [0.0, 0.01718, 0....|[[0.894, 1.0, 0.8...|[[0.0, 171.13, 9....|['AR54UY91187B9A6...|                0.0|SOEKAZG12AB018837E|          121.452|156.677|             4|                      0.0|I'll Slap Your Fa...|TRAAAEA128F935A30D|2001|\n",
      "|  0.7868062541707812| 0.5620614073671926|ARC1IHZ1187FB4E920|             null|           []|                 []|        Jamie Cullum|['vocal jazz', 'j...|[0.99965365030298...|[1.0, 0.818409196...|         0.0| 246.9873|          0.11|   0.0|9.0|         0.417|  -8.849| 1.0|            0.5|     Twentysomething|[0.0, 1.0, 0.107,...| [-60.0, -18.654, ...|      [0.0, 0.06421, 0....|[[1.0, 0.93, 0.57...|[[0.0, 171.13, 9....|['AR9I1L41187FB37...| 0.5620614073671926|SOXZYWX12A6310ED0C|          239.154|152.156|             4|                      0.0|     It's About Time|TRAAAED128E0783FAB|   0|\n",
      "+--------------------+-------------------+------------------+-----------------+-------------+-------------------+--------------------+--------------------+--------------------+--------------------+------------+---------+--------------+------+---+--------------+--------+----+---------------+--------------------+--------------------+---------------------+--------------------------+--------------------+--------------------+--------------------+-------------------+------------------+-----------------+-------+--------------+-------------------------+--------------------+------------------+----+\n",
      "only showing top 10 rows\n",
      "\n"
     ]
    }
   ],
   "source": [
    "msdf.show(10)"
   ]
  },
  {
   "cell_type": "code",
   "execution_count": 11,
   "metadata": {},
   "outputs": [
    {
     "data": {
      "application/vnd.jupyter.widget-view+json": {
       "model_id": "",
       "version_major": 2,
       "version_minor": 0
      },
      "text/plain": [
       "FloatProgress(value=0.0, bar_style='info', description='Progress:', layout=Layout(height='25px', width='50%'),…"
      ]
     },
     "metadata": {},
     "output_type": "display_data"
    },
    {
     "name": "stdout",
     "output_type": "stream",
     "text": [
      "msdf2: org.apache.spark.sql.DataFrame = [artist_familiarity: double, artist_hotttnesss: double ... 33 more fields]\n",
      "msdf3: org.apache.spark.sql.DataFrame = [artist_familiarity: double, duration: double ... 6 more fields]\n",
      "msdf4: org.apache.spark.sql.DataFrame = [artist_familiarity: double, duration: double ... 6 more fields]\n"
     ]
    }
   ],
   "source": [
    "// 'artist familiarity', 'artist hotttnesss', 'danceability',\n",
    "//        'duration', 'end of fade in', 'energy', 'key', 'key confidence',\n",
    "//        'loudness', 'mode', 'mode confidence', 'song hotttnesss',\n",
    "//        'start of fade out', 'tempo', 'time signature',\n",
    "//        'time signature confidence', 'year'\n",
    "\n",
    "var msdf2 = msdf.withColumn(\"time_signature\", when(col(\"time_signature_confidence\")<0.5, 4).otherwise(col(\"time_signature\")))\n",
    "val msdf3 = msdf2.select($\"artist_familiarity\",$\"duration\",$\"key\", $\"key_confidence\", \n",
    "                         $\"loudness\",$\"mode\", $\"tempo\"/$\"time_signature\" as \"speed\", $\"song_id\")\n",
    "var msdf4 = msdf3.na.drop()"
   ]
  },
  {
   "cell_type": "code",
   "execution_count": 15,
   "metadata": {},
   "outputs": [
    {
     "data": {
      "application/vnd.jupyter.widget-view+json": {
       "model_id": "",
       "version_major": 2,
       "version_minor": 0
      },
      "text/plain": [
       "FloatProgress(value=0.0, bar_style='info', description='Progress:', layout=Layout(height='25px', width='50%'),…"
      ]
     },
     "metadata": {},
     "output_type": "display_data"
    },
    {
     "name": "stdout",
     "output_type": "stream",
     "text": [
      "+--------------------+---------+---+--------------+--------+----+--------+------------------+\n",
      "|  artist_familiarity| duration|key|key_confidence|loudness|mode|   speed|           song_id|\n",
      "+--------------------+---------+---+--------------+--------+----+--------+------------------+\n",
      "|  0.6399025154955147| 213.9424|1.0|         0.349|  -4.769| 1.0|  24.986|SOBLFFE12AF72AA5BA|\n",
      "|  0.6717552053402852|118.07302|7.0|         0.187|   -7.24| 1.0|31.36875|SOQPWCR12A6D4FB2A3|\n",
      "|  0.5817937658450281|218.93179|1.0|         0.736| -11.197| 0.0| 23.0495|SOMZWCG12A8C13C480|\n",
      "| 0.47694059129745225|193.01832|2.0|          0.76| -13.179| 1.0|10.31975|SOJDASC12A8C13EB49|\n",
      "|0.013157973056854065|252.94322|6.0|         0.063|  -7.227| 0.0| 40.4975|SOFRDWL12A58A7CEF7|\n",
      "|  0.5313342110692906|222.35383|5.0|         0.763|  -5.232| 1.0|  25.203|SOZIULX12A8AE46C39|\n",
      "|  0.6278278253312966|396.35546|7.0|         0.195| -13.225| 1.0|  34.192|SOCSNVI12A8C13ECC2|\n",
      "|  0.4873567909281477|177.47546|8.0|         0.643|  -9.689| 1.0| 25.0175|SOXVLOJ12AB0189215|\n",
      "| 0.42219370224240504|129.85424|5.0|         0.084|  -9.495| 1.0|39.16925|SOEKAZG12AB018837E|\n",
      "|  0.7868062541707812| 246.9873|9.0|         0.417|  -8.849| 1.0|  38.039|SOXZYWX12A6310ED0C|\n",
      "+--------------------+---------+---+--------------+--------+----+--------+------------------+\n",
      "only showing top 10 rows\n",
      "\n"
     ]
    }
   ],
   "source": [
    "msdf4.show(10)"
   ]
  },
  {
   "cell_type": "code",
   "execution_count": 16,
   "metadata": {},
   "outputs": [
    {
     "data": {
      "application/vnd.jupyter.widget-view+json": {
       "model_id": "",
       "version_major": 2,
       "version_minor": 0
      },
      "text/plain": [
       "FloatProgress(value=0.0, bar_style='info', description='Progress:', layout=Layout(height='25px', width='50%'),…"
      ]
     },
     "metadata": {},
     "output_type": "display_data"
    },
    {
     "name": "stdout",
     "output_type": "stream",
     "text": [
      "scaledRange: org.apache.spark.sql.Column = 4\n",
      "scaledMin: org.apache.spark.sql.Column = 1\n"
     ]
    }
   ],
   "source": [
    "//feature scaling\n",
    "val scaledRange = lit(4)\n",
    "val scaledMin = lit(1)"
   ]
  },
  {
   "cell_type": "code",
   "execution_count": 14,
   "metadata": {},
   "outputs": [
    {
     "data": {
      "application/vnd.jupyter.widget-view+json": {
       "model_id": "",
       "version_major": 2,
       "version_minor": 0
      },
      "text/plain": [
       "FloatProgress(value=0.0, bar_style='info', description='Progress:', layout=Layout(height='25px', width='50%'),…"
      ]
     },
     "metadata": {},
     "output_type": "display_data"
    },
    {
     "name": "stdout",
     "output_type": "stream",
     "text": [
      "aMin: Double = 0.0\n",
      "aMax: Double = 0.989938569657492\n",
      "aNorm: org.apache.spark.sql.Column = ((artist_familiarity - 0.0) / 0.989938569657492)\n",
      "aScal: org.apache.spark.sql.Column = ((4 * ((artist_familiarity - 0.0) / 0.989938569657492)) + 1)\n",
      "dMin: Double = 0.36526\n",
      "dMax: Double = 3034.90567\n",
      "dNorm: org.apache.spark.sql.Column = ((duration - 0.36526) / 3034.54041)\n",
      "dScal: org.apache.spark.sql.Column = ((4 * ((duration - 0.36526) / 3034.54041)) + 1)\n",
      "kMin: Double = 0.0\n",
      "kMax: Double = 11.0\n",
      "kNorm: org.apache.spark.sql.Column = ((key - 0.0) / 11.0)\n",
      "kScal: org.apache.spark.sql.Column = ((4 * ((key - 0.0) / 11.0)) + 1)\n",
      "kcMin: Double = 0.0\n",
      "kcMax: Double = 1.0\n",
      "kcNorm: org.apache.spark.sql.Column = ((key - 0.0) / 1.0)\n",
      "kcScal: org.apache.spark.sql.Column = ((4 * ((key - 0.0) / 1.0)) + 1)\n",
      "lMin: Double = -57.955\n",
      "lMax: Double = 4.318\n",
      "lNorm: org.apache.spark.sql.Column = ((loudness - -57.955) / 62.272999999999996)\n",
      "lScal: org.apache.spark.sql.Column = ((4 * ((loudness - -57.955) / 62.272999999999996)) + 1)\n",
      "mMin: Double = 0.0\n",
      "mMax: Double = 1.0\n",
      "mNorm: org.apache.spark.sql.Column = ((mode - 0.0) / 1.0)\n",
      "mScal: org.apache.spark.sql.Column = ((4 * ((mode - 0.0) / 1.0)) + 1)\n",
      "sMin: Double = 0.0\n",
      "sMax: Double = 269.642\n",
      "sNorm: org.apache.spark.sql.Column = ((speed - 0.0) / 269.642)\n",
      "sScal: org.apache.spark.sql.Column = ((4 * ((speed - 0.0) / 269.642)) + 1)\n",
      "msdf5: org.apache.spark.sql.DataFrame = [artist_familiarity: double, duration: double ... 13 more fields]\n",
      "allDF: org.apache.spark.sql.DataFrame = [aScal: double, dScal: double ... 6 more fields]\n",
      "vectors: org.apache.spark.rdd.RDD[org.apache.spark.mllib.linalg.Vector] = MapPartitionsRDD[80] at map at <console>:38\n",
      "res34: vectors.type = MapPartitionsRDD[80] at map at <console>:38\n"
     ]
    }
   ],
   "source": [
    "@transient val (aMin, aMax) = msdf4.agg(min($\"artist_familiarity\"), max($\"artist_familiarity\")).first match { case Row(x: Double, y: Double) => (x,y)}\n",
    "@transient val aNorm = ($\"artist_familiarity\"-aMin)/(aMax-aMin)\n",
    "@transient val aScal = scaledRange*aNorm + scaledMin\n",
    "\n",
    "@transient val (dMin, dMax) = msdf4.agg(min($\"duration\"), max($\"duration\")).first match { case Row(x: Double, y: Double) => (x,y)}\n",
    "@transient val dNorm = ($\"duration\"-dMin)/(dMax-dMin)\n",
    "@transient val dScal = scaledRange*dNorm + scaledMin\n",
    "\n",
    "@transient val (kMin, kMax) = msdf4.agg(min($\"key\"), max($\"key\")).first match { case Row(x: Double, y: Double) => (x,y)}\n",
    "@transient val kNorm = ($\"key\"-kMin)/(kMax-kMin)\n",
    "@transient val kScal = scaledRange*kNorm + scaledMin\n",
    "\n",
    "@transient val (kcMin, kcMax) = msdf4.agg(min($\"key_confidence\"), max($\"key_confidence\")).first match { case Row(x: Double, y: Double) => (x,y)}\n",
    "@transient val kcNorm = ($\"key\"-kcMin)/(kcMax-kcMin)\n",
    "@transient val kcScal = scaledRange*kcNorm + scaledMin\n",
    "\n",
    "@transient val (lMin, lMax) = msdf4.agg(min($\"loudness\"), max($\"loudness\")).first match { case Row(x: Double, y: Double) => (x,y)}\n",
    "@transient val lNorm = ($\"loudness\"-lMin)/(lMax-lMin)\n",
    "@transient val lScal = scaledRange*lNorm + scaledMin\n",
    "\n",
    "@transient val (mMin, mMax) = msdf4.agg(min($\"mode\"), max($\"mode\")).first match { case Row(x: Double, y: Double) => (x,y)}\n",
    "@transient val mNorm = ($\"mode\"-mMin)/(mMax-mMin)\n",
    "@transient val mScal = scaledRange*mNorm + scaledMin\n",
    "\n",
    "@transient val (sMin, sMax) = msdf4.agg(min($\"speed\"), max($\"speed\")).first match { case Row(x: Double, y: Double) => (x,y)}\n",
    "@transient val sNorm = ($\"speed\"-sMin)/(sMax-sMin)\n",
    "@transient val sScal = scaledRange*sNorm + scaledMin\n",
    "\n",
    "val msdf5 = msdf4.withColumn(\"aScal\",aScal).withColumn(\"dScal\", dScal).\n",
    "            withColumn(\"kScal\", kScal).withColumn(\"kcScal\", kcScal).\n",
    "            withColumn(\"lScal\", lScal).withColumn(\"mScal\", mScal).\n",
    "            withColumn(\"sScal\", sScal)\n",
    "val allDF = msdf5.select(\"aScal\", \"dScal\", \"kScal\", \"kcScal\",\"lScal\",\"mScal\",\"sScal\", \"song_id\")\n",
    "\n",
    "// val rowsRDD = allDF.rdd.map(r => (r.getDouble(0), r.getDouble(1), r.getDouble(2), r.getDouble(3), r.getString(4)))\n",
    "// rowsRDD.cache()\n",
    "val vectors = allDF.rdd.map(r => Vectors.dense(r.getDouble(0), r.getDouble(1), r.getDouble(2), r.getDouble(3),\n",
    "                                                r.getDouble(4), r.getDouble(5), r.getDouble(6)))\n",
    "vectors.cache()"
   ]
  },
  {
   "cell_type": "code",
   "execution_count": 17,
   "metadata": {},
   "outputs": [
    {
     "data": {
      "application/vnd.jupyter.widget-view+json": {
       "model_id": "",
       "version_major": 2,
       "version_minor": 0
      },
      "text/plain": [
       "FloatProgress(value=0.0, bar_style='info', description='Progress:', layout=Layout(height='25px', width='50%'),…"
      ]
     },
     "metadata": {},
     "output_type": "display_data"
    },
    {
     "name": "stdout",
     "output_type": "stream",
     "text": [
      "res37: Array[org.apache.spark.mllib.linalg.Vector] = Array([3.5856251493137155,1.281528154044256,1.3636363636363638,5.0,4.416312045348707,5.0,1.370654423272339], [3.714330872359909,1.155157281296511,3.5454545454545454,29.0,4.257591572591653,5.0,1.4653392275684056], [3.3508277530648085,1.288104952275129,1.3636363636363638,5.0,4.00342042297625,1.0,1.341927444537572], [2.9271522735495337,1.253946936234736,1.7272727272727273,9.0,3.876110031634898,5.0,1.1530881687570926], [1.053166826549274,1.3329373491519922,3.1818181818181817,25.0,4.258426605430925,1.0,1.600759525593194], [3.1469381125462217,1.2926157374849392,2.8181818181818183,21.0,4.38657202961155,5.0,1.3738735063528678], [3.5368354949480074,1.52197716490452,3.5454545454545454,29.0,3.8731553000497807,5.0,1.507220685204827], [2.969240540..."
     ]
    }
   ],
   "source": [
    "vectors.take(10)"
   ]
  },
  {
   "cell_type": "code",
   "execution_count": 18,
   "metadata": {},
   "outputs": [
    {
     "data": {
      "application/vnd.jupyter.widget-view+json": {
       "model_id": "",
       "version_major": 2,
       "version_minor": 0
      },
      "text/plain": [
       "FloatProgress(value=0.0, bar_style='info', description='Progress:', layout=Layout(height='25px', width='50%'),…"
      ]
     },
     "metadata": {},
     "output_type": "display_data"
    },
    {
     "name": "stdout",
     "output_type": "stream",
     "text": [
      "K = 5\n",
      "Within set SSE = 8171060.205317439\n",
      "K = 6\n",
      "Within set SSE = 5088417.38308835\n",
      "K = 7\n",
      "Within set SSE = 4251740.478342662\n",
      "K = 8\n",
      "Within set SSE = 3854579.534054612\n",
      "K = 9\n",
      "Within set SSE = 3799472.4506969606\n",
      "K = 10\n",
      "Within set SSE = 3121875.3910771883\n"
     ]
    }
   ],
   "source": [
    "for(k <- 5 to 10)\n",
    "{\n",
    "    val kMeansModel = KMeans.train(vectors, k, 20)\n",
    "    val WSSE = kMeansModel.computeCost(vectors)\n",
    "    println(\"K = \" + k)\n",
    "    println(\"Within set SSE = \" + WSSE)\n",
    "}"
   ]
  },
  {
   "cell_type": "code",
   "execution_count": 19,
   "metadata": {},
   "outputs": [
    {
     "data": {
      "application/vnd.jupyter.widget-view+json": {
       "model_id": "",
       "version_major": 2,
       "version_minor": 0
      },
      "text/plain": [
       "FloatProgress(value=0.0, bar_style='info', description='Progress:', layout=Layout(height='25px', width='50%'),…"
      ]
     },
     "metadata": {},
     "output_type": "display_data"
    },
    {
     "name": "stdout",
     "output_type": "stream",
     "text": [
      "kMeansModel: org.apache.spark.mllib.clustering.KMeansModel = org.apache.spark.mllib.clustering.KMeansModel@5d29011d\n",
      "[3.0682262914508054,1.339472077732508,4.636363636363635,41.0,4.055611225324538,2.882933836071461,1.4660895669312195]\n",
      "[3.0739576528183448,1.3133769499408325,1.8065750757726602,9.872325833499259,4.049097695409977,4.12280701754386,1.4640149359496357]\n",
      "[3.0843689699605568,1.3276610793627461,3.6441550778473575,30.085705856320992,4.084506970621321,5.0,1.4709772118902253]\n",
      "[3.0800366022731755,1.3185862149213197,2.6286122254708637,18.914734480179504,4.055818187315434,3.2626695506276655,1.4663556471639834]\n",
      "[3.0908571806632783,1.3247555007118867,4.23382650908534,36.5720915999388,4.096492603022273,3.126383434487683,1.4727898172193463]\n",
      "[3.0670212279361517,1.3235530285000148,1.0,1.0,4.054546563926648,4.283765434448801,1.4636529696085365]\n",
      "[3.1256182725235933,1.3418636531149235,1.3636363636363618,5.0,4.1081598816424405,3.9813928378621557,1.4719668214071477]\n",
      "[3.114239055110017,1.3486212148623096,5.0,45.0,4.130645690875131,2.5182481751824817,1.4739910980036777]\n",
      "[3.094404534753051,1.3471538556853142,3.3364917092631865,26.701408801895024,4.090884168847696,0.9999999999999999,1.4712035001458699]\n",
      "[3.1380757970809054,1.3342056263131987,3.181818181818179,25.0,4.1014589885766215,5.0,1.4653356641915403]\n"
     ]
    }
   ],
   "source": [
    "val kMeansModel = KMeans.train(vectors, 10, 20)\n",
    "kMeansModel.clusterCenters.foreach(println)"
   ]
  },
  {
   "cell_type": "code",
   "execution_count": 20,
   "metadata": {},
   "outputs": [
    {
     "data": {
      "application/vnd.jupyter.widget-view+json": {
       "model_id": "",
       "version_major": 2,
       "version_minor": 0
      },
      "text/plain": [
       "FloatProgress(value=0.0, bar_style='info', description='Progress:', layout=Layout(height='25px', width='50%'),…"
      ]
     },
     "metadata": {},
     "output_type": "display_data"
    },
    {
     "name": "stdout",
     "output_type": "stream",
     "text": [
      "WSSE: Double = 3163414.511371173\n"
     ]
    }
   ],
   "source": [
    "val WSSE = kMeansModel.computeCost(vectors)"
   ]
  },
  {
   "cell_type": "code",
   "execution_count": 21,
   "metadata": {},
   "outputs": [
    {
     "data": {
      "application/vnd.jupyter.widget-view+json": {
       "model_id": "",
       "version_major": 2,
       "version_minor": 0
      },
      "text/plain": [
       "FloatProgress(value=0.0, bar_style='info', description='Progress:', layout=Layout(height='25px', width='50%'),…"
      ]
     },
     "metadata": {},
     "output_type": "display_data"
    },
    {
     "name": "stdout",
     "output_type": "stream",
     "text": [
      "predictions: org.apache.spark.rdd.RDD[Int] = MapPartitionsRDD[249] at map at KMeansModel.scala:85\n"
     ]
    }
   ],
   "source": [
    "val predictions = kMeansModel.predict(vectors)"
   ]
  },
  {
   "cell_type": "code",
   "execution_count": 22,
   "metadata": {},
   "outputs": [
    {
     "data": {
      "application/vnd.jupyter.widget-view+json": {
       "model_id": "",
       "version_major": 2,
       "version_minor": 0
      },
      "text/plain": [
       "FloatProgress(value=0.0, bar_style='info', description='Progress:', layout=Layout(height='25px', width='50%'),…"
      ]
     },
     "metadata": {},
     "output_type": "display_data"
    },
    {
     "name": "stdout",
     "output_type": "stream",
     "text": [
      "clusters: org.apache.spark.sql.DataFrame = [Cluster: int]\n"
     ]
    }
   ],
   "source": [
    "val clusters = predictions.toDF(\"Cluster\")"
   ]
  },
  {
   "cell_type": "code",
   "execution_count": 23,
   "metadata": {},
   "outputs": [
    {
     "data": {
      "application/vnd.jupyter.widget-view+json": {
       "model_id": "",
       "version_major": 2,
       "version_minor": 0
      },
      "text/plain": [
       "FloatProgress(value=0.0, bar_style='info', description='Progress:', layout=Layout(height='25px', width='50%'),…"
      ]
     },
     "metadata": {},
     "output_type": "display_data"
    },
    {
     "name": "stdout",
     "output_type": "stream",
     "text": [
      "+-------+\n",
      "|Cluster|\n",
      "+-------+\n",
      "|      6|\n",
      "|      2|\n",
      "|      6|\n",
      "|      1|\n",
      "|      8|\n",
      "|      3|\n",
      "|      2|\n",
      "|      2|\n",
      "|      3|\n",
      "|      4|\n",
      "|      7|\n",
      "|      0|\n",
      "|      1|\n",
      "|      4|\n",
      "|      1|\n",
      "|      2|\n",
      "|      5|\n",
      "|      4|\n",
      "|      4|\n",
      "|      7|\n",
      "+-------+\n",
      "only showing top 20 rows\n",
      "\n"
     ]
    }
   ],
   "source": [
    "clusters.show()"
   ]
  },
  {
   "cell_type": "code",
   "execution_count": 25,
   "metadata": {},
   "outputs": [
    {
     "data": {
      "application/vnd.jupyter.widget-view+json": {
       "model_id": "",
       "version_major": 2,
       "version_minor": 0
      },
      "text/plain": [
       "FloatProgress(value=0.0, bar_style='info', description='Progress:', layout=Layout(height='25px', width='50%'),…"
      ]
     },
     "metadata": {},
     "output_type": "display_data"
    },
    {
     "name": "stdout",
     "output_type": "stream",
     "text": [
      "df1: org.apache.spark.sql.DataFrame = [aScal: double, dScal: double ... 7 more fields]\n",
      "df2: org.apache.spark.sql.DataFrame = [Cluster: int, df2Key: bigint]\n",
      "songclusters: org.apache.spark.sql.DataFrame = [Cluster: int, song_id: string]\n"
     ]
    }
   ],
   "source": [
    "val df1 = allDF.withColumn(\"df1Key\", monotonically_increasing_id())\n",
    "val df2 = clusters.withColumn(\"df2Key\", monotonically_increasing_id())\n",
    "val songclusters = df2.join(df1, $\"df1Key\" === $\"df2Key\").drop(\"df1Key\", \"df2Key\", \"aScal\", \"dScal\", \"kScal\", \"kcScal\",\"lScal\",\"mScal\",\"sScal\")"
   ]
  },
  {
   "cell_type": "code",
   "execution_count": 26,
   "metadata": {},
   "outputs": [
    {
     "data": {
      "application/vnd.jupyter.widget-view+json": {
       "model_id": "",
       "version_major": 2,
       "version_minor": 0
      },
      "text/plain": [
       "FloatProgress(value=0.0, bar_style='info', description='Progress:', layout=Layout(height='25px', width='50%'),…"
      ]
     },
     "metadata": {},
     "output_type": "display_data"
    },
    {
     "name": "stdout",
     "output_type": "stream",
     "text": [
      "+-------+------------------+\n",
      "|Cluster|           song_id|\n",
      "+-------+------------------+\n",
      "|      6|SOMJBYD12A6D4F8557|\n",
      "|      9|SOMFRKT12A8C146C67|\n",
      "|      8|SOEAXKZ12A81C208DA|\n",
      "|      2|SOYOJKY12AB0185DFD|\n",
      "|      1|SOVHNAQ12AC4689235|\n",
      "|      3|SONWUSK12AB01837FD|\n",
      "|      3|SOPKWQK12A6D4F3824|\n",
      "|      4|SOEHOJX12AB018394D|\n",
      "|      1|SONBSMJ12AC4687AED|\n",
      "|      6|SOBLTSM12A6D4F9EEA|\n",
      "|      2|SOKXFFC12A8C133922|\n",
      "|      4|SOVBANJ12AAFF444CF|\n",
      "|      2|SOXWMCD12AB01810DB|\n",
      "|      7|SONWQQX12AC3DF6762|\n",
      "|      5|SOGIKFN12AC3DF7E39|\n",
      "|      6|SOGAJHS12A8C13C37B|\n",
      "|      1|SOAYOUE12AB01888A6|\n",
      "|      9|SOYSPCB12A8C141C86|\n",
      "|      7|SOHPVWT12AB0184E54|\n",
      "|      5|SOZRRMP12A58A75BEB|\n",
      "+-------+------------------+\n",
      "only showing top 20 rows\n",
      "\n"
     ]
    }
   ],
   "source": [
    "songclusters.show()"
   ]
  },
  {
   "cell_type": "code",
   "execution_count": 27,
   "metadata": {},
   "outputs": [
    {
     "data": {
      "application/vnd.jupyter.widget-view+json": {
       "model_id": "",
       "version_major": 2,
       "version_minor": 0
      },
      "text/plain": [
       "FloatProgress(value=0.0, bar_style='info', description='Progress:', layout=Layout(height='25px', width='50%'),…"
      ]
     },
     "metadata": {},
     "output_type": "display_data"
    },
    {
     "name": "stdout",
     "output_type": "stream",
     "text": [
      "list: List[String] = List(user_id, SongId, PlayCount)\n",
      "import spark.implicits._\n",
      "usdf2: org.apache.spark.sql.DataFrame = [user_id: string, SongId: string ... 1 more field]\n"
     ]
    }
   ],
   "source": [
    "val list = List(\"user_id\", \"SongId\", \"PlayCount\")\n",
    "import spark.implicits._\n",
    "val usdf2 = usdf.toDF(list:_*)"
   ]
  },
  {
   "cell_type": "code",
   "execution_count": 28,
   "metadata": {},
   "outputs": [
    {
     "data": {
      "application/vnd.jupyter.widget-view+json": {
       "model_id": "",
       "version_major": 2,
       "version_minor": 0
      },
      "text/plain": [
       "FloatProgress(value=0.0, bar_style='info', description='Progress:', layout=Layout(height='25px', width='50%'),…"
      ]
     },
     "metadata": {},
     "output_type": "display_data"
    },
    {
     "name": "stdout",
     "output_type": "stream",
     "text": [
      "+--------------------+------------------+---------+\n",
      "|             user_id|            SongId|PlayCount|\n",
      "+--------------------+------------------+---------+\n",
      "|b80344d063b5ccb32...|SOAKIMP12A8C130995|        1|\n",
      "|b80344d063b5ccb32...|SOAPDEY12A81C210A9|        1|\n",
      "|b80344d063b5ccb32...|SOBBMDR12A8C13253B|        2|\n",
      "|b80344d063b5ccb32...|SOBFNSP12AF72A0E22|        1|\n",
      "|b80344d063b5ccb32...|SOBFOVM12A58A7D494|        1|\n",
      "|b80344d063b5ccb32...|SOBNZDC12A6D4FC103|        1|\n",
      "|b80344d063b5ccb32...|SOBSUJE12A6D4F8CF5|        2|\n",
      "|b80344d063b5ccb32...|SOBVFZR12A6D4F8AE3|        1|\n",
      "|b80344d063b5ccb32...|SOBXALG12A8C13C108|        1|\n",
      "|b80344d063b5ccb32...|SOBXHDL12A81C204C0|        1|\n",
      "+--------------------+------------------+---------+\n",
      "only showing top 10 rows\n",
      "\n"
     ]
    }
   ],
   "source": [
    "usdf2.show(10)"
   ]
  },
  {
   "cell_type": "code",
   "execution_count": 30,
   "metadata": {},
   "outputs": [
    {
     "data": {
      "application/vnd.jupyter.widget-view+json": {
       "model_id": "",
       "version_major": 2,
       "version_minor": 0
      },
      "text/plain": [
       "FloatProgress(value=0.0, bar_style='info', description='Progress:', layout=Layout(height='25px', width='50%'),…"
      ]
     },
     "metadata": {},
     "output_type": "display_data"
    },
    {
     "name": "stdout",
     "output_type": "stream",
     "text": [
      "userclusters: org.apache.spark.sql.DataFrame = [user_id: string, SongId: string ... 3 more fields]\n"
     ]
    }
   ],
   "source": [
    "val userclusters = usdf2.join(songclusters, usdf2(\"SongId\")===songclusters(\"song_id\"))"
   ]
  },
  {
   "cell_type": "code",
   "execution_count": 31,
   "metadata": {},
   "outputs": [
    {
     "data": {
      "application/vnd.jupyter.widget-view+json": {
       "model_id": "",
       "version_major": 2,
       "version_minor": 0
      },
      "text/plain": [
       "FloatProgress(value=0.0, bar_style='info', description='Progress:', layout=Layout(height='25px', width='50%'),…"
      ]
     },
     "metadata": {},
     "output_type": "display_data"
    },
    {
     "name": "stdout",
     "output_type": "stream",
     "text": [
      "+--------------------+------------------+---------+-------+------------------+\n",
      "|             user_id|            SongId|PlayCount|Cluster|           song_id|\n",
      "+--------------------+------------------+---------+-------+------------------+\n",
      "|2e66366ff3a38f403...|SOAADGZ12A8C1415AC|        1|      8|SOAADGZ12A8C1415AC|\n",
      "+--------------------+------------------+---------+-------+------------------+\n",
      "only showing top 1 row\n",
      "\n"
     ]
    }
   ],
   "source": [
    "userclusters.show(1)"
   ]
  },
  {
   "cell_type": "code",
   "execution_count": 32,
   "metadata": {},
   "outputs": [
    {
     "data": {
      "application/vnd.jupyter.widget-view+json": {
       "model_id": "",
       "version_major": 2,
       "version_minor": 0
      },
      "text/plain": [
       "FloatProgress(value=0.0, bar_style='info', description='Progress:', layout=Layout(height='25px', width='50%'),…"
      ]
     },
     "metadata": {},
     "output_type": "display_data"
    },
    {
     "name": "stdout",
     "output_type": "stream",
     "text": [
      "msdf6: org.apache.spark.sql.DataFrame = [artist_familiarity: double, duration: double ... 6 more fields]\n",
      "+--------------------+---------+---+--------------+--------+----+--------+------------------+\n",
      "|  artist_familiarity| duration|key|key_confidence|loudness|mode|   speed|            songID|\n",
      "+--------------------+---------+---+--------------+--------+----+--------+------------------+\n",
      "|  0.6399025154955147| 213.9424|1.0|         0.349|  -4.769| 1.0|  24.986|SOBLFFE12AF72AA5BA|\n",
      "|  0.6717552053402852|118.07302|7.0|         0.187|   -7.24| 1.0|31.36875|SOQPWCR12A6D4FB2A3|\n",
      "|  0.5817937658450281|218.93179|1.0|         0.736| -11.197| 0.0| 23.0495|SOMZWCG12A8C13C480|\n",
      "| 0.47694059129745225|193.01832|2.0|          0.76| -13.179| 1.0|10.31975|SOJDASC12A8C13EB49|\n",
      "|0.013157973056854065|252.94322|6.0|         0.063|  -7.227| 0.0| 40.4975|SOFRDWL12A58A7CEF7|\n",
      "|  0.5313342110692906|222.35383|5.0|         0.763|  -5.232| 1.0|  25.203|SOZIULX12A8AE46C39|\n",
      "|  0.6278278253312966|396.35546|7.0|         0.195| -13.225| 1.0|  34.192|SOCSNVI12A8C13ECC2|\n",
      "|  0.4873567909281477|177.47546|8.0|         0.643|  -9.689| 1.0| 25.0175|SOXVLOJ12AB0189215|\n",
      "| 0.42219370224240504|129.85424|5.0|         0.084|  -9.495| 1.0|39.16925|SOEKAZG12AB018837E|\n",
      "|  0.7868062541707812| 246.9873|9.0|         0.417|  -8.849| 1.0|  38.039|SOXZYWX12A6310ED0C|\n",
      "+--------------------+---------+---+--------------+--------+----+--------+------------------+\n",
      "only showing top 10 rows\n",
      "\n"
     ]
    }
   ],
   "source": [
    "val msdf6 = msdf4.withColumnRenamed(\"song_id\",\"songID\")\n",
    "msdf6.show(10)"
   ]
  },
  {
   "cell_type": "code",
   "execution_count": 33,
   "metadata": {},
   "outputs": [
    {
     "data": {
      "application/vnd.jupyter.widget-view+json": {
       "model_id": "",
       "version_major": 2,
       "version_minor": 0
      },
      "text/plain": [
       "FloatProgress(value=0.0, bar_style='info', description='Progress:', layout=Layout(height='25px', width='50%'),…"
      ]
     },
     "metadata": {},
     "output_type": "display_data"
    },
    {
     "name": "stdout",
     "output_type": "stream",
     "text": [
      "topfeats: org.apache.spark.sql.DataFrame = [Cluster: int, artist_familiarity: double ... 6 more fields]\n",
      "+-------+-------------------+---------+----+--------------+--------+----+-----------------+\n",
      "|Cluster| artist_familiarity| duration| key|key_confidence|loudness|mode|            speed|\n",
      "+-------+-------------------+---------+----+--------------+--------+----+-----------------+\n",
      "|      5| 0.6394469876986911|142.39302| 0.0|         0.622|  -4.076| 1.0|         46.24525|\n",
      "|      2| 0.6130899696520477|355.36934| 7.0|         0.475|  -7.608| 1.0|         22.98875|\n",
      "|      4| 0.5449794475871426|162.58567| 9.0|         0.313|  -8.103| 1.0|         21.75625|\n",
      "|      0| 0.5845937561874122|435.93098|10.0|         0.586|  -7.336| 0.0|28.22066666666667|\n",
      "|      1|0.49915741844100164|336.74404| 2.0|          0.41| -13.644| 0.0|          27.7055|\n",
      "|      1|  0.718068955556776|211.64363| 2.0|         0.578|  -8.426| 1.0|36.75566666666666|\n",
      "|      6| 0.5769307223706501|217.99138| 1.0|         0.234|  -6.024| 1.0|         55.24625|\n",
      "|      4| 0.7294657410803518|322.40281| 9.0|          0.53|   -9.34| 0.0|         45.00225|\n",
      "|      5| 0.6041098708079196|172.82567| 0.0|         0.565| -14.026| 0.0|         25.06525|\n",
      "|      3| 0.5819047134109647|  589.322| 4.0|         0.627|  -8.987| 0.0|         21.02275|\n",
      "|      6| 0.7651414179080641|256.31302| 1.0|         0.368| -13.328| 1.0|          25.3765|\n",
      "|      5| 0.6253428981418713|270.75873| 0.0|         0.031|  -7.593| 1.0|           33.997|\n",
      "|      2| 0.7523647196316754|241.03138| 8.0|         0.472|  -9.731| 1.0|          37.9235|\n",
      "|      5| 0.6098197611515211|227.05587| 0.0|         0.352|  -3.511| 1.0|          31.4445|\n",
      "|      2| 0.7062289233319146|266.26567| 7.0|         0.903| -11.188| 1.0|          20.8455|\n",
      "|      5| 0.6253428981418713|270.75873| 0.0|         0.031|  -7.593| 1.0|           33.997|\n",
      "|      2| 0.6653200948181356|193.54077| 8.0|          0.21|  -6.186| 1.0|         35.50275|\n",
      "|      3| 0.5836490777229153|296.01914| 4.0|         0.636|  -6.062| 0.0|         32.51175|\n",
      "|      5|0.47379718339584415|261.19791| 0.0|         0.594| -12.654| 0.0|           32.924|\n",
      "|      2| 0.4717339277537315|205.50485| 7.0|         0.659| -11.085| 1.0|            24.56|\n",
      "+-------+-------------------+---------+----+--------------+--------+----+-----------------+\n",
      "only showing top 20 rows\n",
      "\n"
     ]
    }
   ],
   "source": [
    "val topfeats = userclusters.join(msdf6, userclusters(\"SongId\")===msdf6(\"songID\")).orderBy(desc(\"PlayCount\")).select(\"Cluster\",\"artist_familiarity\",\"duration\",\"key\",\"key_confidence\",\"loudness\",\"mode\",\"speed\")\n",
    "topfeats.show()"
   ]
  },
  {
   "cell_type": "code",
   "execution_count": 34,
   "metadata": {},
   "outputs": [
    {
     "data": {
      "application/vnd.jupyter.widget-view+json": {
       "model_id": "",
       "version_major": 2,
       "version_minor": 0
      },
      "text/plain": [
       "FloatProgress(value=0.0, bar_style='info', description='Progress:', layout=Layout(height='25px', width='50%'),…"
      ]
     },
     "metadata": {},
     "output_type": "display_data"
    },
    {
     "name": "stdout",
     "output_type": "stream",
     "text": [
      "tf: Array[org.apache.spark.sql.Row] = Array([1,0.718068955556776,211.64363,2.0,0.578,-8.426,1.0,36.75566666666666], [2,0.7523647196316754,241.03138,8.0,0.472,-9.731,1.0,37.9235], [5,0.6041098708079196,172.82567,0.0,0.565,-14.026,0.0,25.06525])\n"
     ]
    }
   ],
   "source": [
    "val tf = topfeats.head(3)"
   ]
  },
  {
   "cell_type": "code",
   "execution_count": 35,
   "metadata": {},
   "outputs": [
    {
     "data": {
      "application/vnd.jupyter.widget-view+json": {
       "model_id": "",
       "version_major": 2,
       "version_minor": 0
      },
      "text/plain": [
       "FloatProgress(value=0.0, bar_style='info', description='Progress:', layout=Layout(height='25px', width='50%'),…"
      ]
     },
     "metadata": {},
     "output_type": "display_data"
    },
    {
     "name": "stdout",
     "output_type": "stream",
     "text": [
      "song1: org.apache.spark.sql.Row = [1,0.718068955556776,211.64363,2.0,0.578,-8.426,1.0,36.75566666666666]\n",
      "song2: org.apache.spark.sql.Row = [2,0.7523647196316754,241.03138,8.0,0.472,-9.731,1.0,37.9235]\n",
      "song3: org.apache.spark.sql.Row = [5,0.6041098708079196,172.82567,0.0,0.565,-14.026,0.0,25.06525]\n"
     ]
    }
   ],
   "source": [
    "val song1 = tf(0)\n",
    "val song2 = tf(1)\n",
    "val song3 = tf(2)"
   ]
  },
  {
   "cell_type": "code",
   "execution_count": 36,
   "metadata": {},
   "outputs": [
    {
     "data": {
      "application/vnd.jupyter.widget-view+json": {
       "model_id": "",
       "version_major": 2,
       "version_minor": 0
      },
      "text/plain": [
       "FloatProgress(value=0.0, bar_style='info', description='Progress:', layout=Layout(height='25px', width='50%'),…"
      ]
     },
     "metadata": {},
     "output_type": "display_data"
    },
    {
     "name": "stdout",
     "output_type": "stream",
     "text": [
      "msdclusters: org.apache.spark.sql.DataFrame = [artist_familiarity: double, duration: double ... 8 more fields]\n",
      "cluster1: org.apache.spark.sql.Dataset[org.apache.spark.sql.Row] = [artist_familiarity: double, duration: double ... 8 more fields]\n",
      "cluster2: org.apache.spark.sql.Dataset[org.apache.spark.sql.Row] = [artist_familiarity: double, duration: double ... 8 more fields]\n",
      "cluster3: org.apache.spark.sql.Dataset[org.apache.spark.sql.Row] = [artist_familiarity: double, duration: double ... 8 more fields]\n"
     ]
    }
   ],
   "source": [
    "val msdclusters = msdf6.join(songclusters, msdf6(\"songID\")===songclusters(\"song_id\"))\n",
    "val cluster1 = msdclusters.filter(msdclusters(\"Cluster\")===song1(0))\n",
    "val cluster2 = msdclusters.filter(msdclusters(\"Cluster\")===song2(0))\n",
    "val cluster3 = msdclusters.filter(msdclusters(\"Cluster\")===song3(0))"
   ]
  },
  {
   "cell_type": "code",
   "execution_count": 37,
   "metadata": {},
   "outputs": [
    {
     "data": {
      "application/vnd.jupyter.widget-view+json": {
       "model_id": "",
       "version_major": 2,
       "version_minor": 0
      },
      "text/plain": [
       "FloatProgress(value=0.0, bar_style='info', description='Progress:', layout=Layout(height='25px', width='50%'),…"
      ]
     },
     "metadata": {},
     "output_type": "display_data"
    },
    {
     "name": "stdout",
     "output_type": "stream",
     "text": [
      "+-------------------+---------+---+--------------+--------+----+--------+------------------+-------+------------------+\n",
      "| artist_familiarity| duration|key|key_confidence|loudness|mode|   speed|            songID|Cluster|           song_id|\n",
      "+-------------------+---------+---+--------------+--------+----+--------+------------------+-------+------------------+\n",
      "| 0.5473030519864946| 91.11465|2.0|         0.141| -19.722| 1.0| 8.82825|SOATWKO12AC468742B|      1|SOATWKO12AC468742B|\n",
      "| 0.8489985463716768|201.87383|2.0|           1.0| -12.155| 1.0|  16.276|SOBBGQK12AB0183F1E|      1|SOBBGQK12AB0183F1E|\n",
      "| 0.6822910077453604|361.50812|2.0|         0.847|  -5.008| 1.0|33.35875|SONBWQH12A6D4FBAA3|      1|SONBWQH12A6D4FBAA3|\n",
      "| 0.6357570221000797|127.05914|2.0|         0.826| -12.772| 1.0|37.08925|SOFRUDU12A8C13A40C|      1|SOFRUDU12A8C13A40C|\n",
      "|0.46625786430017835|211.93098|2.0|         0.606|  -4.819| 1.0|22.50425|SOOMECA12A8C132878|      1|SOOMECA12A8C132878|\n",
      "| 0.4967868356700172|292.17914|2.0|         0.751|  -3.744| 1.0|20.54725|SOAFLZM12A8C132A2D|      1|SOAFLZM12A8C132A2D|\n",
      "| 0.6028727457745936|138.57914|2.0|         0.604|  -8.532| 0.0| 34.4805|SOBBHII12AB0184B2C|      1|SOBBHII12AB0184B2C|\n",
      "|0.24608745713959745|246.38649|2.0|         0.429|  -8.482| 1.0|25.82425|SOLCRQP12A8C13CE2B|      1|SOLCRQP12A8C13CE2B|\n",
      "| 0.5218873417510785|262.29506|2.0|         0.491|  -8.048| 1.0|  40.413|SOEMOWB12AC468E37B|      1|SOEMOWB12AC468E37B|\n",
      "|0.33697042752391904|172.25098|2.0|         0.558|   -8.46| 0.0|16.69125|SONTBYD12A58A77A29|      1|SONTBYD12A58A77A29|\n",
      "|0.48393493930166254|393.92608|2.0|          0.38|   -7.49| 0.0|  37.687|SOTYERR12A58A77CA5|      1|SOTYERR12A58A77CA5|\n",
      "|0.45404399500343795| 239.3073|2.0|         0.569|  -5.758| 1.0| 21.7345|SORENXV12A6701F61F|      1|SORENXV12A6701F61F|\n",
      "|0.42314872564118666|179.40853|2.0|         0.348| -13.187| 0.0|  35.537|SOYYETY12A8C13B03B|      1|SOYYETY12A8C13B03B|\n",
      "|  0.505644261572307|254.32771|2.0|          0.64| -11.213| 1.0|38.00125|SODBMZD12A8C134232|      1|SODBMZD12A8C134232|\n",
      "| 0.5645051983957038|135.26159|2.0|         0.309|    -7.8| 0.0|  21.029|SONGYHO12A6D4F9704|      1|SONGYHO12A6D4F9704|\n",
      "| 0.5573451271328356|100.07465|2.0|          0.85| -10.151| 1.0|  31.192|SOAYOUE12AB01888A6|      1|SOAYOUE12AB01888A6|\n",
      "|  0.629102177133947|187.76771|3.0|         0.644| -16.306| 1.0|17.68275|SOHPKBJ12AB018C46F|      1|SOHPKBJ12AB018C46F|\n",
      "| 0.5602158457956012|202.50077|2.0|         0.449|  -5.908| 0.0|37.63025|SOVMJTE12AB018A075|      1|SOVMJTE12AB018A075|\n",
      "| 0.3977728757878008|190.04036|2.0|         0.105| -14.179| 1.0|51.32925|SOFGHAM12AB0186412|      1|SOFGHAM12AB0186412|\n",
      "| 0.5361377951254632|122.20036|2.0|         0.603|  -7.828| 1.0|49.82075|SOGUMJN12AB01826E6|      1|SOGUMJN12AB01826E6|\n",
      "+-------------------+---------+---+--------------+--------+----+--------+------------------+-------+------------------+\n",
      "only showing top 20 rows\n",
      "\n",
      "+-------------------+---------+---+--------------+--------+----+------------------+------------------+-------+------------------+\n",
      "| artist_familiarity| duration|key|key_confidence|loudness|mode|             speed|            songID|Cluster|           song_id|\n",
      "+-------------------+---------+---+--------------+--------+----+------------------+------------------+-------+------------------+\n",
      "| 0.4514622880480358|183.50975|7.0|         0.228|  -5.607| 1.0|          48.75675|SOEEGSR12A8C138985|      2|SOEEGSR12A8C138985|\n",
      "| 0.4435237504299863| 37.92934|7.0|         0.875| -20.574| 1.0|            34.244|SOPMWIJ12AB0183C48|      2|SOPMWIJ12AB0183C48|\n",
      "|0.42203001836497267|369.57995|7.0|         0.657|  -9.049| 1.0|          33.72025|SODXCRT12A8C142EB7|      2|SODXCRT12A8C142EB7|\n",
      "|0.48004781937147645|570.90567|7.0|         0.792|  -12.28| 1.0|          30.74175|SOLGRUN12A8C140543|      2|SOLGRUN12A8C140543|\n",
      "|0.33462887799488394|150.64771|7.0|         0.804|  -9.258| 1.0|          30.49575|SOKZTUH12AB018B938|      2|SOKZTUH12AB018B938|\n",
      "| 0.5027654314966983|377.12934|7.0|         0.431|  -7.164| 1.0|          33.45725|SOKMPTV12AB01896F0|      2|SOKMPTV12AB01896F0|\n",
      "| 0.5165492376866032|289.12281|7.0|         0.723| -10.776| 1.0|            46.495|SOMKEBS12AB0181FB0|      2|SOMKEBS12AB0181FB0|\n",
      "| 0.6278278253312966|396.35546|7.0|         0.195| -13.225| 1.0|            34.192|SOCSNVI12A8C13ECC2|      2|SOCSNVI12A8C13ECC2|\n",
      "|0.48653547702794403|245.75955|8.0|         0.658|  -5.902| 1.0|           39.3545|SOFDALS12AB0182B4C|      2|SOFDALS12AB0182B4C|\n",
      "| 0.2287303097845054| 223.7122|7.0|          0.77|  -5.592| 1.0|          23.75325|SOLKUDC12AAA15FC79|      2|SOLKUDC12AAA15FC79|\n",
      "| 0.7071997638379363|290.29832|7.0|         0.725|  -5.271| 1.0|           37.5155|SOXLBJT12A8C140925|      2|SOXLBJT12A8C140925|\n",
      "|0.42243980146308846|196.41424|7.0|         0.001|  -6.454| 1.0|            18.978|SOPHSLD12A8C1348A2|      2|SOPHSLD12A8C1348A2|\n",
      "|0.45288503507716343| 221.1522|8.0|          0.69|  -9.621| 1.0|            22.472|SOHKWBB12AB01874A3|      2|SOHKWBB12AB01874A3|\n",
      "|  0.493858060563651|232.59383|7.0|         0.828| -15.417| 1.0|           35.5625|SOEFSSH12A8C1350C3|      2|SOEFSSH12A8C1350C3|\n",
      "| 0.5451592956008632|245.21098|7.0|          0.07|  -7.545| 1.0|          29.49375|SOKEJEJ12A8C13E0D0|      2|SOKEJEJ12A8C13E0D0|\n",
      "| 0.6111874867395937|422.13832|7.0|         0.744|  -7.164| 1.0|31.996199999999998|SOENQZW12AB017CB92|      2|SOENQZW12AB017CB92|\n",
      "| 0.5917650078892723|287.92118|7.0|         0.577|  -6.535| 1.0|            28.747|SOYOJKY12AB0185DFD|      2|SOYOJKY12AB0185DFD|\n",
      "| 0.4862262287068842|320.60036|7.0|          0.66|  -7.159| 1.0|           16.8005|SORNOIX12A6D4FA1C8|      2|SORNOIX12A6D4FA1C8|\n",
      "| 0.6655411417645251|274.49424|8.0|          0.51|  -6.572| 1.0|           47.1005|SOBKPPQ12A58A78407|      2|SOBKPPQ12A58A78407|\n",
      "|0.21008555478235397|257.30567|7.0|         0.093| -15.887| 1.0|           15.7365|SOAGGIQ12A8C13420D|      2|SOAGGIQ12A8C13420D|\n",
      "+-------------------+---------+---+--------------+--------+----+------------------+------------------+-------+------------------+\n",
      "only showing top 20 rows\n",
      "\n",
      "+-------------------+---------+---+--------------+--------+----+------------------+------------------+-------+------------------+\n",
      "| artist_familiarity| duration|key|key_confidence|loudness|mode|             speed|            songID|Cluster|           song_id|\n",
      "+-------------------+---------+---+--------------+--------+----+------------------+------------------+-------+------------------+\n",
      "|0.34265376004990156|197.90322|0.0|         0.928| -11.726| 1.0|           25.2585|SORUVEK12A8C13FAE0|      5|SORUVEK12A8C13FAE0|\n",
      "| 0.4823560425909108|226.66404|0.0|         0.863| -12.716| 1.0|          29.31775|SOHGKJW12AC468A8BD|      5|SOHGKJW12AC468A8BD|\n",
      "| 0.6717771961203761|533.68118|0.0|          0.01|  -6.171| 1.0|17.063200000000002|SOHOWXW12A6D4F8B39|      5|SOHOWXW12A6D4F8B39|\n",
      "| 0.5918839676045228|255.76444|0.0|         0.544| -10.699| 1.0|            38.864|SOUTNEF12A6D4F9219|      5|SOUTNEF12A6D4F9219|\n",
      "|0.40745564385201366|276.50567|0.0|          0.29|  -4.638| 1.0|            25.493|SOTNTNJ12AAA15FBD6|      5|SOTNTNJ12AAA15FBD6|\n",
      "|0.44592022496366146|270.94159|0.0|         0.334|  -4.855| 0.0|          22.71225|SOXXQCX12A8C1370EA|      5|SOXXQCX12A8C1370EA|\n",
      "| 0.5137474647813711|171.20608|0.0|         0.073| -16.042| 1.0|           37.1365|SOWTXYU12AB01821CB|      5|SOWTXYU12AB01821CB|\n",
      "| 0.7437068868632823|248.65914|0.0|         0.295| -15.413| 1.0|          35.54675|SOSIJKW12A8C1330E3|      5|SOSIJKW12A8C1330E3|\n",
      "| 0.5985665232823242|295.07873|0.0|          0.25|  -6.721| 1.0|          37.99575|SOFACJY12AB01897BE|      5|SOFACJY12AB01897BE|\n",
      "| 0.5202049113174553|263.94077|0.0|         0.693| -19.821| 1.0|          19.17325|SOFQGCQ12AB0183609|      5|SOFQGCQ12AB0183609|\n",
      "| 0.3266997281304141|145.57995|0.0|         0.757| -13.703| 1.0|          40.06525|SOQPJUL12AB0189379|      5|SOQPJUL12AB0189379|\n",
      "|0.10659217676237433| 345.7824|0.0|         0.401| -15.338| 0.0|           26.5665|SOTMVPV12A3F1EB94D|      5|SOTMVPV12A3F1EB94D|\n",
      "| 0.4114210482617737|122.64444|0.0|          0.61|  -8.541| 0.0|           25.6345|SOXIATP12AAF3B2184|      5|SOXIATP12AAF3B2184|\n",
      "|0.43053890741728074| 223.4771|0.0|           0.0| -14.438| 1.0|           28.0015|SOUVRGZ12A58A77F90|      5|SOUVRGZ12A58A77F90|\n",
      "| 0.5799279092289747|218.90567|0.0|         0.542| -10.945| 1.0| 44.43366666666666|SOWZSTM12A6D4FBA44|      5|SOWZSTM12A6D4FBA44|\n",
      "|0.45533803828954195|243.98322|0.0|         0.193|   -9.25| 1.0|           29.0205|SOLHEMZ12AB018861D|      5|SOLHEMZ12AB018861D|\n",
      "| 0.5344374975734375| 128.9922|0.0|         0.096| -10.133| 1.0|27.877666666666666|SOZAZKV12A6D4FA605|      5|SOZAZKV12A6D4FA605|\n",
      "|0.47956790344048605|251.24526|0.0|          0.78|   -7.04| 1.0|          29.65825|SOMUAFQ12A8C142839|      5|SOMUAFQ12A8C142839|\n",
      "| 0.6722765525259803|244.34893|0.0|         0.329|  -8.823| 1.0|          40.01225|SODUNIV12A8AE47CD5|      5|SODUNIV12A8AE47CD5|\n",
      "| 0.4429118100300413|276.97587|0.0|         0.401|   -7.15| 1.0|            33.481|SOYHUTQ12A8C13FA32|      5|SOYHUTQ12A8C13FA32|\n",
      "+-------------------+---------+---+--------------+--------+----+------------------+------------------+-------+------------------+\n",
      "only showing top 20 rows\n",
      "\n"
     ]
    }
   ],
   "source": [
    "cluster1.show()\n",
    "cluster2.show()\n",
    "cluster3.show()"
   ]
  },
  {
   "cell_type": "code",
   "execution_count": 38,
   "metadata": {},
   "outputs": [
    {
     "data": {
      "application/vnd.jupyter.widget-view+json": {
       "model_id": "",
       "version_major": 2,
       "version_minor": 0
      },
      "text/plain": [
       "FloatProgress(value=0.0, bar_style='info', description='Progress:', layout=Layout(height='25px', width='50%'),…"
      ]
     },
     "metadata": {},
     "output_type": "display_data"
    },
    {
     "name": "stdout",
     "output_type": "stream",
     "text": [
      "pred1: org.apache.spark.sql.Dataset[org.apache.spark.sql.Row] = [song_id: string, score: double]\n",
      "pred2: org.apache.spark.sql.Dataset[org.apache.spark.sql.Row] = [song_id: string, score: double]\n",
      "pred3: org.apache.spark.sql.Dataset[org.apache.spark.sql.Row] = [song_id: string, score: double]\n"
     ]
    }
   ],
   "source": [
    "val pred1 = cluster1.select($\"song_id\", abs($\"artist_familiarity\"-song1(1)) + abs($\"duration\"-song1(2)) + abs($\"key\"-song1(3)) + abs($\"key_confidence\"-song1(4)) + abs($\"loudness\"-song1(4)) + abs($\"mode\"-song1(4)) + abs($\"speed\"-song1(4)) as \"score\").orderBy(asc(\"score\")).limit(4)\n",
    "val pred2 = cluster2.select($\"song_id\", abs($\"artist_familiarity\"-song2(1)) + abs($\"duration\"-song2(2)) + abs($\"key\"-song2(3)) + abs($\"key_confidence\"-song2(4)) + abs($\"loudness\"-song1(4)) + abs($\"mode\"-song1(4)) + abs($\"speed\"-song1(4)) as \"score\").orderBy(asc(\"score\")).limit(4)\n",
    "val pred3 = cluster3.select($\"song_id\", abs($\"artist_familiarity\"-song3(1)) + abs($\"duration\"-song3(2)) + abs($\"key\"-song3(3)) + abs($\"key_confidence\"-song3(4)) + abs($\"loudness\"-song1(4)) + abs($\"mode\"-song1(4)) + abs($\"speed\"-song1(4)) as \"score\").orderBy(asc(\"score\")).limit(4)"
   ]
  },
  {
   "cell_type": "code",
   "execution_count": 39,
   "metadata": {},
   "outputs": [
    {
     "data": {
      "application/vnd.jupyter.widget-view+json": {
       "model_id": "",
       "version_major": 2,
       "version_minor": 0
      },
      "text/plain": [
       "FloatProgress(value=0.0, bar_style='info', description='Progress:', layout=Layout(height='25px', width='50%'),…"
      ]
     },
     "metadata": {},
     "output_type": "display_data"
    },
    {
     "name": "stdout",
     "output_type": "stream",
     "text": [
      "+------------------+--------------------+\n",
      "|             score|               title|\n",
      "+------------------+--------------------+\n",
      "|14.468112928040636|Snowflake Reel/Do...|\n",
      "|14.361171608985805|      After Midnight|\n",
      "|12.117066123880496|       Boredom Kills|\n",
      "|12.228154747031004| Bulerias De Menorca|\n",
      "+------------------+--------------------+\n",
      "\n",
      "+------------------+--------------------+\n",
      "|             score|               title|\n",
      "+------------------+--------------------+\n",
      "|14.688653342119725|Pleasure From The...|\n",
      "|11.632995219711498|What's Done Is Do...|\n",
      "| 9.538709655698419|If You Tolerate This|\n",
      "| 15.40362202785942|        Selfish Plan|\n",
      "+------------------+--------------------+\n",
      "\n",
      "+------------------+--------------+\n",
      "|             score|         title|\n",
      "+------------------+--------------+\n",
      "| 21.15945812329652|  Harlem Strut|\n",
      "|21.154301323079107|Screwin' It Up|\n",
      "|15.719794155079782|    Armageddon|\n",
      "| 17.18043670924569|     Cable Car|\n",
      "+------------------+--------------+\n",
      "\n"
     ]
    }
   ],
   "source": [
    "pred1.join(msdf, pred1(\"song_id\")===msdf(\"song_id\")).select(\"score\", \"title\").show()\n",
    "pred2.join(msdf, pred2(\"song_id\")===msdf(\"song_id\")).select(\"score\", \"title\").show()\n",
    "pred3.join(msdf, pred3(\"song_id\")===msdf(\"song_id\")).select(\"score\", \"title\").show()"
   ]
  },
  {
   "cell_type": "code",
   "execution_count": null,
   "metadata": {},
   "outputs": [],
   "source": []
  }
 ],
 "metadata": {
  "kernelspec": {
   "display_name": "Spark",
   "language": "",
   "name": "sparkkernel"
  },
  "language_info": {
   "codemirror_mode": "text/x-scala",
   "mimetype": "text/x-scala",
   "name": "scala",
   "pygments_lexer": "scala"
  }
 },
 "nbformat": 4,
 "nbformat_minor": 4
}
