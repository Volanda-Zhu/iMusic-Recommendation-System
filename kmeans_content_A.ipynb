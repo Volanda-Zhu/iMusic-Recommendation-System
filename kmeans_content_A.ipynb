{
 "cells": [
  {
   "cell_type": "code",
   "execution_count": 63,
   "metadata": {},
   "outputs": [
    {
     "data": {
      "application/vnd.jupyter.widget-view+json": {
       "model_id": "",
       "version_major": 2,
       "version_minor": 0
      },
      "text/plain": [
       "FloatProgress(value=0.0, bar_style='info', description='Progress:', layout=Layout(height='25px', width='50%'),…"
      ]
     },
     "metadata": {},
     "output_type": "display_data"
    },
    {
     "name": "stdout",
     "output_type": "stream",
     "text": [
      "import org.apache.spark.mllib.linalg.Vectors\n",
      "import org.apache.spark.mllib.clustering.KMeans\n",
      "import org.apache.spark.sql.functions._\n",
      "import org.apache.spark.sql.functions.abs\n",
      "import org.apache.spark.sql.Row\n",
      "import org.apache.spark.sql.functions.{min, max, lit}\n",
      "import org.apache.spark.sql.SQLContext\n",
      "import org.apache.spark.sql.types.{IntegerType, StructField, StructType, StringType, DoubleType}\n",
      "warning: there was one deprecation warning; re-run with -deprecation for details\n",
      "sqlContext: org.apache.spark.sql.SQLContext = org.apache.spark.sql.SQLContext@4934a240\n"
     ]
    }
   ],
   "source": [
    "import org.apache.spark.mllib.linalg.Vectors\n",
    "import org.apache.spark.mllib.clustering.KMeans\n",
    "import org.apache.spark.sql.functions._\n",
    "import org.apache.spark.sql.functions.abs\n",
    "import org.apache.spark.sql.Row\n",
    "import org.apache.spark.sql.functions.{min, max, lit}\n",
    "import org.apache.spark.sql.SQLContext\n",
    "import org.apache.spark.sql.types.{ IntegerType, StructField, StructType, StringType, DoubleType}\n",
    "val sqlContext = new SQLContext(sc)"
   ]
  },
  {
   "cell_type": "code",
   "execution_count": 64,
   "metadata": {},
   "outputs": [
    {
     "data": {
      "application/vnd.jupyter.widget-view+json": {
       "model_id": "",
       "version_major": 2,
       "version_minor": 0
      },
      "text/plain": [
       "FloatProgress(value=0.0, bar_style='info', description='Progress:', layout=Layout(height='25px', width='50%'),…"
      ]
     },
     "metadata": {},
     "output_type": "display_data"
    },
    {
     "name": "stdout",
     "output_type": "stream",
     "text": [
      "schema: org.apache.spark.sql.types.StructType = StructType(StructField(artist_familiarity,DoubleType,true), StructField(artist_hotttnesss,DoubleType,true), StructField(artist_id,StringType,true), StructField(artist_location,StringType,true), StructField(artist_mbtags,StringType,true), StructField(artist_mbtags_count,StringType,true), StructField(artist_name,StringType,true), StructField(artist_terms,StringType,true), StructField(artist_terms_freq,StringType,true), StructField(artist_terms_weight,StringType,true), StructField(danceability,DoubleType,true), StructField(duration,DoubleType,true), StructField(end_of_fade_in,DoubleType,true), StructField(energy,DoubleType,true), StructField(key,DoubleType,true), StructField(key_confidence,DoubleType,true), StructField(loudness,DoubleType,tru..."
     ]
    }
   ],
   "source": [
    "val schema = new StructType().\n",
    "add(\"artist_familiarity\",DoubleType,true).\n",
    "add(\"artist_hotttnesss\",DoubleType,true).\n",
    "add(\"artist_id\",StringType,true).\n",
    "add(\"artist_location\",StringType,true).\n",
    "add(\"artist_mbtags\",StringType,true).\n",
    "add(\"artist_mbtags_count\",StringType,true).\n",
    "add(\"artist_name\",StringType,true).\n",
    "add(\"artist_terms\",StringType,true).\n",
    "add(\"artist_terms_freq\",StringType,true).\n",
    "add(\"artist_terms_weight\",StringType,true).\n",
    "add(\"danceability\",DoubleType,true).\n",
    "add(\"duration\",DoubleType,true).\n",
    "add(\"end_of_fade_in\",DoubleType,true).\n",
    "add(\"energy\",DoubleType,true).\n",
    "add(\"key\",DoubleType,true).\n",
    "add(\"key_confidence\",DoubleType,true).\n",
    "add(\"loudness\",DoubleType,true).\n",
    "add(\"mode\",DoubleType,true).\n",
    "add(\"mode_confidence\",DoubleType,true).\n",
    "add(\"release\",StringType,true).\n",
    "add(\"segments_confidence\",StringType,true).\n",
    "add(\"segments_loudness_max\",StringType,true).\n",
    "add(\"segments_loudness_max_time\",StringType,true).\n",
    "add(\"segments_pitches\",StringType,true).\n",
    "add(\"segments_timbre\",StringType,true).\n",
    "add(\"similar_artists\",StringType,true).\n",
    "add(\"song_hotttnesss\",DoubleType,true).\n",
    "add(\"song_id\",StringType,true).\n",
    "add(\"start_of_fade_out\",DoubleType,true).\n",
    "add(\"tempo\",DoubleType,true).\n",
    "add(\"time_signature\",IntegerType,true).\n",
    "add(\"time_signature_confidence\",DoubleType,true).\n",
    "add(\"title\",StringType,true).\n",
    "add(\"track_id\",StringType,true).\n",
    "add(\"year\",IntegerType,true)"
   ]
  },
  {
   "cell_type": "code",
   "execution_count": 65,
   "metadata": {},
   "outputs": [
    {
     "data": {
      "application/vnd.jupyter.widget-view+json": {
       "model_id": "",
       "version_major": 2,
       "version_minor": 0
      },
      "text/plain": [
       "FloatProgress(value=0.0, bar_style='info', description='Progress:', layout=Layout(height='25px', width='50%'),…"
      ]
     },
     "metadata": {},
     "output_type": "display_data"
    },
    {
     "name": "stdout",
     "output_type": "stream",
     "text": [
      "msdf: org.apache.spark.sql.DataFrame = [artist_familiarity: double, artist_hotttnesss: double ... 33 more fields]\n"
     ]
    }
   ],
   "source": [
    "val msdf = sqlContext.read.format(\"com.databricks.spark.csv\").\n",
    "option(\"header\", \"false\").\n",
    "option(\"delimiter\", \"\\t\").\n",
    "option(\"inferSchema\", \"false\").\n",
    "schema(schema).load(\"s3://millionsongprocessed/data_A.tsv\")"
   ]
  },
  {
   "cell_type": "code",
   "execution_count": 151,
   "metadata": {},
   "outputs": [
    {
     "data": {
      "application/vnd.jupyter.widget-view+json": {
       "model_id": "",
       "version_major": 2,
       "version_minor": 0
      },
      "text/plain": [
       "FloatProgress(value=0.0, bar_style='info', description='Progress:', layout=Layout(height='25px', width='50%'),…"
      ]
     },
     "metadata": {},
     "output_type": "display_data"
    },
    {
     "name": "stdout",
     "output_type": "stream",
     "text": [
      "usdf: org.apache.spark.sql.DataFrame = [_c0: string, _c1: string ... 1 more field]\n"
     ]
    }
   ],
   "source": [
    "\n",
    "\n",
    "val usdf= sqlContext.read.format(\"com.databricks.spark.csv\").\n",
    "option(\"header\",\"false\").\n",
    "option(\"delimiter\", \"\\t\").\n",
    "load(\"s3://millionsongprocessed/train_triplets.txt\")"
   ]
  },
  {
   "cell_type": "code",
   "execution_count": 152,
   "metadata": {},
   "outputs": [
    {
     "data": {
      "application/vnd.jupyter.widget-view+json": {
       "model_id": "",
       "version_major": 2,
       "version_minor": 0
      },
      "text/plain": [
       "FloatProgress(value=0.0, bar_style='info', description='Progress:', layout=Layout(height='25px', width='50%'),…"
      ]
     },
     "metadata": {},
     "output_type": "display_data"
    },
    {
     "name": "stdout",
     "output_type": "stream",
     "text": [
      "+--------------------+------------------+---+\n",
      "|                 _c0|               _c1|_c2|\n",
      "+--------------------+------------------+---+\n",
      "|b80344d063b5ccb32...|SOAKIMP12A8C130995|  1|\n",
      "|b80344d063b5ccb32...|SOAPDEY12A81C210A9|  1|\n",
      "|b80344d063b5ccb32...|SOBBMDR12A8C13253B|  2|\n",
      "|b80344d063b5ccb32...|SOBFNSP12AF72A0E22|  1|\n",
      "|b80344d063b5ccb32...|SOBFOVM12A58A7D494|  1|\n",
      "|b80344d063b5ccb32...|SOBNZDC12A6D4FC103|  1|\n",
      "|b80344d063b5ccb32...|SOBSUJE12A6D4F8CF5|  2|\n",
      "|b80344d063b5ccb32...|SOBVFZR12A6D4F8AE3|  1|\n",
      "|b80344d063b5ccb32...|SOBXALG12A8C13C108|  1|\n",
      "|b80344d063b5ccb32...|SOBXHDL12A81C204C0|  1|\n",
      "+--------------------+------------------+---+\n",
      "only showing top 10 rows\n",
      "\n"
     ]
    }
   ],
   "source": [
    "usdf.show(10)"
   ]
  },
  {
   "cell_type": "code",
   "execution_count": 66,
   "metadata": {},
   "outputs": [
    {
     "data": {
      "application/vnd.jupyter.widget-view+json": {
       "model_id": "",
       "version_major": 2,
       "version_minor": 0
      },
      "text/plain": [
       "FloatProgress(value=0.0, bar_style='info', description='Progress:', layout=Layout(height='25px', width='50%'),…"
      ]
     },
     "metadata": {},
     "output_type": "display_data"
    },
    {
     "name": "stdout",
     "output_type": "stream",
     "text": [
      "+--------------------+-------------------+------------------+-----------------+-------------+-------------------+--------------------+--------------------+--------------------+--------------------+------------+---------+--------------+------+---+--------------+--------+----+---------------+--------------------+--------------------+---------------------+--------------------------+--------------------+--------------------+--------------------+-------------------+------------------+-----------------+-------+--------------+-------------------------+--------------------+------------------+----+\n",
      "|  artist_familiarity|  artist_hotttnesss|         artist_id|  artist_location|artist_mbtags|artist_mbtags_count|         artist_name|        artist_terms|   artist_terms_freq| artist_terms_weight|danceability| duration|end_of_fade_in|energy|key|key_confidence|loudness|mode|mode_confidence|             release| segments_confidence|segments_loudness_max|segments_loudness_max_time|    segments_pitches|     segments_timbre|     similar_artists|    song_hotttnesss|           song_id|start_of_fade_out|  tempo|time_signature|time_signature_confidence|               title|          track_id|year|\n",
      "+--------------------+-------------------+------------------+-----------------+-------------+-------------------+--------------------+--------------------+--------------------+--------------------+------------+---------+--------------+------+---+--------------+--------+----+---------------+--------------------+--------------------+---------------------+--------------------------+--------------------+--------------------+--------------------+-------------------+------------------+-----------------+-------+--------------+-------------------------+--------------------+------------------+----+\n",
      "|  0.6399025154955147|0.46131833754118956|ARJNIUY12298900C91|             null|           []|                 []|        Adelitas Way|['alternative met...|[0.99587465742256...|[1.0, 0.899353739...|         0.0| 213.9424|           0.0|   0.0|1.0|         0.349|  -4.769| 1.0|          0.403|        Adelitas Way|[1.0, 0.077, 0.03...| [-20.556, -21.139...|      [0.11934, 0.02379...|[[0.294, 0.158, 0...|[[17.977, 71.335,...|['AROQMHX11C8A42B...|0.46131833754118956|SOBLFFE12AF72AA5BA|          210.048| 99.944|             4|                      0.0|              Scream|TRAAAAK128F9318786|2009|\n",
      "|  0.6717552053402852|0.38660636406584575|AR73AIO1187B9AD57B|San Francisco, CA|           []|                 []|   Western Addiction|['melodic hardcor...|[0.95844200752522...|[1.0, 0.968559809...|         0.0|118.07302|         0.264|   0.0|7.0|         0.187|   -7.24| 1.0|          0.425|           Cognicide|[0.0, 1.0, 0.227,...| [-60.0, -9.442, -...|      [0.0, 0.13158, 0....|[[1.0, 0.727, 0.8...|[[0.0, 171.13, 9....|['ARVYM3Y1187B99D...|0.38660636406584575|SOQPWCR12A6D4FB2A3|          115.142|125.475|             4|                      0.0|A Poor Recipe For...|TRAAAAV128F421A322|2005|\n",
      "|  0.5817937658450281| 0.4019975433642836|ARD7TVE1187B99BFB1|  California - LA|           []|                 []|              Casual|['hip hop', 'unde...|[1.0, 0.776136233...|[1.0, 0.897935955...|         0.0|218.93179|         0.247|   0.0|1.0|         0.736| -11.197| 0.0|          0.636|         Fear Itself|[0.0, 1.0, 0.483,...| [-60.0, -31.646, ...|      [0.0, 0.10929, 0....|[[0.946, 0.684, 0...|[[0.0, 171.13, 9....|['ARV4KO21187FB38...| 0.4019975433642836|SOMZWCG12A8C13C480|          218.932| 92.198|             4|                      0.0|    I Didn't Mean To|TRAAAAW128F429D538|   0|\n",
      "| 0.47694059129745225|0.30708016881260153|ARL752Q1187FB35EFE|           Mexico|           []|                 []|            Alquimia|['chill-out', 'cu...|[0.82659083254464...|[1.0, 1.0, 0.9750...|         0.0|193.01832|           0.0|   0.0|2.0|          0.76| -13.179| 1.0|          0.803|             Forever|[1.0, 1.0, 1.0, 0...| [-25.137, -25.871...|      [1.06148, 0.03347...|[[0.168, 0.087, 0...|[[4.082, 142.267,...|['ARHEQ501187FB4F...|0.30708016881260153|SOJDASC12A8C13EB49|          182.898| 41.279|             4|                      0.0|The Lark In The C...|TRAAAAY128F42A73F0|   0|\n",
      "|0.013157973056854065|0.37928237433191514|AR9Q9YC1187FB5609B|       New Jersey|           []|                 []|    Quest_ Pup_ Kevo|['hard trance', '...|[0.94055125449922...|[1.0, 0.994668052...|         0.0|252.94322|           0.0|   0.0|6.0|         0.063|  -7.227| 0.0|            0.4|A Bad Azz Mix Tap...|[1.0, 0.476, 0.53...| [-14.278, -12.859...|      [0.04816, 0.01986...|[[0.913, 0.271, 0...|[[41.341, 92.078,...|['ARUPWVD1187FB4D...|0.37928237433191514|SOFRDWL12A58A7CEF7|          247.455| 161.99|             4|                      0.0|        Hit Da Scene|TRAAACN128F9355673|   0|\n",
      "|  0.5313342110692906| 0.3382898159400986|ARGO8611187B990AF9|   Charleston, SC|           []|                 []|        Super Deluxe|['reggae', 'power...|[1.0, 0.907624654...|[1.0, 0.978425273...|         0.0|222.35383|         3.471|   0.0|5.0|         0.763|  -5.232| 1.0|           0.55|          Surrender!|[0.0, 0.84, 0.121...| [-60.0, -46.461, ...|      [0.0, 0.19715, 0....|[[0.936, 1.0, 0.7...|[[0.0, 171.13, 9....|['AR07SOR1187FB46...| 0.3382898159400986|SOZIULX12A8AE46C39|          213.206|100.812|             4|                      0.0|Come On (Album Ve...|TRAAACV128F423E09E|   0|\n",
      "|  0.6278278253312966|  0.387616855902411|ARC73361187B9B42BD|San Francisco, CA|           []|                 []|Big Brother & The...|\"['blues-rock', '...|[0.96842164414601...|[1.0, 0.967835448...|         0.0|396.35546|         0.499|   0.0|7.0|         0.195| -13.225| 1.0|          0.421|        Be a Brother|[0.0, 1.0, 0.875,...| [-59.19, -28.753,...|      [0.47691, 0.03688...|[[0.826, 0.952, 1...|[[0.015, 170.844,...|['ARUP0001187FB39...|  0.387616855902411|SOCSNVI12A8C13ECC2|          386.728|136.768|             1|                      0.0|    Heartache People|TRAAADJ128F4287B47|1970|\n",
      "|  0.4873567909281477|0.34342837829688244|ARKRRTF1187B9984DA|             null|           []|                 []|    Sonora Santanera|['salsa', 'cumbia...|[1.0, 0.942239071...|[1.0, 0.958257845...|         0.0|177.47546|         0.282|   0.0|8.0|         0.643|  -9.689| 1.0|          0.565|Las Numero 1 De L...|[0.0, 1.0, 0.106,...| [-59.895, -11.914...|      [0.27572, 0.1589,...|[[1.0, 0.911, 0.1...|[[0.0, 171.124, 9...|['ARFSJUG11C8A421...|0.34342837829688244|SOXVLOJ12AB0189215|          172.304| 100.07|             1|                      0.0|     Amor De Cabaret|TRAAADZ128F9348C2E|   0|\n",
      "| 0.42219370224240504|                0.0|ARSVTNL1187B992A91|  London, England|           []|                 []|       Jonathan King|['comedy rock', '...|[0.95821386183173...|[1.0, 0.951721007...|         0.0|129.85424|         0.282|   0.0|5.0|         0.084|  -9.495| 1.0|          0.301|Vile Pervert - Th...|[0.0, 1.0, 0.696,...| [-60.0, -10.564, ...|      [0.0, 0.01718, 0....|[[0.894, 1.0, 0.8...|[[0.0, 171.13, 9....|['AR54UY91187B9A6...|                0.0|SOEKAZG12AB018837E|          121.452|156.677|             4|                      0.0|I'll Slap Your Fa...|TRAAAEA128F935A30D|2001|\n",
      "|  0.7868062541707812| 0.5620614073671926|ARC1IHZ1187FB4E920|             null|           []|                 []|        Jamie Cullum|['vocal jazz', 'j...|[0.99965365030298...|[1.0, 0.818409196...|         0.0| 246.9873|          0.11|   0.0|9.0|         0.417|  -8.849| 1.0|            0.5|     Twentysomething|[0.0, 1.0, 0.107,...| [-60.0, -18.654, ...|      [0.0, 0.06421, 0....|[[1.0, 0.93, 0.57...|[[0.0, 171.13, 9....|['AR9I1L41187FB37...| 0.5620614073671926|SOXZYWX12A6310ED0C|          239.154|152.156|             4|                      0.0|     It's About Time|TRAAAED128E0783FAB|   0|\n",
      "+--------------------+-------------------+------------------+-----------------+-------------+-------------------+--------------------+--------------------+--------------------+--------------------+------------+---------+--------------+------+---+--------------+--------+----+---------------+--------------------+--------------------+---------------------+--------------------------+--------------------+--------------------+--------------------+-------------------+------------------+-----------------+-------+--------------+-------------------------+--------------------+------------------+----+\n",
      "only showing top 10 rows\n",
      "\n"
     ]
    }
   ],
   "source": [
    "msdf.show(10)"
   ]
  },
  {
   "cell_type": "code",
   "execution_count": 67,
   "metadata": {},
   "outputs": [
    {
     "data": {
      "application/vnd.jupyter.widget-view+json": {
       "model_id": "",
       "version_major": 2,
       "version_minor": 0
      },
      "text/plain": [
       "FloatProgress(value=0.0, bar_style='info', description='Progress:', layout=Layout(height='25px', width='50%'),…"
      ]
     },
     "metadata": {},
     "output_type": "display_data"
    },
    {
     "name": "stdout",
     "output_type": "stream",
     "text": [
      "msdf2: org.apache.spark.sql.DataFrame = [artist_familiarity: double, artist_hotttnesss: double ... 33 more fields]\n",
      "msdf3: org.apache.spark.sql.DataFrame = [duration: double, loudness: double ... 3 more fields]\n",
      "msdf4: org.apache.spark.sql.DataFrame = [duration: double, loudness: double ... 3 more fields]\n"
     ]
    }
   ],
   "source": [
    "var msdf2 = msdf.withColumn(\"time_signature\", when(col(\"time_signature_confidence\")<0.5, 4).otherwise(col(\"time_signature\")))\n",
    "val msdf3 = msdf2.select($\"duration\", $\"loudness\", $\"artist_hotttnesss\", $\"tempo\"/$\"time_signature\" as \"speed\", $\"song_id\")\n",
    "var msdf4 = msdf3.na.drop()"
   ]
  },
  {
   "cell_type": "code",
   "execution_count": 68,
   "metadata": {},
   "outputs": [
    {
     "data": {
      "application/vnd.jupyter.widget-view+json": {
       "model_id": "",
       "version_major": 2,
       "version_minor": 0
      },
      "text/plain": [
       "FloatProgress(value=0.0, bar_style='info', description='Progress:', layout=Layout(height='25px', width='50%'),…"
      ]
     },
     "metadata": {},
     "output_type": "display_data"
    },
    {
     "name": "stdout",
     "output_type": "stream",
     "text": [
      "+---------+--------+-------------------+--------+------------------+\n",
      "| duration|loudness|  artist_hotttnesss|   speed|           song_id|\n",
      "+---------+--------+-------------------+--------+------------------+\n",
      "| 213.9424|  -4.769|0.46131833754118956|  24.986|SOBLFFE12AF72AA5BA|\n",
      "|118.07302|   -7.24|0.38660636406584575|31.36875|SOQPWCR12A6D4FB2A3|\n",
      "|218.93179| -11.197| 0.4019975433642836| 23.0495|SOMZWCG12A8C13C480|\n",
      "|193.01832| -13.179|0.30708016881260153|10.31975|SOJDASC12A8C13EB49|\n",
      "|252.94322|  -7.227|0.37928237433191514| 40.4975|SOFRDWL12A58A7CEF7|\n",
      "|222.35383|  -5.232| 0.3382898159400986|  25.203|SOZIULX12A8AE46C39|\n",
      "|396.35546| -13.225|  0.387616855902411|  34.192|SOCSNVI12A8C13ECC2|\n",
      "|177.47546|  -9.689|0.34342837829688244| 25.0175|SOXVLOJ12AB0189215|\n",
      "|129.85424|  -9.495|                0.0|39.16925|SOEKAZG12AB018837E|\n",
      "| 246.9873|  -8.849| 0.5620614073671926|  38.039|SOXZYWX12A6310ED0C|\n",
      "+---------+--------+-------------------+--------+------------------+\n",
      "only showing top 10 rows\n",
      "\n"
     ]
    }
   ],
   "source": [
    "msdf4.show(10)"
   ]
  },
  {
   "cell_type": "code",
   "execution_count": 69,
   "metadata": {},
   "outputs": [
    {
     "data": {
      "application/vnd.jupyter.widget-view+json": {
       "model_id": "",
       "version_major": 2,
       "version_minor": 0
      },
      "text/plain": [
       "FloatProgress(value=0.0, bar_style='info', description='Progress:', layout=Layout(height='25px', width='50%'),…"
      ]
     },
     "metadata": {},
     "output_type": "display_data"
    },
    {
     "name": "stdout",
     "output_type": "stream",
     "text": [
      "scaledRange: org.apache.spark.sql.Column = 4\n",
      "scaledMin: org.apache.spark.sql.Column = 1\n"
     ]
    }
   ],
   "source": [
    "//feature scaling\n",
    "val scaledRange = lit(4)\n",
    "val scaledMin = lit(1)"
   ]
  },
  {
   "cell_type": "code",
   "execution_count": 135,
   "metadata": {},
   "outputs": [
    {
     "data": {
      "application/vnd.jupyter.widget-view+json": {
       "model_id": "",
       "version_major": 2,
       "version_minor": 0
      },
      "text/plain": [
       "FloatProgress(value=0.0, bar_style='info', description='Progress:', layout=Layout(height='25px', width='50%'),…"
      ]
     },
     "metadata": {},
     "output_type": "display_data"
    },
    {
     "name": "stdout",
     "output_type": "stream",
     "text": [
      "dMin: Double = 0.54812\n",
      "dMax: Double = 3007.73832\n",
      "dNorm: org.apache.spark.sql.Column = ((duration - 0.54812) / 3007.1902)\n",
      "dScal: org.apache.spark.sql.Column = ((4 * ((duration - 0.54812) / 3007.1902)) + 1)\n",
      "lMin: Double = -56.145\n",
      "lMax: Double = 3.634\n",
      "lNorm: org.apache.spark.sql.Column = ((loudness - -56.145) / 59.779)\n",
      "lScal: org.apache.spark.sql.Column = ((4 * ((loudness - -56.145) / 59.779)) + 1)\n",
      "aMin: Double = 0.0\n",
      "aMax: Double = 0.8521862384017338\n",
      "aNorm: org.apache.spark.sql.Column = ((artist_hotttnesss - 0.0) / 0.8521862384017338)\n",
      "aScal: org.apache.spark.sql.Column = ((4 * ((artist_hotttnesss - 0.0) / 0.8521862384017338)) + 1)\n",
      "sMin: Double = 0.0\n",
      "sMax: Double = 191.267\n",
      "sNorm: org.apache.spark.sql.Column = ((speed - 0.0) / 191.267)\n",
      "sScal: org.apache.spark.sql.Column = ((4 * ((speed - 0.0) / 191.267)) + 1)\n",
      "msdf5: org.apache.spark.sql.DataFrame = [duration: double, loudness: double ... 7 more fields]\n",
      "allDF: org.apache.spark.sql.DataFrame = [dScal: double, lScal: double ... 3 more fields]\n",
      "vectors: org.apache.spark.rdd.RDD[org.apache.spark.mllib.linalg.Vector] = MapPartitionsRDD[754] at map at <console>:70\n",
      "res241: vectors.type = MapPartitionsRDD[754] at map at <console>:70\n"
     ]
    }
   ],
   "source": [
    "@transient val (dMin, dMax) = msdf4.agg(min($\"duration\"), max($\"duration\")).first match { case Row(x: Double, y: Double) => (x,y)}\n",
    "@transient val dNorm = ($\"duration\"-dMin)/(dMax-dMin)\n",
    "@transient val dScal = scaledRange*dNorm + scaledMin\n",
    "\n",
    "@transient val (lMin, lMax) = msdf4.agg(min($\"loudness\"), max($\"loudness\")).first match { case Row(x: Double, y: Double) => (x,y)}\n",
    "@transient val lNorm = ($\"loudness\"-lMin)/(lMax-lMin)\n",
    "@transient val lScal = scaledRange*lNorm + scaledMin\n",
    "\n",
    "@transient val (aMin, aMax) = msdf4.agg(min($\"artist_hotttnesss\"), max($\"artist_hotttnesss\")).first match { case Row(x: Double, y: Double) => (x,y)}\n",
    "@transient val aNorm = ($\"artist_hotttnesss\"-aMin)/(aMax-aMin)\n",
    "@transient val aScal = scaledRange*aNorm + scaledMin\n",
    "\n",
    "@transient val (sMin, sMax) = msdf4.agg(min($\"speed\"), max($\"speed\")).first match { case Row(x: Double, y: Double) => (x,y)}\n",
    "@transient val sNorm = ($\"speed\"-sMin)/(sMax-sMin)\n",
    "@transient val sScal = scaledRange*sNorm + scaledMin\n",
    "\n",
    "val msdf5 = msdf4.withColumn(\"dScal\",dScal).withColumn(\"lScal\", lScal).withColumn(\"aScal\", aScal).withColumn(\"sScal\", sScal)\n",
    "val allDF = msdf5.select(\"dScal\", \"lScal\", \"aScal\", \"sScal\", \"song_id\")\n",
    "\n",
    "// val rowsRDD = allDF.rdd.map(r => (r.getDouble(0), r.getDouble(1), r.getDouble(2), r.getDouble(3), r.getString(4)))\n",
    "// rowsRDD.cache()\n",
    "val vectors = allDF.rdd.map(r => Vectors.dense(r.getDouble(0), r.getDouble(1), r.getDouble(2), r.getDouble(3)))\n",
    "vectors.cache()"
   ]
  },
  {
   "cell_type": "code",
   "execution_count": 75,
   "metadata": {},
   "outputs": [
    {
     "data": {
      "application/vnd.jupyter.widget-view+json": {
       "model_id": "",
       "version_major": 2,
       "version_minor": 0
      },
      "text/plain": [
       "FloatProgress(value=0.0, bar_style='info', description='Progress:', layout=Layout(height='25px', width='50%'),…"
      ]
     },
     "metadata": {},
     "output_type": "display_data"
    },
    {
     "name": "stdout",
     "output_type": "stream",
     "text": [
      "res166: Array[(Double, Double, Double, Double, String)] = Array((1.2838454049231738,4.437728968366818,3.1653404702070156,1.5225365588418285,SOBLFFE12AF72AA5BA), (1.1563251968565207,4.272386624065307,2.8146566872092276,1.6560201184731291,SOQPWCR12A6D4FB2A3), (1.2904820187296433,4.007611368540792,2.8868999533164286,1.4820381979118196,SOMZWCG12A8C13C480), (1.2560133376332498,3.874989544823433,2.4413758635132483,1.2158187246101,SOJDASC12A8C13EB49), (1.3357221635000007,4.2732564947556835,2.7802792734285653,1.846931253169653,SOFRDWL12A58A7CEF7), (1.2950338292536334,4.406748189163419,2.5878680067613273,1.5270747175414474,SOZIULX12A8AE46C39), (1.5264812847554503,3.8719115408421017,2.819399743555504,1.715063236209069,SOCSNVI12A8C13ECC2), (1.2353390749943252,4.108516368624434,2.611987440402599,1...."
     ]
    }
   ],
   "source": [
    "rowsRDD.take(10)"
   ]
  },
  {
   "cell_type": "code",
   "execution_count": 101,
   "metadata": {},
   "outputs": [
    {
     "data": {
      "application/vnd.jupyter.widget-view+json": {
       "model_id": "",
       "version_major": 2,
       "version_minor": 0
      },
      "text/plain": [
       "FloatProgress(value=0.0, bar_style='info', description='Progress:', layout=Layout(height='25px', width='50%'),…"
      ]
     },
     "metadata": {},
     "output_type": "display_data"
    },
    {
     "name": "stdout",
     "output_type": "stream",
     "text": [
      "res209: Array[(String, org.apache.spark.mllib.linalg.Vector)] = Array((SOBLFFE12AF72AA5BA,[1.2838454049231738,4.437728968366818,3.1653404702070156,1.5225365588418285]), (SOQPWCR12A6D4FB2A3,[1.1563251968565207,4.272386624065307,2.8146566872092276,1.6560201184731291]), (SOMZWCG12A8C13C480,[1.2904820187296433,4.007611368540792,2.8868999533164286,1.4820381979118196]), (SOJDASC12A8C13EB49,[1.2560133376332498,3.874989544823433,2.4413758635132483,1.2158187246101]), (SOFRDWL12A58A7CEF7,[1.3357221635000007,4.2732564947556835,2.7802792734285653,1.846931253169653]), (SOZIULX12A8AE46C39,[1.2950338292536334,4.406748189163419,2.5878680067613273,1.5270747175414474]), (SOCSNVI12A8C13ECC2,[1.5264812847554503,3.8719115408421017,2.819399743555504,1.715063236209069]), (SOXVLOJ12AB0189215,[1.235339074994325..."
     ]
    }
   ],
   "source": [
    "vectors.take(10)"
   ]
  },
  {
   "cell_type": "code",
   "execution_count": null,
   "metadata": {},
   "outputs": [],
   "source": [
    "// for(k <- 5 to 10)\n",
    "// {\n",
    "//     val kMeansModel = KMeans.train(vectors, k, 20)\n",
    "//     val WSSE = kMeansModel.computeCost(vectors)\n",
    "//     println(\"K = \" + k)\n",
    "//     println(\"Within set SSE = \" + WSSE)\n",
    "// }"
   ]
  },
  {
   "cell_type": "code",
   "execution_count": 86,
   "metadata": {},
   "outputs": [
    {
     "data": {
      "application/vnd.jupyter.widget-view+json": {
       "model_id": "",
       "version_major": 2,
       "version_minor": 0
      },
      "text/plain": [
       "FloatProgress(value=0.0, bar_style='info', description='Progress:', layout=Layout(height='25px', width='50%'),…"
      ]
     },
     "metadata": {},
     "output_type": "display_data"
    },
    {
     "name": "stdout",
     "output_type": "stream",
     "text": [
      "kMeansModel: org.apache.spark.mllib.clustering.KMeansModel = org.apache.spark.mllib.clustering.KMeansModel@122678ac\n",
      "[1.3313376811150552,4.258193489003848,3.3171621382761014,1.6681230377827574]\n",
      "[1.3372745655678149,4.032418346807902,1.030419643781348,1.650965592302267]\n",
      "[1.3312042999324307,4.320042676672932,2.7375657291670548,1.6854935257840982]\n",
      "[1.3294464129241215,3.8892302755050885,2.790777422189137,1.6187933974820314]\n",
      "[1.3117883089918125,3.27239088521847,2.6335767010173,1.563434633120673]\n",
      "[1.326832216251905,4.04026153653496,2.6720023079692563,2.7697545977506572]\n",
      "[1.3370129159516557,4.105945850519583,2.2567225545033445,1.650451872796106]\n"
     ]
    }
   ],
   "source": [
    "val kMeansModel = KMeans.train(vectors, 7, 20)\n",
    "kMeansModel.clusterCenters.foreach(println)"
   ]
  },
  {
   "cell_type": "code",
   "execution_count": 91,
   "metadata": {},
   "outputs": [
    {
     "data": {
      "application/vnd.jupyter.widget-view+json": {
       "model_id": "",
       "version_major": 2,
       "version_minor": 0
      },
      "text/plain": [
       "FloatProgress(value=0.0, bar_style='info', description='Progress:', layout=Layout(height='25px', width='50%'),…"
      ]
     },
     "metadata": {},
     "output_type": "display_data"
    },
    {
     "name": "stdout",
     "output_type": "stream",
     "text": [
      "WSSE: Double = 3683.7879220247282\n"
     ]
    }
   ],
   "source": [
    "val WSSE = kMeansModel.computeCost(vectors)"
   ]
  },
  {
   "cell_type": "code",
   "execution_count": 112,
   "metadata": {},
   "outputs": [
    {
     "data": {
      "application/vnd.jupyter.widget-view+json": {
       "model_id": "",
       "version_major": 2,
       "version_minor": 0
      },
      "text/plain": [
       "FloatProgress(value=0.0, bar_style='info', description='Progress:', layout=Layout(height='25px', width='50%'),…"
      ]
     },
     "metadata": {},
     "output_type": "display_data"
    },
    {
     "name": "stdout",
     "output_type": "stream",
     "text": [
      "predictions: org.apache.spark.rdd.RDD[Int] = MapPartitionsRDD[700] at map at KMeansModel.scala:85\n"
     ]
    }
   ],
   "source": [
    "val predictions = kMeansModel.predict(vectors)\n",
    "// val predictions = allDF.map{r => (r.getString(4), kMeansModel.predict(Vectors.dense(r.getDouble(0), r.getDouble(1), r.getDouble(2), r.getDouble(3))))}"
   ]
  },
  {
   "cell_type": "code",
   "execution_count": 113,
   "metadata": {},
   "outputs": [
    {
     "data": {
      "application/vnd.jupyter.widget-view+json": {
       "model_id": "",
       "version_major": 2,
       "version_minor": 0
      },
      "text/plain": [
       "FloatProgress(value=0.0, bar_style='info', description='Progress:', layout=Layout(height='25px', width='50%'),…"
      ]
     },
     "metadata": {},
     "output_type": "display_data"
    },
    {
     "name": "stdout",
     "output_type": "stream",
     "text": [
      "res230: Array[Int] = Array(0, 2)\n"
     ]
    }
   ],
   "source": [
    "predictions.take(2)"
   ]
  },
  {
   "cell_type": "code",
   "execution_count": 161,
   "metadata": {},
   "outputs": [
    {
     "data": {
      "application/vnd.jupyter.widget-view+json": {
       "model_id": "",
       "version_major": 2,
       "version_minor": 0
      },
      "text/plain": [
       "FloatProgress(value=0.0, bar_style='info', description='Progress:', layout=Layout(height='25px', width='50%'),…"
      ]
     },
     "metadata": {},
     "output_type": "display_data"
    },
    {
     "name": "stdout",
     "output_type": "stream",
     "text": [
      "clusters: org.apache.spark.sql.DataFrame = [Cluster: int]\n"
     ]
    }
   ],
   "source": [
    "val clusters = predictions.toDF(\"Cluster\")"
   ]
  },
  {
   "cell_type": "code",
   "execution_count": 163,
   "metadata": {},
   "outputs": [
    {
     "data": {
      "application/vnd.jupyter.widget-view+json": {
       "model_id": "",
       "version_major": 2,
       "version_minor": 0
      },
      "text/plain": [
       "FloatProgress(value=0.0, bar_style='info', description='Progress:', layout=Layout(height='25px', width='50%'),…"
      ]
     },
     "metadata": {},
     "output_type": "display_data"
    },
    {
     "name": "stdout",
     "output_type": "stream",
     "text": [
      "+-------+\n",
      "|Cluster|\n",
      "+-------+\n",
      "|      0|\n",
      "|      2|\n",
      "|      3|\n",
      "|      6|\n",
      "|      2|\n",
      "|      2|\n",
      "|      3|\n",
      "|      2|\n",
      "|      1|\n",
      "|      0|\n",
      "|      3|\n",
      "|      5|\n",
      "|      2|\n",
      "|      6|\n",
      "|      2|\n",
      "|      1|\n",
      "|      1|\n",
      "|      3|\n",
      "|      0|\n",
      "|      6|\n",
      "+-------+\n",
      "only showing top 20 rows\n",
      "\n"
     ]
    }
   ],
   "source": [
    "clusters.show()"
   ]
  },
  {
   "cell_type": "code",
   "execution_count": 164,
   "metadata": {},
   "outputs": [
    {
     "data": {
      "application/vnd.jupyter.widget-view+json": {
       "model_id": "",
       "version_major": 2,
       "version_minor": 0
      },
      "text/plain": [
       "FloatProgress(value=0.0, bar_style='info', description='Progress:', layout=Layout(height='25px', width='50%'),…"
      ]
     },
     "metadata": {},
     "output_type": "display_data"
    },
    {
     "name": "stdout",
     "output_type": "stream",
     "text": [
      "df1: org.apache.spark.sql.DataFrame = [dScal: double, lScal: double ... 4 more fields]\n",
      "df2: org.apache.spark.sql.DataFrame = [Cluster: int, df2Key: bigint]\n",
      "songclusters: org.apache.spark.sql.DataFrame = [Cluster: int, song_id: string]\n"
     ]
    }
   ],
   "source": [
    "val df1 = allDF.withColumn(\"df1Key\", monotonically_increasing_id())\n",
    "val df2 = songclusters.withColumn(\"df2Key\", monotonically_increasing_id())\n",
    "val songclusters = df2.join(df1, $\"df1Key\" === $\"df2Key\").drop(\"df1Key\", \"df2Key\", \"dScal\", \"lScal\", \"aScal\", \"sScal\")"
   ]
  },
  {
   "cell_type": "code",
   "execution_count": 165,
   "metadata": {},
   "outputs": [
    {
     "data": {
      "application/vnd.jupyter.widget-view+json": {
       "model_id": "",
       "version_major": 2,
       "version_minor": 0
      },
      "text/plain": [
       "FloatProgress(value=0.0, bar_style='info', description='Progress:', layout=Layout(height='25px', width='50%'),…"
      ]
     },
     "metadata": {},
     "output_type": "display_data"
    },
    {
     "name": "stdout",
     "output_type": "stream",
     "text": [
      "+-------+------------------+\n",
      "|Cluster|           song_id|\n",
      "+-------+------------------+\n",
      "|      2|SOYSPCB12A8C141C86|\n",
      "|      2|SOMFRKT12A8C146C67|\n",
      "|      2|SONWQQX12AC3DF6762|\n",
      "|      2|SOHPVWT12AB0184E54|\n",
      "|      2|SOZRRMP12A58A75BEB|\n",
      "|      6|SONBSMJ12AC4687AED|\n",
      "|      2|SOXWMCD12AB01810DB|\n",
      "|      3|SOVBANJ12AAFF444CF|\n",
      "|      2|SOEAXKZ12A81C208DA|\n",
      "|      3|SOAYOUE12AB01888A6|\n",
      "|      2|SOEHOJX12AB018394D|\n",
      "|      3|SOBLTSM12A6D4F9EEA|\n",
      "|      2|SOIIZSD12AB0184A86|\n",
      "|      0|SOYOJKY12AB0185DFD|\n",
      "|      3|SONWUSK12AB01837FD|\n",
      "|      3|SOYHTLP12A6D4FC356|\n",
      "|      2|SOKXFFC12A8C133922|\n",
      "|      3|SOGIKFN12AC3DF7E39|\n",
      "|      0|SOGAJHS12A8C13C37B|\n",
      "|      2|SOLMIFQ12AB0183BB2|\n",
      "+-------+------------------+\n",
      "only showing top 20 rows\n",
      "\n"
     ]
    }
   ],
   "source": [
    "songclusters.show()"
   ]
  },
  {
   "cell_type": "code",
   "execution_count": 182,
   "metadata": {},
   "outputs": [
    {
     "data": {
      "application/vnd.jupyter.widget-view+json": {
       "model_id": "",
       "version_major": 2,
       "version_minor": 0
      },
      "text/plain": [
       "FloatProgress(value=0.0, bar_style='info', description='Progress:', layout=Layout(height='25px', width='50%'),…"
      ]
     },
     "metadata": {},
     "output_type": "display_data"
    },
    {
     "name": "stdout",
     "output_type": "stream",
     "text": [
      "list: List[String] = List(user_id, SongId, PlayCount)\n",
      "import spark.implicits._\n",
      "usdf2: org.apache.spark.sql.DataFrame = [user_id: string, SongId: string ... 1 more field]\n"
     ]
    }
   ],
   "source": [
    "val list = List(\"user_id\", \"SongId\", \"PlayCount\")\n",
    "import spark.implicits._\n",
    "val usdf2 = usdf.toDF(list:_*)"
   ]
  },
  {
   "cell_type": "code",
   "execution_count": 183,
   "metadata": {},
   "outputs": [
    {
     "data": {
      "application/vnd.jupyter.widget-view+json": {
       "model_id": "",
       "version_major": 2,
       "version_minor": 0
      },
      "text/plain": [
       "FloatProgress(value=0.0, bar_style='info', description='Progress:', layout=Layout(height='25px', width='50%'),…"
      ]
     },
     "metadata": {},
     "output_type": "display_data"
    },
    {
     "name": "stdout",
     "output_type": "stream",
     "text": [
      "+--------------------+------------------+---------+\n",
      "|             user_id|            SongId|PlayCount|\n",
      "+--------------------+------------------+---------+\n",
      "|b80344d063b5ccb32...|SOAKIMP12A8C130995|        1|\n",
      "|b80344d063b5ccb32...|SOAPDEY12A81C210A9|        1|\n",
      "|b80344d063b5ccb32...|SOBBMDR12A8C13253B|        2|\n",
      "|b80344d063b5ccb32...|SOBFNSP12AF72A0E22|        1|\n",
      "|b80344d063b5ccb32...|SOBFOVM12A58A7D494|        1|\n",
      "|b80344d063b5ccb32...|SOBNZDC12A6D4FC103|        1|\n",
      "|b80344d063b5ccb32...|SOBSUJE12A6D4F8CF5|        2|\n",
      "|b80344d063b5ccb32...|SOBVFZR12A6D4F8AE3|        1|\n",
      "|b80344d063b5ccb32...|SOBXALG12A8C13C108|        1|\n",
      "|b80344d063b5ccb32...|SOBXHDL12A81C204C0|        1|\n",
      "+--------------------+------------------+---------+\n",
      "only showing top 10 rows\n",
      "\n"
     ]
    }
   ],
   "source": [
    "usdf2.show(10)"
   ]
  },
  {
   "cell_type": "code",
   "execution_count": 184,
   "metadata": {},
   "outputs": [
    {
     "data": {
      "application/vnd.jupyter.widget-view+json": {
       "model_id": "",
       "version_major": 2,
       "version_minor": 0
      },
      "text/plain": [
       "FloatProgress(value=0.0, bar_style='info', description='Progress:', layout=Layout(height='25px', width='50%'),…"
      ]
     },
     "metadata": {},
     "output_type": "display_data"
    },
    {
     "name": "stdout",
     "output_type": "stream",
     "text": [
      "userclusters: org.apache.spark.sql.DataFrame = [user_id: string, SongId: string ... 3 more fields]\n"
     ]
    }
   ],
   "source": [
    "val userclusters = usdf2.join(songclusters, usdf2(\"SongId\")===clusterDF(\"song_id\"))\n"
   ]
  },
  {
   "cell_type": "code",
   "execution_count": 179,
   "metadata": {},
   "outputs": [
    {
     "data": {
      "application/vnd.jupyter.widget-view+json": {
       "model_id": "",
       "version_major": 2,
       "version_minor": 0
      },
      "text/plain": [
       "FloatProgress(value=0.0, bar_style='info', description='Progress:', layout=Layout(height='25px', width='50%'),…"
      ]
     },
     "metadata": {},
     "output_type": "display_data"
    },
    {
     "name": "stdout",
     "output_type": "stream",
     "text": [
      "+--------------------+------------------+---------+-------+------------------+\n",
      "|             user_id|           Song_id|PlayCount|Cluster|           song_id|\n",
      "+--------------------+------------------+---------+-------+------------------+\n",
      "|2a0bfd858b2ed706d...|SOTSIIH12A8C13A516|        1|      2|SOTSIIH12A8C13A516|\n",
      "+--------------------+------------------+---------+-------+------------------+\n",
      "only showing top 1 row\n",
      "\n"
     ]
    }
   ],
   "source": [
    "userclusters.show(1)"
   ]
  },
  {
   "cell_type": "code",
   "execution_count": 185,
   "metadata": {},
   "outputs": [
    {
     "data": {
      "application/vnd.jupyter.widget-view+json": {
       "model_id": "",
       "version_major": 2,
       "version_minor": 0
      },
      "text/plain": [
       "FloatProgress(value=0.0, bar_style='info', description='Progress:', layout=Layout(height='25px', width='50%'),…"
      ]
     },
     "metadata": {},
     "output_type": "display_data"
    },
    {
     "name": "stdout",
     "output_type": "stream",
     "text": [
      "msdf6: org.apache.spark.sql.DataFrame = [duration: double, loudness: double ... 3 more fields]\n",
      "+---------+--------+-------------------+--------+------------------+\n",
      "| duration|loudness|  artist_hotttnesss|   speed|            songID|\n",
      "+---------+--------+-------------------+--------+------------------+\n",
      "| 213.9424|  -4.769|0.46131833754118956|  24.986|SOBLFFE12AF72AA5BA|\n",
      "|118.07302|   -7.24|0.38660636406584575|31.36875|SOQPWCR12A6D4FB2A3|\n",
      "|218.93179| -11.197| 0.4019975433642836| 23.0495|SOMZWCG12A8C13C480|\n",
      "|193.01832| -13.179|0.30708016881260153|10.31975|SOJDASC12A8C13EB49|\n",
      "|252.94322|  -7.227|0.37928237433191514| 40.4975|SOFRDWL12A58A7CEF7|\n",
      "|222.35383|  -5.232| 0.3382898159400986|  25.203|SOZIULX12A8AE46C39|\n",
      "|396.35546| -13.225|  0.387616855902411|  34.192|SOCSNVI12A8C13ECC2|\n",
      "|177.47546|  -9.689|0.34342837829688244| 25.0175|SOXVLOJ12AB0189215|\n",
      "|129.85424|  -9.495|                0.0|39.16925|SOEKAZG12AB018837E|\n",
      "| 246.9873|  -8.849| 0.5620614073671926|  38.039|SOXZYWX12A6310ED0C|\n",
      "+---------+--------+-------------------+--------+------------------+\n",
      "only showing top 10 rows\n",
      "\n"
     ]
    }
   ],
   "source": [
    "val msdf6 = msdf4.withColumnRenamed(\"song_id\",\"songID\")\n",
    "msdf6.show(10)"
   ]
  },
  {
   "cell_type": "code",
   "execution_count": 187,
   "metadata": {},
   "outputs": [
    {
     "data": {
      "application/vnd.jupyter.widget-view+json": {
       "model_id": "",
       "version_major": 2,
       "version_minor": 0
      },
      "text/plain": [
       "FloatProgress(value=0.0, bar_style='info', description='Progress:', layout=Layout(height='25px', width='50%'),…"
      ]
     },
     "metadata": {},
     "output_type": "display_data"
    },
    {
     "name": "stdout",
     "output_type": "stream",
     "text": [
      "topfeats: org.apache.spark.sql.DataFrame = [Cluster: int, duration: double ... 3 more fields]\n",
      "+-------+---------+--------+-------------------+--------+\n",
      "|Cluster| duration|loudness|  artist_hotttnesss|   speed|\n",
      "+-------+---------+--------+-------------------+--------+\n",
      "|      3|340.94975|  -6.166| 0.4503437220921902| 45.1225|\n",
      "|      3|112.79628| -15.889|0.45514504003079936| 32.4805|\n",
      "|      2|246.38649|  -6.924| 0.3694193175081429|  24.045|\n",
      "|      0|189.98812|  -5.332| 0.5028240318123973|  41.741|\n",
      "|      0|226.16771|  -4.857| 0.5223726680916047|  32.507|\n",
      "|      0|237.76608|  -4.916|  0.796313707811507|24.76925|\n",
      "|      3| 230.5824| -14.572|  0.352224614510411| 31.4925|\n",
      "|      2|244.87138|  -5.609|0.37546522455148185|  38.898|\n",
      "|      0|237.76608|  -4.916|  0.796313707811507|24.76925|\n",
      "|      2| 203.2322|  -4.703|0.33536857774641954| 26.1775|\n",
      "|      2|207.20281|  -5.366|0.41946463710949256|  24.269|\n",
      "|      1|101.19791|  -5.623|                0.0|43.60225|\n",
      "|      2|262.37342|   -9.37|0.35233866791450225|25.66925|\n",
      "|      2|278.88281|  -3.347|0.36572963737130154|  25.005|\n",
      "|      6|220.13342| -12.521|0.31681050429518215|  30.785|\n",
      "|      0|233.32526|  -3.477| 0.7277085215552097| 22.0015|\n",
      "|      0|221.54404|   -6.24|0.46560509743256323|36.47925|\n",
      "|      0|189.98812|  -5.332| 0.5028240318123973|  41.741|\n",
      "|      0|220.86485|  -7.709| 0.5537822094710407|21.25575|\n",
      "|      0| 213.7073|  -3.663| 0.5223726680916047|32.51625|\n",
      "+-------+---------+--------+-------------------+--------+\n",
      "only showing top 20 rows\n",
      "\n"
     ]
    }
   ],
   "source": [
    "val topfeats = userclusters.join(msdf6, userclusters(\"SongId\")===msdf6(\"songID\")).orderBy(desc(\"PlayCount\")).select(\"Cluster\",\"duration\",\"loudness\",\"artist_hotttnesss\",\"speed\")\n",
    "topfeats.show()"
   ]
  },
  {
   "cell_type": "code",
   "execution_count": 188,
   "metadata": {},
   "outputs": [
    {
     "data": {
      "application/vnd.jupyter.widget-view+json": {
       "model_id": "",
       "version_major": 2,
       "version_minor": 0
      },
      "text/plain": [
       "FloatProgress(value=0.0, bar_style='info', description='Progress:', layout=Layout(height='25px', width='50%'),…"
      ]
     },
     "metadata": {},
     "output_type": "display_data"
    },
    {
     "name": "stdout",
     "output_type": "stream",
     "text": [
      "tf: Array[org.apache.spark.sql.Row] = Array([0,189.98812,-5.332,0.5028240318123973,41.741], [2,244.87138,-5.609,0.37546522455148185,38.898], [3,230.5824,-14.572,0.352224614510411,31.4925])\n"
     ]
    }
   ],
   "source": [
    "val tf = topfeats.head(3)"
   ]
  },
  {
   "cell_type": "code",
   "execution_count": 189,
   "metadata": {},
   "outputs": [
    {
     "data": {
      "application/vnd.jupyter.widget-view+json": {
       "model_id": "",
       "version_major": 2,
       "version_minor": 0
      },
      "text/plain": [
       "FloatProgress(value=0.0, bar_style='info', description='Progress:', layout=Layout(height='25px', width='50%'),…"
      ]
     },
     "metadata": {},
     "output_type": "display_data"
    },
    {
     "name": "stdout",
     "output_type": "stream",
     "text": [
      "song1: org.apache.spark.sql.Row = [0,189.98812,-5.332,0.5028240318123973,41.741]\n",
      "song2: org.apache.spark.sql.Row = [2,244.87138,-5.609,0.37546522455148185,38.898]\n",
      "song3: org.apache.spark.sql.Row = [3,230.5824,-14.572,0.352224614510411,31.4925]\n"
     ]
    }
   ],
   "source": [
    "val song1 = tf(0)\n",
    "val song2 = tf(1)\n",
    "val song3 = tf(2)\n"
   ]
  },
  {
   "cell_type": "code",
   "execution_count": 192,
   "metadata": {},
   "outputs": [
    {
     "data": {
      "application/vnd.jupyter.widget-view+json": {
       "model_id": "",
       "version_major": 2,
       "version_minor": 0
      },
      "text/plain": [
       "FloatProgress(value=0.0, bar_style='info', description='Progress:', layout=Layout(height='25px', width='50%'),…"
      ]
     },
     "metadata": {},
     "output_type": "display_data"
    },
    {
     "name": "stdout",
     "output_type": "stream",
     "text": [
      "msdclusters: org.apache.spark.sql.DataFrame = [duration: double, loudness: double ... 5 more fields]\n",
      "cluster1: org.apache.spark.sql.Dataset[org.apache.spark.sql.Row] = [duration: double, loudness: double ... 5 more fields]\n",
      "cluster2: org.apache.spark.sql.Dataset[org.apache.spark.sql.Row] = [duration: double, loudness: double ... 5 more fields]\n",
      "cluster3: org.apache.spark.sql.Dataset[org.apache.spark.sql.Row] = [duration: double, loudness: double ... 5 more fields]\n"
     ]
    }
   ],
   "source": [
    "val msdclusters = msdf6.join(songclusters, msdf6(\"songID\")===songclusters(\"song_id\"))\n",
    "val cluster1 = msdclusters.filter(msdclusters(\"Cluster\")===song1(0))\n",
    "val cluster2 = msdclusters.filter(msdclusters(\"Cluster\")===song2(0))\n",
    "val cluster3 = msdclusters.filter(msdclusters(\"Cluster\")===song3(0))"
   ]
  },
  {
   "cell_type": "code",
   "execution_count": 193,
   "metadata": {},
   "outputs": [
    {
     "data": {
      "application/vnd.jupyter.widget-view+json": {
       "model_id": "",
       "version_major": 2,
       "version_minor": 0
      },
      "text/plain": [
       "FloatProgress(value=0.0, bar_style='info', description='Progress:', layout=Layout(height='25px', width='50%'),…"
      ]
     },
     "metadata": {},
     "output_type": "display_data"
    },
    {
     "name": "stdout",
     "output_type": "stream",
     "text": [
      "+---------+--------+-------------------+-----------------+------------------+-------+------------------+\n",
      "| duration|loudness|  artist_hotttnesss|            speed|            songID|Cluster|           song_id|\n",
      "+---------+--------+-------------------+-----------------+------------------+-------+------------------+\n",
      "|287.92118|  -6.535| 0.4434068741682247|           28.747|SOYOJKY12AB0185DFD|      0|SOYOJKY12AB0185DFD|\n",
      "|194.66404|  -8.662|0.48341588921253836|         29.94925|SOGAJHS12A8C13C37B|      0|SOGAJHS12A8C13C37B|\n",
      "|248.45016|  -5.098|  0.492025942862974|         24.99975|SONWTWU12A8C133E0A|      0|SONWTWU12A8C133E0A|\n",
      "|263.99302|  -3.695| 0.5180003732384751|           21.252|SOAADAD12A8C13D5B0|      0|SOAADAD12A8C13D5B0|\n",
      "|222.45832|  -7.867| 0.5981305015736886|            37.72|SOHGFDO12AB017D816|      0|SOHGFDO12AB017D816|\n",
      "|285.80526|   -8.28|  0.447551326496183|           43.979|SONOJQW12A8C1310BA|      0|SONOJQW12A8C1310BA|\n",
      "|288.20853|  -7.653| 0.4426392296552482|         31.49175|SOFQOCW12AF72A9D7A|      0|SOFQOCW12AF72A9D7A|\n",
      "|242.70322|  -7.721|0.45934918813114184|         34.46175|SOQNYWI12AB01840AA|      0|SOQNYWI12AB01840AA|\n",
      "|222.27546|  -5.071|0.46545422187820734|           31.601|SOYMAUB12AB018562B|      0|SOYMAUB12AB018562B|\n",
      "|187.61098|  -8.683|0.46840583851173634|         13.64075|SOICSMJ12AB018480E|      0|SOICSMJ12AB018480E|\n",
      "|303.35955|  -5.095|0.45722649734959464|          40.0585|SOHDKYC12A8C131C33|      0|SOHDKYC12A8C131C33|\n",
      "|161.33179|  -7.039| 0.4698028175270982|           29.862|SORLTAN12AF72ABBFA|      0|SORLTAN12AF72ABBFA|\n",
      "|265.63873|  -4.564|0.44166011453572396|         34.45225|SOWCBND12A58A7C113|      0|SOWCBND12A58A7C113|\n",
      "|207.49016| -12.306|  0.486568190924988|         32.53175|SOHBNCR12AB0182236|      0|SOHBNCR12AB0182236|\n",
      "|259.10812|  -3.597|0.46611290007866535|         44.93875|SOUUACJ12A8C13ABDE|      0|SOUUACJ12A8C13ABDE|\n",
      "|234.94485| -12.227|0.45871071592211216|           31.876|SOXQUSV12AB018359A|      0|SOXQUSV12AB018359A|\n",
      "|164.85832|  -2.316| 0.4514994732918594|         11.25225|SOXHLHD12AB017E2F5|      0|SOXHLHD12AB017E2F5|\n",
      "|250.98404|  -8.759|0.45342999777582793|40.02766666666667|SODZVLP12AB018D642|      0|SODZVLP12AB018D642|\n",
      "|247.66649|  -5.401|0.49339787214026354|           31.224|SOMXIIW12A6D4F5395|      0|SOMXIIW12A6D4F5395|\n",
      "|180.50567| -11.318| 0.5523280812002724|         31.79675|SOMFWHN12A8C13A014|      0|SOMFWHN12A8C13A014|\n",
      "+---------+--------+-------------------+-----------------+------------------+-------+------------------+\n",
      "only showing top 20 rows\n",
      "\n",
      "+---------+--------+-------------------+------------------+------------------+-------+------------------+\n",
      "| duration|loudness|  artist_hotttnesss|             speed|            songID|Cluster|           song_id|\n",
      "+---------+--------+-------------------+------------------+------------------+-------+------------------+\n",
      "|290.06322|  -5.398| 0.3611754019715945|          38.00875|SOYSPCB12A8C141C86|      2|SOYSPCB12A8C141C86|\n",
      "|165.38077|  -5.141|0.36956698832681173|          45.72925|SOMFRKT12A8C146C67|      2|SOMFRKT12A8C146C67|\n",
      "|525.16526|  -5.602|0.33708930033210055|           31.8195|SONWQQX12AC3DF6762|      2|SONWQQX12AC3DF6762|\n",
      "|281.65179|  -1.802| 0.3789872142157437|          32.11775|SOHPVWT12AB0184E54|      2|SOHPVWT12AB0184E54|\n",
      "|142.05342|  -9.601| 0.3490856328827596|          28.07625|SOZRRMP12A58A75BEB|      2|SOZRRMP12A58A75BEB|\n",
      "|227.89179|   -5.79|0.41693369992928025|           23.1415|SOXWMCD12AB01810DB|      2|SOXWMCD12AB01810DB|\n",
      "|256.39138|  -6.565| 0.4006045328096759|          22.24775|SOEAXKZ12A81C208DA|      2|SOEAXKZ12A81C208DA|\n",
      "|  200.202|  -8.691| 0.3264078887857172|          22.55925|SOEHOJX12AB018394D|      2|SOEHOJX12AB018394D|\n",
      "|438.25587|  -6.176| 0.3091492832538501|          36.24475|SOIIZSD12AB0184A86|      2|SOIIZSD12AB0184A86|\n",
      "| 190.9024|  -5.373| 0.3666365819425903|            29.249|SOKXFFC12A8C133922|      2|SOKXFFC12A8C133922|\n",
      "|245.10649|   -8.49|  0.371443167223549|            21.852|SOLMIFQ12AB0183BB2|      2|SOLMIFQ12AB0183BB2|\n",
      "|391.02649|  -6.815| 0.3228316490198599|            36.501|SOMMUIZ12A6D4FBBFB|      2|SOMMUIZ12A6D4FBBFB|\n",
      "|235.41506|  -7.542| 0.3530323880368337|            25.069|SOTQEAO12A58A7727D|      2|SOTQEAO12A58A7727D|\n",
      "|295.60118|  -9.435|0.34240639110484233|            34.322|SOXNMDZ12A6D4FA20D|      2|SOXNMDZ12A6D4FA20D|\n",
      "| 281.7824|  -5.285| 0.3604367211291991|          32.39625|SOZPPLM12A8C1355A6|      2|SOZPPLM12A8C1355A6|\n",
      "|233.27302|  -2.658| 0.3224851056611973|           33.0055|SONSPZE12AB01819CE|      2|SONSPZE12AB01819CE|\n",
      "|266.39628|  -6.697|0.42270564102939107|          28.51025|SOUDSGM12AC9618304|      2|SOUDSGM12AC9618304|\n",
      "|254.79791|  -7.309| 0.3605835821516753|35.842999999999996|SODJUNF12A8C13337F|      2|SODJUNF12A8C13337F|\n",
      "|168.25424|  -9.616| 0.3796711247498673|          31.75625|SOBZBAZ12A6D4F8742|      2|SOBZBAZ12A6D4F8742|\n",
      "|289.01832|  -5.867| 0.4050846822383305|            39.487|SOQAUGD12A58A7A92D|      2|SOQAUGD12A58A7A92D|\n",
      "+---------+--------+-------------------+------------------+------------------+-------+------------------+\n",
      "only showing top 20 rows\n",
      "\n",
      "+---------+--------+-------------------+-----------------+------------------+-------+------------------+\n",
      "| duration|loudness|  artist_hotttnesss|            speed|            songID|Cluster|           song_id|\n",
      "+---------+--------+-------------------+-----------------+------------------+-------+------------------+\n",
      "|197.74649| -12.154| 0.3626778864128976|           26.416|SOVBANJ12AAFF444CF|      3|SOVBANJ12AAFF444CF|\n",
      "|100.07465| -10.151|0.35792986563853824|           31.192|SOAYOUE12AB01888A6|      3|SOAYOUE12AB01888A6|\n",
      "|443.24526| -13.002|  0.317833879200262|         11.38175|SOBLTSM12A6D4F9EEA|      3|SOBLTSM12A6D4F9EEA|\n",
      "|222.58893| -14.279|0.38655891186854663|         38.22975|SONWUSK12AB01837FD|      3|SONWUSK12AB01837FD|\n",
      "|157.83138| -13.542|0.32908249518603805|         44.90625|SOYHTLP12A6D4FC356|      3|SOYHTLP12A6D4FC356|\n",
      "|408.45016| -15.235| 0.3601030942605217|          31.4095|SOGIKFN12AC3DF7E39|      3|SOGIKFN12AC3DF7E39|\n",
      "| 321.2273| -11.711|0.42198684108588164|            41.98|SOKKLAD12A6D4FD1C0|      3|SOKKLAD12A6D4FD1C0|\n",
      "|164.80608| -10.922| 0.4182165181949368|           32.525|SOYTPEP12AB0180E7B|      3|SOYTPEP12AB0180E7B|\n",
      "|123.66322|  -11.41| 0.3220091389720069|18.72342857142857|SOAVASV12AB017BC9D|      3|SOAVASV12AB017BC9D|\n",
      "|187.76771| -16.306| 0.4667641767465296|         17.68275|SOHPKBJ12AB018C46F|      3|SOHPKBJ12AB018C46F|\n",
      "|298.84036|  -9.998|0.33750728916593725|         28.31925|SOVJXVJ12A8C13517D|      3|SOVJXVJ12A8C13517D|\n",
      "|127.05914| -12.772| 0.3794369722404727|         37.08925|SOFRUDU12A8C13A40C|      3|SOFRUDU12A8C13A40C|\n",
      "|315.01016| -14.421|0.44155249947078934|          42.1625|SONKSNV12A58A7F654|      3|SONKSNV12A58A7F654|\n",
      "|139.17995| -13.977| 0.3472092738802164|           31.289|SOJLHTN12A8AE4640D|      3|SOJLHTN12A8AE4640D|\n",
      "|244.97587| -13.546| 0.4110349653169088|         28.01075|SOXEAVH12AC468E47D|      3|SOXEAVH12AC468E47D|\n",
      "| 223.4771| -14.438| 0.3163540008222974|          28.0015|SOUVRGZ12A58A77F90|      3|SOUVRGZ12A58A77F90|\n",
      "|171.57179| -14.015| 0.4011160391881276|         31.87575|SOIGHOD12A8C13B5A1|      3|SOIGHOD12A8C13B5A1|\n",
      "|221.09995| -13.203|0.37915756278047574|         24.11775|SOTZRNR12AB01851A5|      3|SOTZRNR12AB01851A5|\n",
      "|156.99546| -11.756|0.41683089029878784|         45.56375|SOMWHOM12A8C1361DC|      3|SOMWHOM12A8C1361DC|\n",
      "|215.82322|  -9.738|0.40158676891964246|          20.1195|SOJROSW12A582A24EC|      3|SOJROSW12A582A24EC|\n",
      "+---------+--------+-------------------+-----------------+------------------+-------+------------------+\n",
      "only showing top 20 rows\n",
      "\n"
     ]
    }
   ],
   "source": [
    "cluster1.show()\n",
    "cluster2.show()\n",
    "cluster3.show()"
   ]
  },
  {
   "cell_type": "code",
   "execution_count": 194,
   "metadata": {},
   "outputs": [
    {
     "data": {
      "application/vnd.jupyter.widget-view+json": {
       "model_id": "",
       "version_major": 2,
       "version_minor": 0
      },
      "text/plain": [
       "FloatProgress(value=0.0, bar_style='info', description='Progress:', layout=Layout(height='25px', width='50%'),…"
      ]
     },
     "metadata": {},
     "output_type": "display_data"
    },
    {
     "name": "stdout",
     "output_type": "stream",
     "text": [
      "pred1: org.apache.spark.sql.Dataset[org.apache.spark.sql.Row] = [song_id: string, score: double]\n",
      "pred2: org.apache.spark.sql.Dataset[org.apache.spark.sql.Row] = [song_id: string, score: double]\n",
      "pred3: org.apache.spark.sql.Dataset[org.apache.spark.sql.Row] = [song_id: string, score: double]\n"
     ]
    }
   ],
   "source": [
    "val pred1 = cluster1.select($\"song_id\", abs($\"duration\"-song1(1)) + abs($\"loudness\"-song1(2)) + abs($\"artist_hotttnesss\"-song1(3)) + abs($\"speed\"-song1(4)) as \"score\").orderBy(asc(\"score\")).limit(4)\n",
    "val pred2 = cluster2.select($\"song_id\", abs($\"duration\"-song2(1)) + abs($\"loudness\"-song2(2)) + abs($\"artist_hotttnesss\"-song2(3)) + abs($\"speed\"-song2(4)) as \"score\").orderBy(asc(\"score\")).limit(4)\n",
    "val pred3 = cluster3.select($\"song_id\", abs($\"duration\"-song3(1)) + abs($\"loudness\"-song3(2)) + abs($\"artist_hotttnesss\"-song3(3)) + abs($\"speed\"-song3(4)) as \"score\").orderBy(asc(\"score\")).limit(4)\n"
   ]
  },
  {
   "cell_type": "code",
   "execution_count": 195,
   "metadata": {},
   "outputs": [
    {
     "data": {
      "application/vnd.jupyter.widget-view+json": {
       "model_id": "",
       "version_major": 2,
       "version_minor": 0
      },
      "text/plain": [
       "FloatProgress(value=0.0, bar_style='info', description='Progress:', layout=Layout(height='25px', width='50%'),…"
      ]
     },
     "metadata": {},
     "output_type": "display_data"
    },
    {
     "name": "stdout",
     "output_type": "stream",
     "text": [
      "+------------------+--------------------+\n",
      "|             score|               title|\n",
      "+------------------+--------------------+\n",
      "|2.8539483974013193|Let's Blame The L...|\n",
      "|2.3466424772432735|Catchafire (Whoop...|\n",
      "| 1.356718088949414|   Nails In My Hands|\n",
      "|               0.0|           Szex & KV|\n",
      "+------------------+--------------------+\n",
      "\n",
      "+------------------+--------------------+\n",
      "|             score|               title|\n",
      "+------------------+--------------------+\n",
      "|1.6397829300673092|      No son ariscas|\n",
      "|               0.0|The Plot to Kill ...|\n",
      "|1.7822073651316692|   Searched For Love|\n",
      "|2.0816843435720225|Australian & Anti...|\n",
      "+------------------+--------------------+\n",
      "\n",
      "+------------------+--------------------+\n",
      "|             score|               title|\n",
      "+------------------+--------------------+\n",
      "|               0.0|            Prophecy|\n",
      "| 2.733593793452652|Get Ready (1990 D...|\n",
      "|1.9609497045910425|           Frasulinu|\n",
      "|2.1914940013717827|         Yellow Moon|\n",
      "+------------------+--------------------+\n",
      "\n"
     ]
    }
   ],
   "source": [
    "\n",
    "pred1.join(msdf, pred1(\"song_id\")===msdf(\"song_id\")).select(\"score\", \"title\").show()\n",
    "pred2.join(msdf, pred2(\"song_id\")===msdf(\"song_id\")).select(\"score\", \"title\").show()\n",
    "pred3.join(msdf, pred3(\"song_id\")===msdf(\"song_id\")).select(\"score\", \"title\").show()"
   ]
  },
  {
   "cell_type": "code",
   "execution_count": null,
   "metadata": {},
   "outputs": [],
   "source": []
  }
 ],
 "metadata": {
  "kernelspec": {
   "display_name": "Spark",
   "language": "",
   "name": "sparkkernel"
  },
  "language_info": {
   "codemirror_mode": "text/x-scala",
   "mimetype": "text/x-scala",
   "name": "scala",
   "pygments_lexer": "scala"
  }
 },
 "nbformat": 4,
 "nbformat_minor": 4
}
