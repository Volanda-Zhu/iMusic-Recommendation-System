{
 "cells": [
  {
   "cell_type": "code",
   "execution_count": 1,
   "metadata": {},
   "outputs": [
    {
     "name": "stdout",
     "output_type": "stream",
     "text": [
      "Starting Spark application\n"
     ]
    },
    {
     "data": {
      "text/html": [
       "<table>\n",
       "<tr><th>ID</th><th>YARN Application ID</th><th>Kind</th><th>State</th><th>Spark UI</th><th>Driver log</th><th>Current session?</th></tr><tr><td>4</td><td>application_1607009916543_0005</td><td>spark</td><td>idle</td><td><a target=\"_blank\" href=\"http://ip-172-31-92-7.ec2.internal:20888/proxy/application_1607009916543_0005/\">Link</a></td><td><a target=\"_blank\" href=\"http://ip-172-31-94-154.ec2.internal:8042/node/containerlogs/container_1607009916543_0005_01_000001/livy\">Link</a></td><td>✔</td></tr></table>"
      ],
      "text/plain": [
       "<IPython.core.display.HTML object>"
      ]
     },
     "metadata": {},
     "output_type": "display_data"
    },
    {
     "data": {
      "application/vnd.jupyter.widget-view+json": {
       "model_id": "",
       "version_major": 2,
       "version_minor": 0
      },
      "text/plain": [
       "FloatProgress(value=0.0, bar_style='info', description='Progress:', layout=Layout(height='25px', width='50%'),…"
      ]
     },
     "metadata": {},
     "output_type": "display_data"
    },
    {
     "name": "stdout",
     "output_type": "stream",
     "text": [
      "SparkSession available as 'spark'.\n"
     ]
    },
    {
     "data": {
      "application/vnd.jupyter.widget-view+json": {
       "model_id": "",
       "version_major": 2,
       "version_minor": 0
      },
      "text/plain": [
       "FloatProgress(value=0.0, bar_style='info', description='Progress:', layout=Layout(height='25px', width='50%'),…"
      ]
     },
     "metadata": {},
     "output_type": "display_data"
    },
    {
     "name": "stdout",
     "output_type": "stream",
     "text": [
      "import org.apache.spark.mllib.linalg.Vectors\n",
      "import org.apache.spark.mllib.clustering.KMeans\n",
      "import org.apache.spark.sql.functions._\n",
      "import org.apache.spark.sql.functions.abs\n",
      "import org.apache.spark.sql.Row\n",
      "import org.apache.spark.sql.functions.{min, max, lit}\n",
      "import org.apache.spark.sql.SQLContext\n",
      "import org.apache.spark.sql.types.{IntegerType, StructField, StructType, StringType, DoubleType}\n",
      "warning: there was one deprecation warning; re-run with -deprecation for details\n",
      "sqlContext: org.apache.spark.sql.SQLContext = org.apache.spark.sql.SQLContext@53936c7f\n"
     ]
    }
   ],
   "source": [
    "import org.apache.spark.mllib.linalg.Vectors\n",
    "import org.apache.spark.mllib.clustering.KMeans\n",
    "import org.apache.spark.sql.functions._\n",
    "import org.apache.spark.sql.functions.abs\n",
    "import org.apache.spark.sql.Row\n",
    "import org.apache.spark.sql.functions.{min, max, lit}\n",
    "import org.apache.spark.sql.SQLContext\n",
    "import org.apache.spark.sql.types.{ IntegerType, StructField, StructType, StringType, DoubleType}\n",
    "val sqlContext = new SQLContext(sc)"
   ]
  },
  {
   "cell_type": "code",
   "execution_count": 2,
   "metadata": {},
   "outputs": [
    {
     "data": {
      "application/vnd.jupyter.widget-view+json": {
       "model_id": "",
       "version_major": 2,
       "version_minor": 0
      },
      "text/plain": [
       "FloatProgress(value=0.0, bar_style='info', description='Progress:', layout=Layout(height='25px', width='50%'),…"
      ]
     },
     "metadata": {},
     "output_type": "display_data"
    },
    {
     "name": "stdout",
     "output_type": "stream",
     "text": [
      "schema: org.apache.spark.sql.types.StructType = StructType(StructField(artist_familiarity,DoubleType,true), StructField(artist_hotttnesss,DoubleType,true), StructField(artist_id,StringType,true), StructField(artist_location,StringType,true), StructField(artist_mbtags,StringType,true), StructField(artist_mbtags_count,StringType,true), StructField(artist_name,StringType,true), StructField(artist_terms,StringType,true), StructField(artist_terms_freq,StringType,true), StructField(artist_terms_weight,StringType,true), StructField(danceability,DoubleType,true), StructField(duration,DoubleType,true), StructField(end_of_fade_in,DoubleType,true), StructField(energy,DoubleType,true), StructField(key,DoubleType,true), StructField(key_confidence,DoubleType,true), StructField(loudness,DoubleType,tru..."
     ]
    }
   ],
   "source": [
    "val schema = new StructType().\n",
    "add(\"artist_familiarity\",DoubleType,true).\n",
    "add(\"artist_hotttnesss\",DoubleType,true).\n",
    "add(\"artist_id\",StringType,true).\n",
    "add(\"artist_location\",StringType,true).\n",
    "add(\"artist_mbtags\",StringType,true).\n",
    "add(\"artist_mbtags_count\",StringType,true).\n",
    "add(\"artist_name\",StringType,true).\n",
    "add(\"artist_terms\",StringType,true).\n",
    "add(\"artist_terms_freq\",StringType,true).\n",
    "add(\"artist_terms_weight\",StringType,true).\n",
    "add(\"danceability\",DoubleType,true).\n",
    "add(\"duration\",DoubleType,true).\n",
    "add(\"end_of_fade_in\",DoubleType,true).\n",
    "add(\"energy\",DoubleType,true).\n",
    "add(\"key\",DoubleType,true).\n",
    "add(\"key_confidence\",DoubleType,true).\n",
    "add(\"loudness\",DoubleType,true).\n",
    "add(\"mode\",DoubleType,true).\n",
    "add(\"mode_confidence\",DoubleType,true).\n",
    "add(\"release\",StringType,true).\n",
    "add(\"segments_confidence\",StringType,true).\n",
    "add(\"segments_loudness_max\",StringType,true).\n",
    "add(\"segments_loudness_max_time\",StringType,true).\n",
    "add(\"segments_pitches\",StringType,true).\n",
    "add(\"segments_timbre\",StringType,true).\n",
    "add(\"similar_artists\",StringType,true).\n",
    "add(\"song_hotttnesss\",DoubleType,true).\n",
    "add(\"song_id\",StringType,true).\n",
    "add(\"start_of_fade_out\",DoubleType,true).\n",
    "add(\"tempo\",DoubleType,true).\n",
    "add(\"time_signature\",IntegerType,true).\n",
    "add(\"time_signature_confidence\",DoubleType,true).\n",
    "add(\"title\",StringType,true).\n",
    "add(\"track_id\",StringType,true).\n",
    "add(\"year\",IntegerType,true)"
   ]
  },
  {
   "cell_type": "code",
   "execution_count": 3,
   "metadata": {},
   "outputs": [
    {
     "data": {
      "application/vnd.jupyter.widget-view+json": {
       "model_id": "",
       "version_major": 2,
       "version_minor": 0
      },
      "text/plain": [
       "FloatProgress(value=0.0, bar_style='info', description='Progress:', layout=Layout(height='25px', width='50%'),…"
      ]
     },
     "metadata": {},
     "output_type": "display_data"
    },
    {
     "name": "stdout",
     "output_type": "stream",
     "text": [
      "msdf: org.apache.spark.sql.DataFrame = [artist_familiarity: double, artist_hotttnesss: double ... 33 more fields]\n"
     ]
    }
   ],
   "source": [
    "val msdf = sqlContext.read.format(\"com.databricks.spark.csv\").\n",
    "option(\"header\", \"false\").\n",
    "option(\"delimiter\", \"\\t\").\n",
    "option(\"inferSchema\", \"false\").\n",
    "schema(schema).load(\"s3://millionsongprocessed/*.tsv\")"
   ]
  },
  {
   "cell_type": "code",
   "execution_count": 4,
   "metadata": {},
   "outputs": [
    {
     "data": {
      "application/vnd.jupyter.widget-view+json": {
       "model_id": "",
       "version_major": 2,
       "version_minor": 0
      },
      "text/plain": [
       "FloatProgress(value=0.0, bar_style='info', description='Progress:', layout=Layout(height='25px', width='50%'),…"
      ]
     },
     "metadata": {},
     "output_type": "display_data"
    },
    {
     "name": "stdout",
     "output_type": "stream",
     "text": [
      "usdf: org.apache.spark.sql.DataFrame = [_c0: string, _c1: string ... 1 more field]\n"
     ]
    }
   ],
   "source": [
    "val usdf= sqlContext.read.format(\"com.databricks.spark.csv\").\n",
    "option(\"header\",\"false\").\n",
    "option(\"delimiter\", \"\\t\").\n",
    "load(\"s3://millionsongprocessed/train_triplets.txt\")"
   ]
  },
  {
   "cell_type": "code",
   "execution_count": 5,
   "metadata": {},
   "outputs": [
    {
     "data": {
      "application/vnd.jupyter.widget-view+json": {
       "model_id": "",
       "version_major": 2,
       "version_minor": 0
      },
      "text/plain": [
       "FloatProgress(value=0.0, bar_style='info', description='Progress:', layout=Layout(height='25px', width='50%'),…"
      ]
     },
     "metadata": {},
     "output_type": "display_data"
    },
    {
     "name": "stdout",
     "output_type": "stream",
     "text": [
      "list: List[String] = List(user_id, SongId, PlayCount)\n",
      "import spark.implicits._\n",
      "usdf2: org.apache.spark.sql.DataFrame = [user_id: string, SongId: string ... 1 more field]\n"
     ]
    }
   ],
   "source": [
    "val list = List(\"user_id\", \"SongId\", \"PlayCount\")\n",
    "import spark.implicits._\n",
    "val usdf2 = usdf.toDF(list:_*)"
   ]
  },
  {
   "cell_type": "code",
   "execution_count": 6,
   "metadata": {},
   "outputs": [
    {
     "data": {
      "application/vnd.jupyter.widget-view+json": {
       "model_id": "",
       "version_major": 2,
       "version_minor": 0
      },
      "text/plain": [
       "FloatProgress(value=0.0, bar_style='info', description='Progress:', layout=Layout(height='25px', width='50%'),…"
      ]
     },
     "metadata": {},
     "output_type": "display_data"
    },
    {
     "name": "stdout",
     "output_type": "stream",
     "text": [
      "msdf2: org.apache.spark.sql.DataFrame = [artist_familiarity: double, artist_hotttnesss: double ... 33 more fields]\n",
      "msdf3: org.apache.spark.sql.DataFrame = [artist_familiarity: double, duration: double ... 6 more fields]\n",
      "msdf4: org.apache.spark.sql.DataFrame = [artist_familiarity: double, duration: double ... 6 more fields]\n",
      "msdf6: org.apache.spark.sql.DataFrame = [artist_familiarity: double, duration: double ... 6 more fields]\n"
     ]
    }
   ],
   "source": [
    "// 'artist familiarity', 'artist hotttnesss', 'danceability',\n",
    "//        'duration', 'end of fade in', 'energy', 'key', 'key confidence',\n",
    "//        'loudness', 'mode', 'mode confidence', 'song hotttnesss',\n",
    "//        'start of fade out', 'tempo', 'time signature',\n",
    "//        'time signature confidence', 'year'\n",
    "\n",
    "var msdf2 = msdf.withColumn(\"time_signature\", when(col(\"time_signature_confidence\")<0.5, 4).otherwise(col(\"time_signature\")))\n",
    "val msdf3 = msdf2.select($\"artist_familiarity\",$\"duration\",$\"key\", $\"key_confidence\", \n",
    "                         $\"loudness\",$\"mode\", $\"tempo\"/$\"time_signature\" as \"speed\", $\"song_id\")\n",
    "var msdf4 = msdf3.na.drop()\n",
    "val msdf6 = msdf4.withColumnRenamed(\"song_id\",\"songID\")"
   ]
  },
  {
   "cell_type": "code",
   "execution_count": 12,
   "metadata": {},
   "outputs": [
    {
     "data": {
      "application/vnd.jupyter.widget-view+json": {
       "model_id": "",
       "version_major": 2,
       "version_minor": 0
      },
      "text/plain": [
       "FloatProgress(value=0.0, bar_style='info', description='Progress:', layout=Layout(height='25px', width='50%'),…"
      ]
     },
     "metadata": {},
     "output_type": "display_data"
    },
    {
     "name": "stdout",
     "output_type": "stream",
     "text": [
      "topfeats: org.apache.spark.sql.Dataset[org.apache.spark.sql.Row] = [user_id: string, SongId: string ... 9 more fields]\n",
      "+--------------------+------------------+---------+-------------------+---------+----+--------------+--------+----+-----------------+------------------+\n",
      "|             user_id|            SongId|PlayCount| artist_familiarity| duration| key|key_confidence|loudness|mode|            speed|            songID|\n",
      "+--------------------+------------------+---------+-------------------+---------+----+--------------+--------+----+-----------------+------------------+\n",
      "|92183d278210b8db1...|SOWEHOM12A6BD4E09E|       99| 0.5761477032059182|182.88281|10.0|         0.725| -12.812| 1.0|            36.83|SOWEHOM12A6BD4E09E|\n",
      "|296634d2ac9b9524a...|SODDHOE12A58A7AC2F|       99| 0.6041098708079196|172.82567| 0.0|         0.565| -14.026| 0.0|         25.06525|SODDHOE12A58A7AC2F|\n",
      "|73042a8a6394fd867...|SOWEHOM12A6BD4E09E|       99| 0.5761477032059182|182.88281|10.0|         0.725| -12.812| 1.0|            36.83|SOWEHOM12A6BD4E09E|\n",
      "|339f236a757ac4086...|SOZSSHN12A8C146003|       99| 0.7294657410803518|322.40281| 9.0|          0.53|   -9.34| 0.0|         45.00225|SOZSSHN12A8C146003|\n",
      "|a0f21949f9c5b1fb1...|SOTIOJL12AB0184943|       99|  0.718068955556776|211.64363| 2.0|         0.578|  -8.426| 1.0|36.75566666666666|SOTIOJL12AB0184943|\n",
      "|3932482af863c8cc5...|SOFLJQZ12A6D4FADA6|       99| 0.6290971582577704|  127.242| 9.0|           0.0| -14.299| 1.0|            45.58|SOFLJQZ12A6D4FADA6|\n",
      "|c49a0355731ad35e6...|SODSUQP12AB0180FAE|       99| 0.6098197611515211|227.05587| 0.0|         0.352|  -3.511| 1.0|          31.4445|SODSUQP12AB0180FAE|\n",
      "|eb8d9b191f72c5bba...|SOVMOPY12A8AE45F65|       99| 0.4717339277537315|205.50485| 7.0|         0.659| -11.085| 1.0|            24.56|SOVMOPY12A8AE45F65|\n",
      "|1a1583d9bf7db9e7b...|SOEFTHE12A6D4FA79D|       99| 0.7062289233319146|266.26567| 7.0|         0.903| -11.188| 1.0|          20.8455|SOEFTHE12A6D4FA79D|\n",
      "|2a97d721750cb8785...|SOUHXGP12A8C13FDD3|       99| 0.7523647196316754|241.03138| 8.0|         0.472|  -9.731| 1.0|          37.9235|SOUHXGP12A8C13FDD3|\n",
      "|1764daf9949ad3e9b...|SOZIOED12AB018102A|       99| 0.6653200948181356|193.54077| 8.0|          0.21|  -6.186| 1.0|         35.50275|SOZIOED12AB018102A|\n",
      "|8258f2ba7b97412a0...|SOYDVKI12A6D4F848E|       99| 0.5408813491958131|214.33424| 6.0|         0.381|  -9.817| 0.0|         28.61775|SOYDVKI12A6D4F848E|\n",
      "|792ee2e1cee612a77...|SOHFGKG12A6701C429|       99| 0.7656664079340161|298.78812| 7.0|         0.743|  -8.374| 1.0|         24.48325|SOHFGKG12A6701C429|\n",
      "|4ab043941a94f86c1...|SOPSOHT12A67AE0235|       99| 0.6253428981418713|270.75873| 0.0|         0.031|  -7.593| 1.0|           33.997|SOPSOHT12A67AE0235|\n",
      "|2d692f0c7eb6480bf...|SOXAYEX12AF72A6225|       99|  0.989938569657492|247.09179| 1.0|         0.202|  -8.802| 0.0|           40.599|SOXAYEX12AF72A6225|\n",
      "|be047d168ac63873c...|SOXPAGX12AB01824A2|       99| 0.7462934406561602|253.64853| 0.0|         0.242|  -6.283| 1.0|          26.0125|SOXPAGX12AB01824A2|\n",
      "|da46f8879e088aec9...|SOPSOHT12A67AE0235|       99| 0.6253428981418713|270.75873| 0.0|         0.031|  -7.593| 1.0|           33.997|SOPSOHT12A67AE0235|\n",
      "|50446563c37ad9659...|SOGBAVY12AB01813DE|       99|0.47379718339584415|261.19791| 0.0|         0.594| -12.654| 0.0|           32.924|SOGBAVY12AB01813DE|\n",
      "|c6fa14cca529533c0...|SOMHZZW12AB017CB56|       99| 0.5836490777229153|296.01914| 4.0|         0.636|  -6.062| 0.0|         32.51175|SOMHZZW12AB017CB56|\n",
      "|8293dbd13fb74c5b6...|SOVAEBW12AB0182CE6|       99|0.42742387715587404|246.38649| 4.0|         0.388|  -6.924| 1.0|           24.045|SOVAEBW12AB0182CE6|\n",
      "+--------------------+------------------+---------+-------------------+---------+----+--------------+--------+----+-----------------+------------------+\n",
      "only showing top 20 rows\n",
      "\n"
     ]
    }
   ],
   "source": [
    "val topfeats = usdf2.join(msdf6, usdf2(\"SongId\")===msdf6(\"songID\")).orderBy(desc(\"PlayCount\"))\n",
    "topfeats.show()"
   ]
  },
  {
   "cell_type": "code",
   "execution_count": 13,
   "metadata": {},
   "outputs": [
    {
     "data": {
      "application/vnd.jupyter.widget-view+json": {
       "model_id": "",
       "version_major": 2,
       "version_minor": 0
      },
      "text/plain": [
       "FloatProgress(value=0.0, bar_style='info', description='Progress:', layout=Layout(height='25px', width='50%'),…"
      ]
     },
     "metadata": {},
     "output_type": "display_data"
    },
    {
     "name": "stdout",
     "output_type": "stream",
     "text": [
      "tf: Array[org.apache.spark.sql.Row] = Array([792ee2e1cee612a77f0ae01b909cb5125fee2e06,SOHFGKG12A6701C429,99,0.7656664079340161,298.78812,7.0,0.743,-8.374,1.0,24.48325,SOHFGKG12A6701C429], [2d692f0c7eb6480bfb473227060b1294ff0a64f5,SOXAYEX12AF72A6225,99,0.989938569657492,247.09179,1.0,0.202,-8.802,0.0,40.599,SOXAYEX12AF72A6225], [1764daf9949ad3e9bc1b7db90a97336372289934,SOZIOED12AB018102A,99,0.6653200948181356,193.54077,8.0,0.21,-6.186,1.0,35.50275,SOZIOED12AB018102A])\n"
     ]
    }
   ],
   "source": [
    "val tf = topfeats.head(3)"
   ]
  },
  {
   "cell_type": "code",
   "execution_count": 17,
   "metadata": {},
   "outputs": [
    {
     "data": {
      "application/vnd.jupyter.widget-view+json": {
       "model_id": "",
       "version_major": 2,
       "version_minor": 0
      },
      "text/plain": [
       "FloatProgress(value=0.0, bar_style='info', description='Progress:', layout=Layout(height='25px', width='50%'),…"
      ]
     },
     "metadata": {},
     "output_type": "display_data"
    },
    {
     "name": "stdout",
     "output_type": "stream",
     "text": [
      "+--------------------+---------+--------------+\n",
      "|               title| duration|key_confidence|\n",
      "+--------------------+---------+--------------+\n",
      "|Find My Way Back ...|146.70322|         0.678|\n",
      "|        Silent Night|137.97832|         0.524|\n",
      "|           In A Tree|150.22975|          0.65|\n",
      "|               Dream|211.64363|         0.578|\n",
      "+--------------------+---------+--------------+\n",
      "\n"
     ]
    }
   ],
   "source": [
    "msdf2.filter(\"artist_familiarity=0.718068955556776\").select(\"title\", \"duration\", \"key_confidence\").show()"
   ]
  },
  {
   "cell_type": "code",
   "execution_count": null,
   "metadata": {},
   "outputs": [],
   "source": []
  }
 ],
 "metadata": {
  "kernelspec": {
   "display_name": "Spark",
   "language": "",
   "name": "sparkkernel"
  },
  "language_info": {
   "codemirror_mode": "text/x-scala",
   "mimetype": "text/x-scala",
   "name": "scala",
   "pygments_lexer": "scala"
  }
 },
 "nbformat": 4,
 "nbformat_minor": 4
}
